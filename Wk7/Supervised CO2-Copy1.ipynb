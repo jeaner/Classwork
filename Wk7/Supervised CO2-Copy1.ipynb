{
 "cells": [
  {
   "cell_type": "code",
   "execution_count": 44,
   "metadata": {
    "collapsed": false
   },
   "outputs": [
    {
     "data": {
      "text/html": [
       "<table>\n",
       "<thead><tr><th scope=col>Plant</th><th scope=col>Type</th><th scope=col>Treatment</th><th scope=col>conc</th><th scope=col>uptake</th></tr></thead>\n",
       "<tbody>\n",
       "\t<tr><td>Qn1       </td><td>Quebec    </td><td>nonchilled</td><td> 95       </td><td>16.0      </td></tr>\n",
       "\t<tr><td>Qn1       </td><td>Quebec    </td><td>nonchilled</td><td>175       </td><td>30.4      </td></tr>\n",
       "\t<tr><td>Qn1       </td><td>Quebec    </td><td>nonchilled</td><td>250       </td><td>34.8      </td></tr>\n",
       "\t<tr><td>Qn1       </td><td>Quebec    </td><td>nonchilled</td><td>350       </td><td>37.2      </td></tr>\n",
       "\t<tr><td>Qn1       </td><td>Quebec    </td><td>nonchilled</td><td>500       </td><td>35.3      </td></tr>\n",
       "\t<tr><td>Qn1       </td><td>Quebec    </td><td>nonchilled</td><td>675       </td><td>39.2      </td></tr>\n",
       "</tbody>\n",
       "</table>\n"
      ],
      "text/latex": [
       "\\begin{tabular}{r|lllll}\n",
       " Plant & Type & Treatment & conc & uptake\\\\\n",
       "\\hline\n",
       "\t Qn1        & Quebec     & nonchilled &  95        & 16.0      \\\\\n",
       "\t Qn1        & Quebec     & nonchilled & 175        & 30.4      \\\\\n",
       "\t Qn1        & Quebec     & nonchilled & 250        & 34.8      \\\\\n",
       "\t Qn1        & Quebec     & nonchilled & 350        & 37.2      \\\\\n",
       "\t Qn1        & Quebec     & nonchilled & 500        & 35.3      \\\\\n",
       "\t Qn1        & Quebec     & nonchilled & 675        & 39.2      \\\\\n",
       "\\end{tabular}\n"
      ],
      "text/markdown": [
       "\n",
       "Plant | Type | Treatment | conc | uptake | \n",
       "|---|---|---|---|---|---|\n",
       "| Qn1        | Quebec     | nonchilled |  95        | 16.0       | \n",
       "| Qn1        | Quebec     | nonchilled | 175        | 30.4       | \n",
       "| Qn1        | Quebec     | nonchilled | 250        | 34.8       | \n",
       "| Qn1        | Quebec     | nonchilled | 350        | 37.2       | \n",
       "| Qn1        | Quebec     | nonchilled | 500        | 35.3       | \n",
       "| Qn1        | Quebec     | nonchilled | 675        | 39.2       | \n",
       "\n",
       "\n"
      ],
      "text/plain": [
       "  Plant Type   Treatment  conc uptake\n",
       "1 Qn1   Quebec nonchilled  95  16.0  \n",
       "2 Qn1   Quebec nonchilled 175  30.4  \n",
       "3 Qn1   Quebec nonchilled 250  34.8  \n",
       "4 Qn1   Quebec nonchilled 350  37.2  \n",
       "5 Qn1   Quebec nonchilled 500  35.3  \n",
       "6 Qn1   Quebec nonchilled 675  39.2  "
      ]
     },
     "metadata": {},
     "output_type": "display_data"
    }
   ],
   "source": [
    "head(CO2)"
   ]
  },
  {
   "cell_type": "code",
   "execution_count": 45,
   "metadata": {
    "collapsed": false
   },
   "outputs": [
    {
     "data": {
      "text/plain": [
       "     Plant             Type         Treatment       conc          uptake     \n",
       " Qn1    : 7   Quebec     :42   nonchilled:42   Min.   :  95   Min.   : 7.70  \n",
       " Qn2    : 7   Mississippi:42   chilled   :42   1st Qu.: 175   1st Qu.:17.90  \n",
       " Qn3    : 7                                    Median : 350   Median :28.30  \n",
       " Qc1    : 7                                    Mean   : 435   Mean   :27.21  \n",
       " Qc3    : 7                                    3rd Qu.: 675   3rd Qu.:37.12  \n",
       " Qc2    : 7                                    Max.   :1000   Max.   :45.50  \n",
       " (Other):42                                                                  "
      ]
     },
     "metadata": {},
     "output_type": "display_data"
    }
   ],
   "source": [
    "summary(CO2)"
   ]
  },
  {
   "cell_type": "code",
   "execution_count": 46,
   "metadata": {
    "collapsed": false
   },
   "outputs": [],
   "source": [
    "library(ggvis)"
   ]
  },
  {
   "cell_type": "code",
   "execution_count": 50,
   "metadata": {
    "collapsed": false
   },
   "outputs": [
    {
     "data": {},
     "metadata": {},
     "output_type": "display_data"
    }
   ],
   "source": [
    "CO2 %>% ggvis(~conc, ~uptake, fill=~Type) %>%layer_points()"
   ]
  },
  {
   "cell_type": "code",
   "execution_count": 51,
   "metadata": {
    "collapsed": false
   },
   "outputs": [
    {
     "data": {},
     "metadata": {},
     "output_type": "display_data"
    }
   ],
   "source": [
    "CO2 %>% ggvis(~conc, ~uptake, fill=~Treatment) %>%layer_points()"
   ]
  },
  {
   "cell_type": "code",
   "execution_count": null,
   "metadata": {
    "collapsed": true
   },
   "outputs": [],
   "source": []
  },
  {
   "cell_type": "code",
   "execution_count": 52,
   "metadata": {
    "collapsed": false
   },
   "outputs": [],
   "source": [
    "library(class)"
   ]
  },
  {
   "cell_type": "code",
   "execution_count": 53,
   "metadata": {
    "collapsed": true
   },
   "outputs": [],
   "source": [
    "set.seed(3465)"
   ]
  },
  {
   "cell_type": "code",
   "execution_count": 54,
   "metadata": {
    "collapsed": true
   },
   "outputs": [],
   "source": [
    "ind <- sample(2, nrow(CO2), replace=TRUE, prob=c(0.8, 0.2))"
   ]
  },
  {
   "cell_type": "code",
   "execution_count": 57,
   "metadata": {
    "collapsed": false
   },
   "outputs": [],
   "source": [
    "CO2Train <- CO2[ind==1, 4:5]\n",
    "CO2Test <- CO2[ind==2, 4:5]\n",
    "CO2TrainLabels <- CO2[ind==1, 2]\n",
    "CO2TestLabels <- CO2[ind==2, 2]\n"
   ]
  },
  {
   "cell_type": "code",
   "execution_count": 58,
   "metadata": {
    "collapsed": false
   },
   "outputs": [],
   "source": [
    "CO2_pred <- knn(train=CO2Train, test=CO2Test, cl=CO2TrainLabels, k=3)"
   ]
  },
  {
   "cell_type": "code",
   "execution_count": 59,
   "metadata": {
    "collapsed": false
   },
   "outputs": [
    {
     "data": {
      "text/html": [
       "<ol class=list-inline>\n",
       "\t<li>Quebec</li>\n",
       "\t<li>Quebec</li>\n",
       "\t<li>Quebec</li>\n",
       "\t<li>Mississippi</li>\n",
       "\t<li>Quebec</li>\n",
       "\t<li>Mississippi</li>\n",
       "\t<li>Quebec</li>\n",
       "\t<li>Quebec</li>\n",
       "\t<li>Mississippi</li>\n",
       "\t<li>Mississippi</li>\n",
       "\t<li>Quebec</li>\n",
       "\t<li>Mississippi</li>\n",
       "\t<li>Mississippi</li>\n",
       "</ol>\n"
      ],
      "text/latex": [
       "\\begin{enumerate*}\n",
       "\\item Quebec\n",
       "\\item Quebec\n",
       "\\item Quebec\n",
       "\\item Mississippi\n",
       "\\item Quebec\n",
       "\\item Mississippi\n",
       "\\item Quebec\n",
       "\\item Quebec\n",
       "\\item Mississippi\n",
       "\\item Mississippi\n",
       "\\item Quebec\n",
       "\\item Mississippi\n",
       "\\item Mississippi\n",
       "\\end{enumerate*}\n"
      ],
      "text/markdown": [
       "1. Quebec\n",
       "2. Quebec\n",
       "3. Quebec\n",
       "4. Mississippi\n",
       "5. Quebec\n",
       "6. Mississippi\n",
       "7. Quebec\n",
       "8. Quebec\n",
       "9. Mississippi\n",
       "10. Mississippi\n",
       "11. Quebec\n",
       "12. Mississippi\n",
       "13. Mississippi\n",
       "\n",
       "\n"
      ],
      "text/plain": [
       " [1] Quebec      Quebec      Quebec      Mississippi Quebec      Mississippi\n",
       " [7] Quebec      Quebec      Mississippi Mississippi Quebec      Mississippi\n",
       "[13] Mississippi\n",
       "Levels: Quebec Mississippi"
      ]
     },
     "metadata": {},
     "output_type": "display_data"
    }
   ],
   "source": [
    "CO2_pred"
   ]
  },
  {
   "cell_type": "code",
   "execution_count": 60,
   "metadata": {
    "collapsed": false
   },
   "outputs": [],
   "source": [
    "library(gmodels)"
   ]
  },
  {
   "cell_type": "code",
   "execution_count": 61,
   "metadata": {
    "collapsed": false
   },
   "outputs": [
    {
     "name": "stdout",
     "output_type": "stream",
     "text": [
      "\n",
      " \n",
      "   Cell Contents\n",
      "|-------------------------|\n",
      "|                       N |\n",
      "|-------------------------|\n",
      "\n",
      " \n",
      "Total Observations in Table:  13 \n",
      "\n",
      " \n",
      "              | CO2_pred \n",
      "CO2TestLabels |      Quebec | Mississippi |   Row Total | \n",
      "--------------|-------------|-------------|-------------|\n",
      "       Quebec |           4 |           1 |           5 | \n",
      "--------------|-------------|-------------|-------------|\n",
      "  Mississippi |           3 |           5 |           8 | \n",
      "--------------|-------------|-------------|-------------|\n",
      " Column Total |           7 |           6 |          13 | \n",
      "--------------|-------------|-------------|-------------|\n",
      "\n",
      " \n"
     ]
    }
   ],
   "source": [
    "CrossTable(x=CO2TestLabels, y=CO2_pred, prop.chisq=F, prop.r=F, prop.c=F, prop.t=F)"
   ]
  },
  {
   "cell_type": "code",
   "execution_count": 64,
   "metadata": {
    "collapsed": false
   },
   "outputs": [],
   "source": [
    "library(caret)"
   ]
  },
  {
   "cell_type": "code",
   "execution_count": 65,
   "metadata": {
    "collapsed": true
   },
   "outputs": [],
   "source": [
    "set.seed(3256)"
   ]
  },
  {
   "cell_type": "code",
   "execution_count": 67,
   "metadata": {
    "collapsed": false
   },
   "outputs": [],
   "source": [
    "trainIndex <- createDataPartition(CO2$Type, p=0.8, list=F, times=1)"
   ]
  },
  {
   "cell_type": "code",
   "execution_count": 68,
   "metadata": {
    "collapsed": false
   },
   "outputs": [
    {
     "data": {
      "text/html": [
       "<table>\n",
       "<thead><tr><th scope=col>Resample1</th></tr></thead>\n",
       "<tbody>\n",
       "\t<tr><td>1</td></tr>\n",
       "\t<tr><td>3</td></tr>\n",
       "\t<tr><td>4</td></tr>\n",
       "\t<tr><td>5</td></tr>\n",
       "\t<tr><td>6</td></tr>\n",
       "\t<tr><td>7</td></tr>\n",
       "</tbody>\n",
       "</table>\n"
      ],
      "text/latex": [
       "\\begin{tabular}{l}\n",
       " Resample1\\\\\n",
       "\\hline\n",
       "\t 1\\\\\n",
       "\t 3\\\\\n",
       "\t 4\\\\\n",
       "\t 5\\\\\n",
       "\t 6\\\\\n",
       "\t 7\\\\\n",
       "\\end{tabular}\n"
      ],
      "text/markdown": [
       "\n",
       "Resample1 | \n",
       "|---|---|---|---|---|---|\n",
       "| 1 | \n",
       "| 3 | \n",
       "| 4 | \n",
       "| 5 | \n",
       "| 6 | \n",
       "| 7 | \n",
       "\n",
       "\n"
      ],
      "text/plain": [
       "     Resample1\n",
       "[1,] 1        \n",
       "[2,] 3        \n",
       "[3,] 4        \n",
       "[4,] 5        \n",
       "[5,] 6        \n",
       "[6,] 7        "
      ]
     },
     "metadata": {},
     "output_type": "display_data"
    }
   ],
   "source": [
    "head(trainIndex)"
   ]
  },
  {
   "cell_type": "code",
   "execution_count": 69,
   "metadata": {
    "collapsed": true
   },
   "outputs": [],
   "source": [
    "CO2Train <- CO2[trainIndex]"
   ]
  },
  {
   "cell_type": "code",
   "execution_count": 70,
   "metadata": {
    "collapsed": true
   },
   "outputs": [],
   "source": [
    "CO2Test <- CO2[-trainIndex]"
   ]
  },
  {
   "cell_type": "code",
   "execution_count": 71,
   "metadata": {
    "collapsed": true
   },
   "outputs": [],
   "source": [
    "normalize <- function(x) {\n",
    "     num <- x - min(x)\n",
    "     denom <- max(x) - min(x)\n",
    "     return (num/denom)\n",
    " }\n"
   ]
  },
  {
   "cell_type": "code",
   "execution_count": 74,
   "metadata": {
    "collapsed": false
   },
   "outputs": [],
   "source": [
    "CO2_x <- as.data.frame(lapply(CO2[4:5], normalize))"
   ]
  },
  {
   "cell_type": "code",
   "execution_count": 75,
   "metadata": {
    "collapsed": false
   },
   "outputs": [
    {
     "data": {
      "text/plain": [
       "     Plant             Type         Treatment       conc          uptake     \n",
       " Qn1    : 7   Quebec     :42   nonchilled:42   Min.   :  95   Min.   : 7.70  \n",
       " Qn2    : 7   Mississippi:42   chilled   :42   1st Qu.: 175   1st Qu.:17.90  \n",
       " Qn3    : 7                                    Median : 350   Median :28.30  \n",
       " Qc1    : 7                                    Mean   : 435   Mean   :27.21  \n",
       " Qc3    : 7                                    3rd Qu.: 675   3rd Qu.:37.12  \n",
       " Qc2    : 7                                    Max.   :1000   Max.   :45.50  \n",
       " (Other):42                                                                  "
      ]
     },
     "metadata": {},
     "output_type": "display_data"
    }
   ],
   "source": [
    "summary(CO2)"
   ]
  },
  {
   "cell_type": "code",
   "execution_count": 76,
   "metadata": {
    "collapsed": false
   },
   "outputs": [
    {
     "data": {
      "text/plain": [
       "      conc            uptake      \n",
       " Min.   :0.0000   Min.   :0.0000  \n",
       " 1st Qu.:0.0884   1st Qu.:0.2698  \n",
       " Median :0.2818   Median :0.5450  \n",
       " Mean   :0.3757   Mean   :0.5162  \n",
       " 3rd Qu.:0.6409   3rd Qu.:0.7784  \n",
       " Max.   :1.0000   Max.   :1.0000  "
      ]
     },
     "metadata": {},
     "output_type": "display_data"
    }
   ],
   "source": [
    "summary(CO2_x)"
   ]
  },
  {
   "cell_type": "code",
   "execution_count": null,
   "metadata": {
    "collapsed": true
   },
   "outputs": [],
   "source": []
  },
  {
   "cell_type": "code",
   "execution_count": null,
   "metadata": {
    "collapsed": true
   },
   "outputs": [],
   "source": []
  }
 ],
 "metadata": {
  "kernelspec": {
   "display_name": "R",
   "language": "R",
   "name": "ir"
  },
  "language_info": {
   "codemirror_mode": "r",
   "file_extension": ".r",
   "mimetype": "text/x-r-source",
   "name": "R",
   "pygments_lexer": "r",
   "version": "3.3.2"
  }
 },
 "nbformat": 4,
 "nbformat_minor": 2
}
