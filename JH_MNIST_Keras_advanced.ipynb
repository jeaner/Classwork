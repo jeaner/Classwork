{
 "cells": [
  {
   "cell_type": "markdown",
   "metadata": {
    "colab_type": "text",
    "id": "3YBrMCM4tygq"
   },
   "source": [
    "# MNIST- handwritten digit recognition Part 2\n",
    "In this modeule, we will talk about how we can further improve performance using various techniques.\n",
    "\n",
    "## Batch Normalization\n",
    "Do you remember we normalized input images such that they have zero mean? The training converges faster when images are normalized (zero mean and unit variance) and decorrelated. However, the parameter update during the training changes distributions in each layer, which is called *internal covariant shift*. Ioffe and Szegedy suggested [batch normalization](https://arxiv.org/abs/1502.03167) to normalize and decorrelate inputs to the mid-layers to resolve this issue and make the netwrok training converges faster. "
   ]
  },
  {
   "cell_type": "code",
   "execution_count": 1,
   "metadata": {
    "colab": {
     "autoexec": {
      "startup": false,
      "wait_interval": 0
     },
     "base_uri": "https://localhost:8080/",
     "height": 34
    },
    "colab_type": "code",
    "executionInfo": {
     "elapsed": 8192,
     "status": "ok",
     "timestamp": 1523405624593,
     "user": {
      "displayName": "Jeanette Henry",
      "photoUrl": "https://lh3.googleusercontent.com/a/default-user=s128",
      "userId": "115529016998019620749"
     },
     "user_tz": 360
    },
    "id": "MohtpcFlurXA",
    "outputId": "59dde8de-eb89-4e6b-c5f7-836ef6d71b4e"
   },
   "outputs": [
    {
     "name": "stdout",
     "output_type": "stream",
     "text": [
      "Found GPU at: /device:GPU:0\n"
     ]
    }
   ],
   "source": [
    "import tensorflow as tf\n",
    "device_name = tf.test.gpu_device_name()\n",
    "if device_name != '/device:GPU:0':\n",
    "  raise SystemError('GPU device not found')\n",
    "print('Found GPU at: {}'.format(device_name))"
   ]
  },
  {
   "cell_type": "code",
   "execution_count": 2,
   "metadata": {
    "colab": {
     "autoexec": {
      "startup": false,
      "wait_interval": 0
     },
     "base_uri": "https://localhost:8080/",
     "height": 67
    },
    "colab_type": "code",
    "executionInfo": {
     "elapsed": 1539,
     "status": "ok",
     "timestamp": 1523405699423,
     "user": {
      "displayName": "Jeanette Henry",
      "photoUrl": "https://lh3.googleusercontent.com/a/default-user=s128",
      "userId": "115529016998019620749"
     },
     "user_tz": 360
    },
    "id": "ClYmSRNVtygu",
    "outputId": "133e32fb-6bc9-46f2-e128-f9083420b5a9"
   },
   "outputs": [
    {
     "name": "stdout",
     "output_type": "stream",
     "text": [
      "Downloading data from https://s3.amazonaws.com/img-datasets/mnist.npz\n",
      "  106496/11490434 [..............................] - ETA: 7s "
     ]
    },
    {
     "name": "stderr",
     "output_type": "stream",
     "text": [
      "Using TensorFlow backend.\n"
     ]
    },
    {
     "name": "stdout",
     "output_type": "stream",
     "text": [
      "11493376/11490434 [==============================] - 0s 0us/step\n"
     ]
    }
   ],
   "source": [
    "# Implement Batch Normalization\n",
    "import numpy\n",
    "from keras.datasets import mnist\n",
    "from keras.models import Sequential\n",
    "from keras.layers import Dense, Dropout, Flatten, Activation\n",
    "from keras.layers.convolutional import Conv2D, MaxPooling2D\n",
    "from keras.layers.normalization import BatchNormalization\n",
    "from keras.utils import to_categorical\n",
    "from keras import backend as K\n",
    "\n",
    "K.set_image_dim_ordering( 'tf' )\n",
    "\n",
    "# fix random seed for reproducibility\n",
    "seed = 123\n",
    "numpy.random.seed(seed)\n",
    "# load data\n",
    "(X_train, y_train), (X_test, y_test) = mnist.load_data()\n",
    "# reshape to be [samples][width][height][channel]\n",
    "X_train = X_train.reshape(X_train.shape[0], 28, 28, 1).astype( 'float32' )\n",
    "X_test = X_test.reshape(X_test.shape[0], 28, 28, 1).astype( 'float32' )\n",
    "# normalize inputs from 0-255 to 0-1\n",
    "X_train = X_train / 255\n",
    "X_test = X_test / 255\n",
    "# one hot encode outputs\n",
    "y_train = to_categorical(y_train)\n",
    "y_test = to_categorical(y_test)\n",
    "num_classes = y_test.shape[1]\n",
    "\n"
   ]
  },
  {
   "cell_type": "code",
   "execution_count": 3,
   "metadata": {
    "colab": {
     "autoexec": {
      "startup": false,
      "wait_interval": 0
     },
     "base_uri": "https://localhost:8080/",
     "height": 34
    },
    "colab_type": "code",
    "executionInfo": {
     "elapsed": 258,
     "status": "ok",
     "timestamp": 1523405704585,
     "user": {
      "displayName": "Jeanette Henry",
      "photoUrl": "https://lh3.googleusercontent.com/a/default-user=s128",
      "userId": "115529016998019620749"
     },
     "user_tz": 360
    },
    "id": "ut1UTE7Styg7",
    "outputId": "1bc2037f-e25e-4f09-81d6-a1b9b4445fe0"
   },
   "outputs": [
    {
     "name": "stdout",
     "output_type": "stream",
     "text": [
      "(60000, 28, 28, 1) (60000, 10) (10000, 28, 28, 1) (10000, 10)\n"
     ]
    }
   ],
   "source": [
    "print(X_train.shape, y_train.shape, X_test.shape, y_test.shape)\n"
   ]
  },
  {
   "cell_type": "code",
   "execution_count": 4,
   "metadata": {
    "colab": {
     "autoexec": {
      "startup": false,
      "wait_interval": 0
     },
     "base_uri": "https://localhost:8080/",
     "height": 639
    },
    "colab_type": "code",
    "executionInfo": {
     "elapsed": 2062,
     "status": "ok",
     "timestamp": 1523405862925,
     "user": {
      "displayName": "Jeanette Henry",
      "photoUrl": "https://lh3.googleusercontent.com/a/default-user=s128",
      "userId": "115529016998019620749"
     },
     "user_tz": 360
    },
    "id": "8r3fJT8otyg-",
    "outputId": "036f9db8-16e8-4185-df5e-7a95d93e793e"
   },
   "outputs": [
    {
     "name": "stdout",
     "output_type": "stream",
     "text": [
      "_________________________________________________________________\n",
      "Layer (type)                 Output Shape              Param #   \n",
      "=================================================================\n",
      "conv2d_1 (Conv2D)            (None, 28, 28, 64)        640       \n",
      "_________________________________________________________________\n",
      "batch_normalization_1 (Batch (None, 28, 28, 64)        256       \n",
      "_________________________________________________________________\n",
      "conv2d_2 (Conv2D)            (None, 28, 28, 64)        36928     \n",
      "_________________________________________________________________\n",
      "batch_normalization_2 (Batch (None, 28, 28, 64)        256       \n",
      "_________________________________________________________________\n",
      "max_pooling2d_1 (MaxPooling2 (None, 14, 14, 64)        0         \n",
      "_________________________________________________________________\n",
      "conv2d_3 (Conv2D)            (None, 14, 14, 128)       73856     \n",
      "_________________________________________________________________\n",
      "batch_normalization_3 (Batch (None, 14, 14, 128)       512       \n",
      "_________________________________________________________________\n",
      "conv2d_4 (Conv2D)            (None, 14, 14, 128)       147584    \n",
      "_________________________________________________________________\n",
      "batch_normalization_4 (Batch (None, 14, 14, 128)       512       \n",
      "_________________________________________________________________\n",
      "max_pooling2d_2 (MaxPooling2 (None, 7, 7, 128)         0         \n",
      "_________________________________________________________________\n",
      "flatten_1 (Flatten)          (None, 6272)              0         \n",
      "_________________________________________________________________\n",
      "dense_1 (Dense)              (None, 64)                401472    \n",
      "_________________________________________________________________\n",
      "batch_normalization_5 (Batch (None, 64)                256       \n",
      "_________________________________________________________________\n",
      "dropout_1 (Dropout)          (None, 64)                0         \n",
      "_________________________________________________________________\n",
      "dense_2 (Dense)              (None, 10)                650       \n",
      "=================================================================\n",
      "Total params: 662,922\n",
      "Trainable params: 662,026\n",
      "Non-trainable params: 896\n",
      "_________________________________________________________________\n"
     ]
    }
   ],
   "source": [
    "### YOUR TURN\n",
    "    # Create a model with 4 convolutional layers (2 repeating VGG stype units) \n",
    "    # and 2 dense layers before the output\n",
    "    # Use Batch Normalization for every conv and dense layers\n",
    "    # Use dropout layers if you like\n",
    "    # Use Adam optimizer\n",
    "\n",
    "def BN_model():\n",
    "    model = Sequential()\n",
    "    model.add (Conv2D(64, kernel_size=(3, 3), strides=(1, 1),\n",
    "                activation='relu', padding='same', input_shape=(28, 28, 1)))\n",
    "    model.add (BatchNormalization())\n",
    "    model.add (Conv2D(64, (3, 3),padding='same', activation='relu'))\n",
    "    model.add (BatchNormalization())\n",
    "    model.add (MaxPooling2D(pool_size=(2, 2), strides=None))\n",
    "    \n",
    "    model.add (Conv2D(128, (3, 3),padding='same', activation='relu'))\n",
    "    model.add (BatchNormalization())\n",
    "    model.add (Conv2D(128, (3, 3),padding='same', activation='relu'))\n",
    "    model.add (BatchNormalization())\n",
    "    model.add (MaxPooling2D(pool_size=(2, 2), strides=None))\n",
    "    \n",
    "    model.add (Flatten())\n",
    "    model.add (Dense(64, activation='relu'))\n",
    "    model.add (BatchNormalization())\n",
    "    model.add (Dropout(0.5))\n",
    "    \n",
    "    model.add (Dense(10, activation=c'softmax'))\n",
    "    return model\n",
    "\n",
    "# build the model\n",
    "model = BN_model()\n",
    "model.summary()\n",
    "model.compile(loss= 'categorical_crossentropy' , optimizer= 'adam' , metrics=[ 'accuracy'])\n"
   ]
  },
  {
   "cell_type": "code",
   "execution_count": 5,
   "metadata": {
    "colab": {
     "autoexec": {
      "startup": false,
      "wait_interval": 0
     },
     "base_uri": "https://localhost:8080/",
     "height": 739
    },
    "colab_type": "code",
    "executionInfo": {
     "elapsed": 614119,
     "status": "ok",
     "timestamp": 1523406481175,
     "user": {
      "displayName": "Jeanette Henry",
      "photoUrl": "https://lh3.googleusercontent.com/a/default-user=s128",
      "userId": "115529016998019620749"
     },
     "user_tz": 360
    },
    "id": "CjJ4tPFztyhB",
    "outputId": "4cf05a13-2358-4a13-8d85-6954b144acd0"
   },
   "outputs": [
    {
     "name": "stderr",
     "output_type": "stream",
     "text": [
      "/usr/local/lib/python3.6/dist-packages/keras/models.py:942: UserWarning: The `nb_epoch` argument in `fit` has been renamed `epochs`.\n",
      "  warnings.warn('The `nb_epoch` argument in `fit` '\n"
     ]
    },
    {
     "name": "stdout",
     "output_type": "stream",
     "text": [
      "Train on 60000 samples, validate on 10000 samples\n",
      "Epoch 1/20\n",
      " - 32s - loss: 0.1594 - acc: 0.9579 - val_loss: 0.0690 - val_acc: 0.9755\n",
      "Epoch 2/20\n",
      " - 30s - loss: 0.0520 - acc: 0.9863 - val_loss: 0.0419 - val_acc: 0.9870\n",
      "Epoch 3/20\n",
      " - 30s - loss: 0.0388 - acc: 0.9891 - val_loss: 0.0449 - val_acc: 0.9852\n",
      "Epoch 4/20\n",
      " - 30s - loss: 0.0296 - acc: 0.9918 - val_loss: 0.0204 - val_acc: 0.9934\n",
      "Epoch 5/20\n",
      " - 30s - loss: 0.0217 - acc: 0.9937 - val_loss: 0.0239 - val_acc: 0.9924\n",
      "Epoch 6/20\n",
      " - 30s - loss: 0.0216 - acc: 0.9935 - val_loss: 0.0220 - val_acc: 0.9930\n",
      "Epoch 7/20\n",
      " - 30s - loss: 0.0176 - acc: 0.9945 - val_loss: 0.0171 - val_acc: 0.9948\n",
      "Epoch 8/20\n",
      " - 30s - loss: 0.0144 - acc: 0.9957 - val_loss: 0.0172 - val_acc: 0.9947\n",
      "Epoch 9/20\n",
      " - 30s - loss: 0.0133 - acc: 0.9960 - val_loss: 0.0225 - val_acc: 0.9927\n",
      "Epoch 10/20\n",
      " - 30s - loss: 0.0117 - acc: 0.9963 - val_loss: 0.0201 - val_acc: 0.9932\n",
      "Epoch 11/20\n",
      " - 30s - loss: 0.0101 - acc: 0.9969 - val_loss: 0.0197 - val_acc: 0.9941\n",
      "Epoch 12/20\n",
      " - 30s - loss: 0.0089 - acc: 0.9974 - val_loss: 0.0255 - val_acc: 0.9928\n",
      "Epoch 13/20\n",
      " - 30s - loss: 0.0087 - acc: 0.9973 - val_loss: 0.0266 - val_acc: 0.9930\n",
      "Epoch 14/20\n",
      " - 30s - loss: 0.0078 - acc: 0.9975 - val_loss: 0.0203 - val_acc: 0.9933\n",
      "Epoch 15/20\n",
      " - 30s - loss: 0.0085 - acc: 0.9974 - val_loss: 0.0360 - val_acc: 0.9896\n",
      "Epoch 16/20\n",
      " - 30s - loss: 0.0066 - acc: 0.9979 - val_loss: 0.0233 - val_acc: 0.9935\n",
      "Epoch 17/20\n",
      " - 30s - loss: 0.0060 - acc: 0.9981 - val_loss: 0.0203 - val_acc: 0.9937\n",
      "Epoch 18/20\n",
      " - 30s - loss: 0.0079 - acc: 0.9974 - val_loss: 0.0181 - val_acc: 0.9940\n",
      "Epoch 19/20\n",
      " - 30s - loss: 0.0070 - acc: 0.9976 - val_loss: 0.0205 - val_acc: 0.9947\n",
      "Epoch 20/20\n",
      " - 30s - loss: 0.0060 - acc: 0.9982 - val_loss: 0.0176 - val_acc: 0.9958\n"
     ]
    }
   ],
   "source": [
    "from keras.callbacks import History \n",
    "history = History()\n",
    "# Fit the model\n",
    "model.fit(X_train, y_train, validation_data=(X_test, y_test), callbacks=[history], nb_epoch=20, batch_size=200, verbose=2)\n",
    "# Final evaluation of the model\n",
    "scores = model.evaluate(X_test, y_test, verbose=0)\n"
   ]
  },
  {
   "cell_type": "code",
   "execution_count": 6,
   "metadata": {
    "colab": {
     "autoexec": {
      "startup": false,
      "wait_interval": 0
     },
     "base_uri": "https://localhost:8080/",
     "height": 34
    },
    "colab_type": "code",
    "executionInfo": {
     "elapsed": 321,
     "status": "ok",
     "timestamp": 1523407022108,
     "user": {
      "displayName": "Jeanette Henry",
      "photoUrl": "https://lh3.googleusercontent.com/a/default-user=s128",
      "userId": "115529016998019620749"
     },
     "user_tz": 360
    },
    "id": "y28eNO-styhF",
    "outputId": "41986d6f-5aaa-493f-d22b-c5a0b3f8ba21"
   },
   "outputs": [
    {
     "name": "stdout",
     "output_type": "stream",
     "text": [
      "CNN Error: 0.42%\n"
     ]
    }
   ],
   "source": [
    "print(\"CNN Error: %.2f%%\" % (100-scores[1]*100))"
   ]
  },
  {
   "cell_type": "markdown",
   "metadata": {
    "colab_type": "text",
    "id": "oxTEdRJNtyhH"
   },
   "source": [
    "From the above, can you get test error below 0.5%?\n",
    "\n",
    "Where should you position the batch norm layer to implement the batch norm correctly?\n",
    "\n",
    "**Claim:** Some people argue that they can get as good or better result by incorrectly implementing batchnorm such that the batchnorm comes after the activation layer. Test if this is true. What test wrror do you get?"
   ]
  },
  {
   "cell_type": "markdown",
   "metadata": {
    "colab_type": "text",
    "id": "B5gil168JuhA"
   },
   "source": []
  },
  {
   "cell_type": "code",
   "execution_count": 0,
   "metadata": {
    "colab": {
     "autoexec": {
      "startup": false,
      "wait_interval": 0
     }
    },
    "colab_type": "code",
    "collapsed": true,
    "id": "C1Hsa682JOnZ"
   },
   "outputs": [],
   "source": []
  },
  {
   "cell_type": "markdown",
   "metadata": {
    "colab_type": "text",
    "id": "vEH7nxJdJPyK"
   },
   "source": [
    "**MY MODEL ABOVED HAS ACTIVATION IN THE CONV. LAYER THEN BATCH NORM AFTER THAT ACTIVATION. HERE IS MY EXAMPLE WITH CONV, BATCHNORM, THEN ACTIVATION.**"
   ]
  },
  {
   "cell_type": "code",
   "execution_count": 0,
   "metadata": {
    "colab": {
     "autoexec": {
      "startup": false,
      "wait_interval": 0
     }
    },
    "colab_type": "code",
    "collapsed": true,
    "id": "xmgeT6F5JOvy"
   },
   "outputs": [],
   "source": []
  },
  {
   "cell_type": "code",
   "execution_count": 7,
   "metadata": {
    "colab": {
     "autoexec": {
      "startup": false,
      "wait_interval": 0
     },
     "base_uri": "https://localhost:8080/",
     "height": 773
    },
    "colab_type": "code",
    "executionInfo": {
     "elapsed": 1023,
     "status": "ok",
     "timestamp": 1523407626161,
     "user": {
      "displayName": "Jeanette Henry",
      "photoUrl": "https://lh3.googleusercontent.com/a/default-user=s128",
      "userId": "115529016998019620749"
     },
     "user_tz": 360
    },
    "id": "sAHUhJPYKB1h",
    "outputId": "72e9ce9d-b6ad-4f04-f739-350f9b877cc2"
   },
   "outputs": [
    {
     "name": "stdout",
     "output_type": "stream",
     "text": [
      "_________________________________________________________________\n",
      "Layer (type)                 Output Shape              Param #   \n",
      "=================================================================\n",
      "conv2d_5 (Conv2D)            (None, 28, 28, 64)        640       \n",
      "_________________________________________________________________\n",
      "batch_normalization_6 (Batch (None, 28, 28, 64)        256       \n",
      "_________________________________________________________________\n",
      "activation_1 (Activation)    (None, 28, 28, 64)        0         \n",
      "_________________________________________________________________\n",
      "conv2d_6 (Conv2D)            (None, 28, 28, 64)        36928     \n",
      "_________________________________________________________________\n",
      "batch_normalization_7 (Batch (None, 28, 28, 64)        256       \n",
      "_________________________________________________________________\n",
      "activation_2 (Activation)    (None, 28, 28, 64)        0         \n",
      "_________________________________________________________________\n",
      "max_pooling2d_3 (MaxPooling2 (None, 14, 14, 64)        0         \n",
      "_________________________________________________________________\n",
      "conv2d_7 (Conv2D)            (None, 14, 14, 128)       73856     \n",
      "_________________________________________________________________\n",
      "batch_normalization_8 (Batch (None, 14, 14, 128)       512       \n",
      "_________________________________________________________________\n",
      "activation_3 (Activation)    (None, 14, 14, 128)       0         \n",
      "_________________________________________________________________\n",
      "conv2d_8 (Conv2D)            (None, 14, 14, 128)       147584    \n",
      "_________________________________________________________________\n",
      "batch_normalization_9 (Batch (None, 14, 14, 128)       512       \n",
      "_________________________________________________________________\n",
      "activation_4 (Activation)    (None, 14, 14, 128)       0         \n",
      "_________________________________________________________________\n",
      "max_pooling2d_4 (MaxPooling2 (None, 7, 7, 128)         0         \n",
      "_________________________________________________________________\n",
      "flatten_2 (Flatten)          (None, 6272)              0         \n",
      "_________________________________________________________________\n",
      "dense_3 (Dense)              (None, 64)                401472    \n",
      "_________________________________________________________________\n",
      "batch_normalization_10 (Batc (None, 64)                256       \n",
      "_________________________________________________________________\n",
      "dropout_2 (Dropout)          (None, 64)                0         \n",
      "_________________________________________________________________\n",
      "dense_4 (Dense)              (None, 10)                650       \n",
      "=================================================================\n",
      "Total params: 662,922\n",
      "Trainable params: 662,026\n",
      "Non-trainable params: 896\n",
      "_________________________________________________________________\n"
     ]
    }
   ],
   "source": [
    "# Implement Batch Normalization - after the activation \n",
    "### YOUR TURN\n",
    "    # Using the same architecture above, \n",
    "    # except that the orders of a batchnormalization layer and a activation layer are reversed, \n",
    "    # build a model and test if the claim above is true.\n",
    "\n",
    "\n",
    "## IMPLEMENTING BATCH NORM BEFORE ACTIVATION\n",
    "\n",
    "def BNr_model():\n",
    "    model = Sequential()\n",
    "    model.add (Conv2D(64, kernel_size=(3, 3), strides=(1, 1),\n",
    "                padding='same', input_shape=(28, 28, 1)))\n",
    "    model.add (BatchNormalization())\n",
    "    model.add (Activation('relu'))\n",
    "    model.add (Conv2D(64, (3, 3),padding='same'))\n",
    "    model.add (BatchNormalization())\n",
    "    model.add (Activation('relu'))\n",
    "    model.add (MaxPooling2D(pool_size=(2, 2), strides=None))\n",
    "    \n",
    "    model.add (Conv2D(128, (3, 3),padding='same'))\n",
    "    model.add (BatchNormalization())\n",
    "    model.add (Activation('relu'))\n",
    "    model.add (Conv2D(128, (3, 3),padding='same'))\n",
    "    model.add (BatchNormalization())\n",
    "    model.add (Activation('relu'))\n",
    "    model.add (MaxPooling2D(pool_size=(2, 2), strides=None))\n",
    "    \n",
    "    model.add (Flatten())\n",
    "    model.add (Dense(64, activation='relu'))\n",
    "    model.add (BatchNormalization())\n",
    "    model.add (Dropout(0.5))\n",
    "    \n",
    "    model.add (Dense(10, activation='softmax'))\n",
    "    return model\n",
    "\n",
    "# build the model\n",
    "model = BNr_model()\n",
    "model.summary()\n",
    "model.compile(loss= 'categorical_crossentropy' , optimizer= 'adam' , metrics=[ 'accuracy'])\n",
    "\n"
   ]
  },
  {
   "cell_type": "code",
   "execution_count": 8,
   "metadata": {
    "colab": {
     "autoexec": {
      "startup": false,
      "wait_interval": 0
     },
     "base_uri": "https://localhost:8080/",
     "height": 739
    },
    "colab_type": "code",
    "executionInfo": {
     "elapsed": 613765,
     "status": "ok",
     "timestamp": 1523408250423,
     "user": {
      "displayName": "Jeanette Henry",
      "photoUrl": "https://lh3.googleusercontent.com/a/default-user=s128",
      "userId": "115529016998019620749"
     },
     "user_tz": 360
    },
    "id": "L6hKd2CIJO2K",
    "outputId": "f05b5bad-52c4-4ab1-9952-3a4c1eab23d5"
   },
   "outputs": [
    {
     "name": "stderr",
     "output_type": "stream",
     "text": [
      "/usr/local/lib/python3.6/dist-packages/keras/models.py:942: UserWarning: The `nb_epoch` argument in `fit` has been renamed `epochs`.\n",
      "  warnings.warn('The `nb_epoch` argument in `fit` '\n"
     ]
    },
    {
     "name": "stdout",
     "output_type": "stream",
     "text": [
      "Train on 60000 samples, validate on 10000 samples\n",
      "Epoch 1/20\n",
      " - 31s - loss: 0.1776 - acc: 0.9562 - val_loss: 0.1612 - val_acc: 0.9525\n",
      "Epoch 2/20\n",
      " - 30s - loss: 0.0608 - acc: 0.9849 - val_loss: 0.1091 - val_acc: 0.9640\n",
      "Epoch 3/20\n",
      " - 30s - loss: 0.0440 - acc: 0.9879 - val_loss: 0.0393 - val_acc: 0.9884\n",
      "Epoch 4/20\n",
      " - 30s - loss: 0.0363 - acc: 0.9900 - val_loss: 0.0246 - val_acc: 0.9919\n",
      "Epoch 5/20\n",
      " - 30s - loss: 0.0313 - acc: 0.9910 - val_loss: 0.0213 - val_acc: 0.9933\n",
      "Epoch 6/20\n",
      " - 30s - loss: 0.0255 - acc: 0.9931 - val_loss: 0.0378 - val_acc: 0.9881\n",
      "Epoch 7/20\n",
      " - 30s - loss: 0.0222 - acc: 0.9934 - val_loss: 0.0227 - val_acc: 0.9926\n",
      "Epoch 8/20\n",
      " - 30s - loss: 0.0195 - acc: 0.9942 - val_loss: 0.0313 - val_acc: 0.9902\n",
      "Epoch 9/20\n",
      " - 30s - loss: 0.0174 - acc: 0.9948 - val_loss: 0.0238 - val_acc: 0.9928\n",
      "Epoch 10/20\n",
      " - 30s - loss: 0.0175 - acc: 0.9951 - val_loss: 0.0312 - val_acc: 0.9910\n",
      "Epoch 11/20\n",
      " - 31s - loss: 0.0150 - acc: 0.9957 - val_loss: 0.0299 - val_acc: 0.9918\n",
      "Epoch 12/20\n",
      " - 30s - loss: 0.0119 - acc: 0.9967 - val_loss: 0.0322 - val_acc: 0.9904\n",
      "Epoch 13/20\n",
      " - 31s - loss: 0.0124 - acc: 0.9963 - val_loss: 0.0281 - val_acc: 0.9913\n",
      "Epoch 14/20\n",
      " - 30s - loss: 0.0118 - acc: 0.9964 - val_loss: 0.0576 - val_acc: 0.9848\n",
      "Epoch 15/20\n",
      " - 30s - loss: 0.0112 - acc: 0.9964 - val_loss: 0.0283 - val_acc: 0.9924\n",
      "Epoch 16/20\n",
      " - 30s - loss: 0.0105 - acc: 0.9967 - val_loss: 0.0322 - val_acc: 0.9905\n",
      "Epoch 17/20\n",
      " - 30s - loss: 0.0095 - acc: 0.9972 - val_loss: 0.0257 - val_acc: 0.9932\n",
      "Epoch 18/20\n",
      " - 30s - loss: 0.0071 - acc: 0.9979 - val_loss: 0.0337 - val_acc: 0.9900\n",
      "Epoch 19/20\n",
      " - 30s - loss: 0.0073 - acc: 0.9977 - val_loss: 0.0352 - val_acc: 0.9907\n",
      "Epoch 20/20\n",
      " - 30s - loss: 0.0102 - acc: 0.9966 - val_loss: 0.0176 - val_acc: 0.9945\n"
     ]
    }
   ],
   "source": [
    "# Fit the model\n",
    "model.fit(X_train, y_train, validation_data=(X_test, y_test),callbacks=[history], nb_epoch=20, batch_size=200, verbose=2)\n",
    "# Final evaluation of the model\n",
    "scores = model.evaluate(X_test, y_test, verbose=0)\n"
   ]
  },
  {
   "cell_type": "code",
   "execution_count": 9,
   "metadata": {
    "colab": {
     "autoexec": {
      "startup": false,
      "wait_interval": 0
     },
     "base_uri": "https://localhost:8080/",
     "height": 34
    },
    "colab_type": "code",
    "executionInfo": {
     "elapsed": 290,
     "status": "ok",
     "timestamp": 1523408250753,
     "user": {
      "displayName": "Jeanette Henry",
      "photoUrl": "https://lh3.googleusercontent.com/a/default-user=s128",
      "userId": "115529016998019620749"
     },
     "user_tz": 360
    },
    "id": "Z3t9vpZlKymj",
    "outputId": "18a43f36-b6f7-44db-ce6c-063992c6c34e"
   },
   "outputs": [
    {
     "name": "stdout",
     "output_type": "stream",
     "text": [
      "CNN Error: 0.55%\n"
     ]
    }
   ],
   "source": [
    "print(\"CNN Error: %.2f%%\" % (100-scores[1]*100))"
   ]
  },
  {
   "cell_type": "markdown",
   "metadata": {
    "colab_type": "text",
    "id": "qe9JtY5CtyhK"
   },
   "source": [
    "### Recording loss and metric\n",
    "The output of `model.fit` by default (in Keras 2) returns a dictionary of model history (also it can be called using the callback). The dictionary has keys loss and metric (when you specified the metric in the model.complie) for train and validation each. For our case here it would be: 'val_loss', 'val_acc', 'loss', 'acc'. A good use of such log is to monitor whether it's over fitting. When overfits, you will see the validation loss may go up at some point while train loss continues go down. Let's get rid of batch norm layers and run the model with higher running rate lr=0.01 and longer epoch (50) to see if it overfits (Answer: Yes it does, quite terribly)."
   ]
  },
  {
   "cell_type": "code",
   "execution_count": 0,
   "metadata": {
    "colab": {
     "autoexec": {
      "startup": false,
      "wait_interval": 0
     }
    },
    "colab_type": "code",
    "collapsed": true,
    "id": "4df1IrNGtyhL"
   },
   "outputs": [],
   "source": [
    "import time\n",
    "from keras.optimizers import Adam\n"
   ]
  },
  {
   "cell_type": "code",
   "execution_count": 15,
   "metadata": {
    "colab": {
     "autoexec": {
      "startup": false,
      "wait_interval": 0
     },
     "base_uri": "https://localhost:8080/",
     "height": 571
    },
    "colab_type": "code",
    "executionInfo": {
     "elapsed": 410,
     "status": "ok",
     "timestamp": 1523408980263,
     "user": {
      "displayName": "Jeanette Henry",
      "photoUrl": "https://lh3.googleusercontent.com/a/default-user=s128",
      "userId": "115529016998019620749"
     },
     "user_tz": 360
    },
    "id": "_O0eQfeWtyhN",
    "outputId": "179fea79-6abb-4bfe-d83a-7dadbcd1bcf3"
   },
   "outputs": [
    {
     "name": "stdout",
     "output_type": "stream",
     "text": [
      "_________________________________________________________________\n",
      "Layer (type)                 Output Shape              Param #   \n",
      "=================================================================\n",
      "conv2d_13 (Conv2D)           (None, 28, 28, 64)        640       \n",
      "_________________________________________________________________\n",
      "activation_9 (Activation)    (None, 28, 28, 64)        0         \n",
      "_________________________________________________________________\n",
      "conv2d_14 (Conv2D)           (None, 28, 28, 64)        36928     \n",
      "_________________________________________________________________\n",
      "activation_10 (Activation)   (None, 28, 28, 64)        0         \n",
      "_________________________________________________________________\n",
      "max_pooling2d_7 (MaxPooling2 (None, 14, 14, 64)        0         \n",
      "_________________________________________________________________\n",
      "conv2d_15 (Conv2D)           (None, 14, 14, 128)       73856     \n",
      "_________________________________________________________________\n",
      "activation_11 (Activation)   (None, 14, 14, 128)       0         \n",
      "_________________________________________________________________\n",
      "conv2d_16 (Conv2D)           (None, 14, 14, 128)       147584    \n",
      "_________________________________________________________________\n",
      "activation_12 (Activation)   (None, 14, 14, 128)       0         \n",
      "_________________________________________________________________\n",
      "max_pooling2d_8 (MaxPooling2 (None, 7, 7, 128)         0         \n",
      "_________________________________________________________________\n",
      "flatten_4 (Flatten)          (None, 6272)              0         \n",
      "_________________________________________________________________\n",
      "dense_7 (Dense)              (None, 64)                401472    \n",
      "_________________________________________________________________\n",
      "dense_8 (Dense)              (None, 10)                650       \n",
      "=================================================================\n",
      "Total params: 661,130\n",
      "Trainable params: 661,130\n",
      "Non-trainable params: 0\n",
      "_________________________________________________________________\n"
     ]
    }
   ],
   "source": [
    "### YOUR TURN\n",
    "    # 1) Create a model with the same architecture above (4 convs and 2 denses before output) and hyperparameters, \n",
    "    # but without any batch normalization and dropouts.\n",
    "    # 2) To make this overfit surely, let's change the learning rate of our Adam optimizer. Set the learning rate to 0.01.\n",
    "    # 3) After running the training, plot the train and validation accuracy using the model output hisoty.\n",
    "    \n",
    "def model_overfit():\n",
    "  model = Sequential()\n",
    "  model.add (Conv2D(64, kernel_size=(3, 3), strides=(1, 1),\n",
    "                padding='same', input_shape=(28, 28, 1)))\n",
    "  model.add (Activation('relu'))\n",
    "  model.add (Conv2D(64, (3, 3),padding='same'))\n",
    "  model.add (Activation('relu'))\n",
    "  model.add (MaxPooling2D(pool_size=(2, 2), strides=None))\n",
    "    \n",
    "  model.add (Conv2D(128, (3, 3),padding='same'))\n",
    "  model.add (Activation('relu'))\n",
    "  model.add (Conv2D(128, (3, 3),padding='same'))\n",
    "  model.add (Activation('relu'))\n",
    "  model.add (MaxPooling2D(pool_size=(2, 2), strides=None))\n",
    "    \n",
    "  model.add (Flatten())\n",
    "  model.add (Dense(64, activation='relu'))    \n",
    "  model.add (Dense(10, activation='softmax'))\n",
    "\n",
    "  return model\n",
    "\n",
    "# build the model\n",
    "model = model_overfit()\n",
    "model.summary()\n",
    "from keras import optimizers\n",
    "adam = optimizers.Adam(lr=0.01)\n",
    "model.compile(loss= 'categorical_crossentropy' , optimizer=adam , metrics=[ 'accuracy'])\n",
    "\n"
   ]
  },
  {
   "cell_type": "code",
   "execution_count": 16,
   "metadata": {
    "colab": {
     "autoexec": {
      "startup": false,
      "wait_interval": 0
     },
     "base_uri": "https://localhost:8080/",
     "height": 1747
    },
    "colab_type": "code",
    "executionInfo": {
     "elapsed": 1028724,
     "status": "ok",
     "timestamp": 1523410032584,
     "user": {
      "displayName": "Jeanette Henry",
      "photoUrl": "https://lh3.googleusercontent.com/a/default-user=s128",
      "userId": "115529016998019620749"
     },
     "user_tz": 360
    },
    "id": "Y5jXJxjPOakS",
    "outputId": "b13a635c-ad0b-4a67-f4fd-818336039fda"
   },
   "outputs": [
    {
     "name": "stdout",
     "output_type": "stream",
     "text": [
      "Train on 60000 samples, validate on 10000 samples\n",
      "Epoch 1/50\n",
      " - 21s - loss: 0.3534 - acc: 0.8904 - val_loss: 0.0834 - val_acc: 0.9735\n",
      "Epoch 2/50\n",
      " - 21s - loss: 0.0650 - acc: 0.9798 - val_loss: 0.0410 - val_acc: 0.9869\n",
      "Epoch 3/50\n",
      " - 20s - loss: 0.0523 - acc: 0.9835 - val_loss: 0.0434 - val_acc: 0.9867\n",
      "Epoch 4/50\n",
      " - 20s - loss: 0.0418 - acc: 0.9872 - val_loss: 0.0499 - val_acc: 0.9849\n",
      "Epoch 5/50\n",
      " - 21s - loss: 0.0361 - acc: 0.9889 - val_loss: 0.0426 - val_acc: 0.9868\n",
      "Epoch 6/50\n",
      " - 21s - loss: 0.0399 - acc: 0.9876 - val_loss: 0.0482 - val_acc: 0.9846\n",
      "Epoch 7/50\n",
      " - 20s - loss: 0.0348 - acc: 0.9894 - val_loss: 0.0457 - val_acc: 0.9850\n",
      "Epoch 8/50\n",
      " - 20s - loss: 0.0331 - acc: 0.9895 - val_loss: 0.0454 - val_acc: 0.9846\n",
      "Epoch 9/50\n",
      " - 21s - loss: 0.0346 - acc: 0.9892 - val_loss: 0.0419 - val_acc: 0.9861\n",
      "Epoch 10/50\n",
      " - 20s - loss: 0.0329 - acc: 0.9897 - val_loss: 0.0442 - val_acc: 0.9862\n",
      "Epoch 11/50\n",
      " - 21s - loss: 0.0338 - acc: 0.9891 - val_loss: 0.0435 - val_acc: 0.9866\n",
      "Epoch 12/50\n",
      " - 20s - loss: 0.0259 - acc: 0.9921 - val_loss: 0.0489 - val_acc: 0.9874\n",
      "Epoch 13/50\n",
      " - 20s - loss: 0.0320 - acc: 0.9898 - val_loss: 0.0454 - val_acc: 0.9873\n",
      "Epoch 14/50\n",
      " - 21s - loss: 0.0311 - acc: 0.9902 - val_loss: 0.0564 - val_acc: 0.9847\n",
      "Epoch 15/50\n",
      " - 20s - loss: 0.0299 - acc: 0.9905 - val_loss: 0.0419 - val_acc: 0.9871\n",
      "Epoch 16/50\n",
      " - 21s - loss: 0.0334 - acc: 0.9904 - val_loss: 0.0491 - val_acc: 0.9854\n",
      "Epoch 17/50\n",
      " - 21s - loss: 0.0330 - acc: 0.9912 - val_loss: 0.0962 - val_acc: 0.9787\n",
      "Epoch 18/50\n",
      " - 20s - loss: 0.0389 - acc: 0.9884 - val_loss: 0.0381 - val_acc: 0.9888\n",
      "Epoch 19/50\n",
      " - 21s - loss: 0.0236 - acc: 0.9928 - val_loss: 0.0575 - val_acc: 0.9852\n",
      "Epoch 20/50\n",
      " - 21s - loss: 0.0255 - acc: 0.9926 - val_loss: 0.0619 - val_acc: 0.9857\n",
      "Epoch 21/50\n",
      " - 20s - loss: 0.0262 - acc: 0.9922 - val_loss: 0.0444 - val_acc: 0.9884\n",
      "Epoch 22/50\n",
      " - 21s - loss: 0.0301 - acc: 0.9917 - val_loss: 0.0710 - val_acc: 0.9844\n",
      "Epoch 23/50\n",
      " - 21s - loss: 0.0251 - acc: 0.9924 - val_loss: 0.0501 - val_acc: 0.9861\n",
      "Epoch 24/50\n",
      " - 21s - loss: 0.0269 - acc: 0.9926 - val_loss: 0.0666 - val_acc: 0.9851\n",
      "Epoch 25/50\n",
      " - 20s - loss: 0.0354 - acc: 0.9897 - val_loss: 0.0527 - val_acc: 0.9867\n",
      "Epoch 26/50\n",
      " - 21s - loss: 0.0260 - acc: 0.9926 - val_loss: 0.0768 - val_acc: 0.9857\n",
      "Epoch 27/50\n",
      " - 21s - loss: 0.0312 - acc: 0.9913 - val_loss: 0.0633 - val_acc: 0.9858\n",
      "Epoch 28/50\n",
      " - 21s - loss: 0.0297 - acc: 0.9919 - val_loss: 0.0838 - val_acc: 0.9841\n",
      "Epoch 29/50\n",
      " - 21s - loss: 0.0250 - acc: 0.9928 - val_loss: 0.0444 - val_acc: 0.9887\n",
      "Epoch 30/50\n",
      " - 21s - loss: 0.0229 - acc: 0.9932 - val_loss: 0.0683 - val_acc: 0.9852\n",
      "Epoch 31/50\n",
      " - 20s - loss: 0.0301 - acc: 0.9915 - val_loss: 0.0735 - val_acc: 0.9827\n",
      "Epoch 32/50\n",
      " - 20s - loss: 0.0312 - acc: 0.9912 - val_loss: 0.0937 - val_acc: 0.9777\n",
      "Epoch 33/50\n",
      " - 20s - loss: 0.0337 - acc: 0.9910 - val_loss: 0.0616 - val_acc: 0.9859\n",
      "Epoch 34/50\n",
      " - 20s - loss: 0.0231 - acc: 0.9928 - val_loss: 0.0716 - val_acc: 0.9844\n",
      "Epoch 35/50\n",
      " - 21s - loss: 0.0271 - acc: 0.9932 - val_loss: 0.0793 - val_acc: 0.9858\n",
      "Epoch 36/50\n",
      " - 20s - loss: 0.0355 - acc: 0.9911 - val_loss: 0.0753 - val_acc: 0.9831\n",
      "Epoch 37/50\n",
      " - 20s - loss: 0.0242 - acc: 0.9933 - val_loss: 0.0723 - val_acc: 0.9845\n",
      "Epoch 38/50\n",
      " - 21s - loss: 0.0370 - acc: 0.9910 - val_loss: 0.0562 - val_acc: 0.9852\n",
      "Epoch 39/50\n",
      " - 20s - loss: 0.0196 - acc: 0.9945 - val_loss: 0.0751 - val_acc: 0.9851\n",
      "Epoch 40/50\n",
      " - 21s - loss: 0.0321 - acc: 0.9916 - val_loss: 0.0717 - val_acc: 0.9835\n",
      "Epoch 41/50\n",
      " - 20s - loss: 0.0262 - acc: 0.9927 - val_loss: 0.0707 - val_acc: 0.9821\n",
      "Epoch 42/50\n",
      " - 21s - loss: 0.0315 - acc: 0.9916 - val_loss: 0.0684 - val_acc: 0.9889\n",
      "Epoch 43/50\n",
      " - 21s - loss: 0.0188 - acc: 0.9946 - val_loss: 0.0624 - val_acc: 0.9885\n",
      "Epoch 44/50\n",
      " - 20s - loss: 0.0208 - acc: 0.9942 - val_loss: 0.0801 - val_acc: 0.9872\n",
      "Epoch 45/50\n",
      " - 20s - loss: 0.0287 - acc: 0.9923 - val_loss: 0.0781 - val_acc: 0.9842\n",
      "Epoch 46/50\n",
      " - 20s - loss: 0.0419 - acc: 0.9902 - val_loss: 0.0646 - val_acc: 0.9863\n",
      "Epoch 47/50\n",
      " - 21s - loss: 0.0278 - acc: 0.9930 - val_loss: 0.0672 - val_acc: 0.9854\n",
      "Epoch 48/50\n",
      " - 20s - loss: 0.0340 - acc: 0.9917 - val_loss: 0.0591 - val_acc: 0.9856\n",
      "Epoch 49/50\n",
      " - 21s - loss: 0.0243 - acc: 0.9932 - val_loss: 0.0878 - val_acc: 0.9855\n",
      "Epoch 50/50\n",
      " - 20s - loss: 0.0249 - acc: 0.9937 - val_loss: 0.0741 - val_acc: 0.9882\n",
      "1026.3355646133423  seconds\n",
      "CNN Error: 1.18%\n"
     ]
    }
   ],
   "source": [
    "# Fit the model\n",
    "t0=time.time()\n",
    "log = model.fit(X_train, y_train, validation_data=(X_test, y_test), callbacks=[history], epochs=50, batch_size=200, verbose=2)\n",
    "t1=time.time()\n",
    "print(t1-t0,\" seconds\")\n",
    "\n",
    "# Final evaluation of the model\n",
    "scores = model.evaluate(X_test, y_test, verbose=0)\n",
    "print(\"CNN Error: %.2f%%\" % (100-scores[1]*100))"
   ]
  },
  {
   "cell_type": "code",
   "execution_count": 17,
   "metadata": {
    "colab": {
     "autoexec": {
      "startup": false,
      "wait_interval": 0
     },
     "base_uri": "https://localhost:8080/",
     "height": 34
    },
    "colab_type": "code",
    "executionInfo": {
     "elapsed": 297,
     "status": "ok",
     "timestamp": 1523410032894,
     "user": {
      "displayName": "Jeanette Henry",
      "photoUrl": "https://lh3.googleusercontent.com/a/default-user=s128",
      "userId": "115529016998019620749"
     },
     "user_tz": 360
    },
    "id": "ptSruN7nQHCm",
    "outputId": "b5d84f77-96ae-419f-f490-0ca1a1750e0f"
   },
   "outputs": [
    {
     "name": "stdout",
     "output_type": "stream",
     "text": [
      "CNN Error: 1.18%\n"
     ]
    }
   ],
   "source": [
    "print(\"CNN Error: %.2f%%\" % (100-scores[1]*100))"
   ]
  },
  {
   "cell_type": "code",
   "execution_count": 19,
   "metadata": {
    "colab": {
     "autoexec": {
      "startup": false,
      "wait_interval": 0
     },
     "base_uri": "https://localhost:8080/",
     "height": 587
    },
    "colab_type": "code",
    "executionInfo": {
     "elapsed": 692,
     "status": "ok",
     "timestamp": 1523410217879,
     "user": {
      "displayName": "Jeanette Henry",
      "photoUrl": "https://lh3.googleusercontent.com/a/default-user=s128",
      "userId": "115529016998019620749"
     },
     "user_tz": 360
    },
    "id": "RmHhfU9HUQ4g",
    "outputId": "78a91a1b-d548-4176-c14e-c0394ca128fd"
   },
   "outputs": [
    {
     "name": "stdout",
     "output_type": "stream",
     "text": [
      "dict_keys(['val_loss', 'val_acc', 'loss', 'acc'])\n"
     ]
    },
    {
     "data": {
      "image/png": "[encoded data removed]",
      "text/plain": [
       "<matplotlib.figure.Figure at 0x7f53971fc400>"
      ]
     },
     "metadata": {
      "tags": []
     },
     "output_type": "display_data"
    },
    {
     "data": {
      "image/png": "[encoded data removed]",
      "text/plain": [
       "<matplotlib.figure.Figure at 0x7f5399701d68>"
      ]
     },
     "metadata": {
      "tags": []
     },
     "output_type": "display_data"
    }
   ],
   "source": [
    "  # 3) After running the training, plot the train and validation accuracy using the model output hisoty.\n",
    "import matplotlib.pyplot as plt\n",
    "%matplotlib inline\n",
    "  \n",
    "print(history.history.keys())\n",
    "#  \"Accuracy\"\n",
    "plt.plot(history.history['acc'])\n",
    "plt.plot(history.history['val_acc'])\n",
    "plt.title('model accuracy')\n",
    "plt.ylabel('accuracy')\n",
    "plt.xlabel('epoch')\n",
    "plt.legend(['train', 'validation'], loc='upper left')\n",
    "plt.show()\n",
    "# \"Loss\"\n",
    "plt.plot(history.history['loss'])\n",
    "plt.plot(history.history['val_loss'])\n",
    "plt.title('model loss')\n",
    "plt.ylabel('loss')\n",
    "plt.xlabel('epoch')\n",
    "plt.legend(['train', 'validation'], loc='upper left')\n",
    "plt.show()"
   ]
  },
  {
   "cell_type": "markdown",
   "metadata": {
    "colab_type": "text",
    "id": "yGbPBvmXtyhP"
   },
   "source": [
    "#### Tune Learning rate\n",
    "Without inserting batchnorm or dropout again, decrease learning rate and run for 50 epochs, plot the accuracy from train and validation. What is the highest learning rate that it doesn't overfit? What is the validation accuracy as a result?"
   ]
  },
  {
   "cell_type": "code",
   "execution_count": 37,
   "metadata": {
    "colab": {
     "autoexec": {
      "startup": false,
      "wait_interval": 0
     },
     "base_uri": "https://localhost:8080/",
     "height": 571
    },
    "colab_type": "code",
    "executionInfo": {
     "elapsed": 383,
     "status": "ok",
     "timestamp": 1523417156278,
     "user": {
      "displayName": "Jeanette Henry",
      "photoUrl": "https://lh3.googleusercontent.com/a/default-user=s128",
      "userId": "115529016998019620749"
     },
     "user_tz": 360
    },
    "id": "rm-74wChtyhQ",
    "outputId": "b9eb5b58-1b0c-478d-a0d8-edfab508a2e3"
   },
   "outputs": [
    {
     "name": "stdout",
     "output_type": "stream",
     "text": [
      "_________________________________________________________________\n",
      "Layer (type)                 Output Shape              Param #   \n",
      "=================================================================\n",
      "conv2d_49 (Conv2D)           (None, 28, 28, 64)        640       \n",
      "_________________________________________________________________\n",
      "activation_45 (Activation)   (None, 28, 28, 64)        0         \n",
      "_________________________________________________________________\n",
      "conv2d_50 (Conv2D)           (None, 28, 28, 64)        36928     \n",
      "_________________________________________________________________\n",
      "activation_46 (Activation)   (None, 28, 28, 64)        0         \n",
      "_________________________________________________________________\n",
      "max_pooling2d_25 (MaxPooling (None, 14, 14, 64)        0         \n",
      "_________________________________________________________________\n",
      "conv2d_51 (Conv2D)           (None, 14, 14, 128)       73856     \n",
      "_________________________________________________________________\n",
      "activation_47 (Activation)   (None, 14, 14, 128)       0         \n",
      "_________________________________________________________________\n",
      "conv2d_52 (Conv2D)           (None, 14, 14, 128)       147584    \n",
      "_________________________________________________________________\n",
      "activation_48 (Activation)   (None, 14, 14, 128)       0         \n",
      "_________________________________________________________________\n",
      "max_pooling2d_26 (MaxPooling (None, 7, 7, 128)         0         \n",
      "_________________________________________________________________\n",
      "flatten_13 (Flatten)         (None, 6272)              0         \n",
      "_________________________________________________________________\n",
      "dense_25 (Dense)             (None, 64)                401472    \n",
      "_________________________________________________________________\n",
      "dense_26 (Dense)             (None, 10)                650       \n",
      "=================================================================\n",
      "Total params: 661,130\n",
      "Trainable params: 661,130\n",
      "Non-trainable params: 0\n",
      "_________________________________________________________________\n"
     ]
    }
   ],
   "source": [
    "#Your code here\n",
    "model = model_overfit()\n",
    "model.summary()\n",
    "from keras import optimizers\n",
    "adam = optimizers.Adam(lr=0.0005)\n",
    "model.compile(loss= 'categorical_crossentropy' , optimizer=adam , metrics=[ 'accuracy'])\n",
    "\n"
   ]
  },
  {
   "cell_type": "code",
   "execution_count": 38,
   "metadata": {
    "colab": {
     "autoexec": {
      "startup": false,
      "wait_interval": 0
     },
     "base_uri": "https://localhost:8080/",
     "height": 1747
    },
    "colab_type": "code",
    "executionInfo": {
     "elapsed": 1048389,
     "status": "ok",
     "timestamp": 1523418206897,
     "user": {
      "displayName": "Jeanette Henry",
      "photoUrl": "https://lh3.googleusercontent.com/a/default-user=s128",
      "userId": "115529016998019620749"
     },
     "user_tz": 360
    },
    "id": "nVotmrDNiG4S",
    "outputId": "bb3f434f-486b-47a7-92b9-8a0ca90cd1d6"
   },
   "outputs": [
    {
     "name": "stdout",
     "output_type": "stream",
     "text": [
      "Train on 60000 samples, validate on 10000 samples\n",
      "Epoch 1/50\n",
      " - 22s - loss: 0.2331 - acc: 0.9298 - val_loss: 0.0723 - val_acc: 0.9774\n",
      "Epoch 2/50\n",
      " - 21s - loss: 0.0527 - acc: 0.9838 - val_loss: 0.0352 - val_acc: 0.9883\n",
      "Epoch 3/50\n",
      " - 21s - loss: 0.0353 - acc: 0.9890 - val_loss: 0.0250 - val_acc: 0.9915\n",
      "Epoch 4/50\n",
      " - 21s - loss: 0.0250 - acc: 0.9921 - val_loss: 0.0243 - val_acc: 0.9909\n",
      "Epoch 5/50\n",
      " - 21s - loss: 0.0208 - acc: 0.9933 - val_loss: 0.0273 - val_acc: 0.9909\n",
      "Epoch 6/50\n",
      " - 21s - loss: 0.0162 - acc: 0.9948 - val_loss: 0.0253 - val_acc: 0.9917\n",
      "Epoch 7/50\n",
      " - 21s - loss: 0.0125 - acc: 0.9959 - val_loss: 0.0316 - val_acc: 0.9898\n",
      "Epoch 8/50\n",
      " - 21s - loss: 0.0101 - acc: 0.9970 - val_loss: 0.0266 - val_acc: 0.9917\n",
      "Epoch 9/50\n",
      " - 21s - loss: 0.0086 - acc: 0.9971 - val_loss: 0.0268 - val_acc: 0.9921\n",
      "Epoch 10/50\n",
      " - 21s - loss: 0.0078 - acc: 0.9975 - val_loss: 0.0352 - val_acc: 0.9907\n",
      "Epoch 11/50\n",
      " - 21s - loss: 0.0071 - acc: 0.9977 - val_loss: 0.0275 - val_acc: 0.9931\n",
      "Epoch 12/50\n",
      " - 21s - loss: 0.0056 - acc: 0.9982 - val_loss: 0.0259 - val_acc: 0.9930\n",
      "Epoch 13/50\n",
      " - 21s - loss: 0.0059 - acc: 0.9981 - val_loss: 0.0269 - val_acc: 0.9935\n",
      "Epoch 14/50\n",
      " - 21s - loss: 0.0043 - acc: 0.9986 - val_loss: 0.0248 - val_acc: 0.9932\n",
      "Epoch 15/50\n",
      " - 21s - loss: 0.0037 - acc: 0.9989 - val_loss: 0.0300 - val_acc: 0.9928\n",
      "Epoch 16/50\n",
      " - 21s - loss: 0.0054 - acc: 0.9982 - val_loss: 0.0267 - val_acc: 0.9932\n",
      "Epoch 17/50\n",
      " - 21s - loss: 0.0050 - acc: 0.9984 - val_loss: 0.0365 - val_acc: 0.9910\n",
      "Epoch 18/50\n",
      " - 21s - loss: 0.0039 - acc: 0.9988 - val_loss: 0.0259 - val_acc: 0.9942\n",
      "Epoch 19/50\n",
      " - 21s - loss: 0.0026 - acc: 0.9992 - val_loss: 0.0314 - val_acc: 0.9926\n",
      "Epoch 20/50\n",
      " - 21s - loss: 0.0027 - acc: 0.9991 - val_loss: 0.0285 - val_acc: 0.9930\n",
      "Epoch 21/50\n",
      " - 21s - loss: 0.0043 - acc: 0.9985 - val_loss: 0.0288 - val_acc: 0.9929\n",
      "Epoch 22/50\n",
      " - 21s - loss: 0.0040 - acc: 0.9987 - val_loss: 0.0372 - val_acc: 0.9920\n",
      "Epoch 23/50\n",
      " - 21s - loss: 0.0028 - acc: 0.9992 - val_loss: 0.0304 - val_acc: 0.9932\n",
      "Epoch 24/50\n",
      " - 21s - loss: 0.0026 - acc: 0.9992 - val_loss: 0.0337 - val_acc: 0.9915\n",
      "Epoch 25/50\n",
      " - 21s - loss: 0.0019 - acc: 0.9995 - val_loss: 0.0354 - val_acc: 0.9928\n",
      "Epoch 26/50\n",
      " - 21s - loss: 0.0025 - acc: 0.9994 - val_loss: 0.0312 - val_acc: 0.9925\n",
      "Epoch 27/50\n",
      " - 21s - loss: 0.0034 - acc: 0.9989 - val_loss: 0.0342 - val_acc: 0.9922\n",
      "Epoch 28/50\n",
      " - 21s - loss: 0.0016 - acc: 0.9996 - val_loss: 0.0390 - val_acc: 0.9916\n",
      "Epoch 29/50\n",
      " - 21s - loss: 0.0021 - acc: 0.9992 - val_loss: 0.0404 - val_acc: 0.9930\n",
      "Epoch 30/50\n",
      " - 21s - loss: 0.0035 - acc: 0.9989 - val_loss: 0.0330 - val_acc: 0.9923\n",
      "Epoch 31/50\n",
      " - 21s - loss: 0.0016 - acc: 0.9996 - val_loss: 0.0309 - val_acc: 0.9931\n",
      "Epoch 32/50\n",
      " - 21s - loss: 0.0028 - acc: 0.9991 - val_loss: 0.0425 - val_acc: 0.9909\n",
      "Epoch 33/50\n",
      " - 21s - loss: 0.0035 - acc: 0.9990 - val_loss: 0.0314 - val_acc: 0.9928\n",
      "Epoch 34/50\n",
      " - 21s - loss: 0.0013 - acc: 0.9996 - val_loss: 0.0303 - val_acc: 0.9932\n",
      "Epoch 35/50\n",
      " - 21s - loss: 3.2599e-04 - acc: 1.0000 - val_loss: 0.0280 - val_acc: 0.9941\n",
      "Epoch 36/50\n",
      " - 21s - loss: 2.7702e-04 - acc: 1.0000 - val_loss: 0.0287 - val_acc: 0.9940\n",
      "Epoch 37/50\n",
      " - 21s - loss: 2.7333e-04 - acc: 1.0000 - val_loss: 0.0293 - val_acc: 0.9940\n",
      "Epoch 38/50\n",
      " - 21s - loss: 2.7215e-04 - acc: 1.0000 - val_loss: 0.0297 - val_acc: 0.9940\n",
      "Epoch 39/50\n",
      " - 21s - loss: 2.7140e-04 - acc: 1.0000 - val_loss: 0.0301 - val_acc: 0.9940\n",
      "Epoch 40/50\n",
      " - 21s - loss: 2.7085e-04 - acc: 1.0000 - val_loss: 0.0306 - val_acc: 0.9941\n",
      "Epoch 41/50\n",
      " - 21s - loss: 2.7046e-04 - acc: 1.0000 - val_loss: 0.0310 - val_acc: 0.9941\n",
      "Epoch 42/50\n",
      " - 21s - loss: 2.7015e-04 - acc: 1.0000 - val_loss: 0.0314 - val_acc: 0.9941\n",
      "Epoch 43/50\n",
      " - 21s - loss: 2.6990e-04 - acc: 1.0000 - val_loss: 0.0318 - val_acc: 0.9941\n",
      "Epoch 44/50\n",
      " - 21s - loss: 2.6971e-04 - acc: 1.0000 - val_loss: 0.0322 - val_acc: 0.9941\n",
      "Epoch 45/50\n",
      " - 21s - loss: 2.6956e-04 - acc: 1.0000 - val_loss: 0.0326 - val_acc: 0.9941\n",
      "Epoch 46/50\n",
      " - 21s - loss: 2.6942e-04 - acc: 1.0000 - val_loss: 0.0330 - val_acc: 0.9941\n",
      "Epoch 47/50\n",
      " - 21s - loss: 2.6932e-04 - acc: 1.0000 - val_loss: 0.0334 - val_acc: 0.9942\n",
      "Epoch 48/50\n",
      " - 21s - loss: 2.6923e-04 - acc: 1.0000 - val_loss: 0.0338 - val_acc: 0.9942\n",
      "Epoch 49/50\n",
      " - 21s - loss: 2.6915e-04 - acc: 1.0000 - val_loss: 0.0342 - val_acc: 0.9940\n",
      "Epoch 50/50\n",
      " - 21s - loss: 2.6909e-04 - acc: 1.0000 - val_loss: 0.0346 - val_acc: 0.9941\n",
      "1046.0040535926819  seconds\n",
      "CNN Error: 0.59%\n"
     ]
    }
   ],
   "source": [
    "# Fit the model\n",
    "t0=time.time()\n",
    "log = model.fit(X_train, y_train, validation_data=(X_test, y_test), callbacks=[history], epochs=50, batch_size=200, verbose=2)\n",
    "t1=time.time()\n",
    "print(t1-t0,\" seconds\")\n",
    "\n",
    "# Final evaluation of the model\n",
    "scores = model.evaluate(X_test, y_test, verbose=0)\n",
    "print(\"CNN Error: %.2f%%\" % (100-scores[1]*100))"
   ]
  },
  {
   "cell_type": "markdown",
   "metadata": {
    "colab_type": "text",
    "id": "9ziTJGrpvMm7"
   },
   "source": []
  },
  {
   "cell_type": "markdown",
   "metadata": {
    "colab_type": "text",
    "id": "Dl5vFM6TvTPo"
   },
   "source": [
    "# Learning Rate of 0.0005"
   ]
  },
  {
   "cell_type": "code",
   "execution_count": 39,
   "metadata": {
    "colab": {
     "autoexec": {
      "startup": false,
      "wait_interval": 0
     },
     "base_uri": "https://localhost:8080/",
     "height": 587
    },
    "colab_type": "code",
    "executionInfo": {
     "elapsed": 803,
     "status": "ok",
     "timestamp": 1523418207710,
     "user": {
      "displayName": "Jeanette Henry",
      "photoUrl": "https://lh3.googleusercontent.com/a/default-user=s128",
      "userId": "115529016998019620749"
     },
     "user_tz": 360
    },
    "id": "r7mRGxLFvLuG",
    "outputId": "7956359e-a38c-45e5-c6f9-07ac5e34a98e"
   },
   "outputs": [
    {
     "name": "stdout",
     "output_type": "stream",
     "text": [
      "dict_keys(['val_loss', 'val_acc', 'loss', 'acc'])\n"
     ]
    },
    {
     "data": {
      "image/png": "[encoded data removed]",
      "text/plain": [
       "<matplotlib.figure.Figure at 0x7f538c714710>"
      ]
     },
     "metadata": {
      "tags": []
     },
     "output_type": "display_data"
    },
    {
     "data": {
      "image/png": "[encoded data removed]",
      "text/plain": [
       "<matplotlib.figure.Figure at 0x7f538c8269e8>"
      ]
     },
     "metadata": {
      "tags": []
     },
     "output_type": "display_data"
    }
   ],
   "source": [
    "#lr .0005 \n",
    "print(history.history.keys())\n",
    "#  \"Accuracy\"\n",
    "plt.plot(history.history['acc'])\n",
    "plt.plot(history.history['val_acc'])\n",
    "plt.title('model accuracy')\n",
    "plt.ylabel('accuracy')\n",
    "plt.xlabel('epoch')\n",
    "plt.legend(['train', 'validation'], loc='upper left')\n",
    "plt.show()\n",
    "# \"Loss\"\n",
    "plt.plot(history.history['loss'])\n",
    "plt.plot(history.history['val_loss'])\n",
    "plt.title('model loss')\n",
    "plt.ylabel('loss')\n",
    "plt.xlabel('epoch')\n",
    "plt.legend(['train', 'validation'], loc='upper left')\n",
    "plt.show()"
   ]
  },
  {
   "cell_type": "markdown",
   "metadata": {
    "colab_type": "text",
    "id": "Gk81XqbKtRKc"
   },
   "source": [
    "# Learning Rate of 0.002"
   ]
  },
  {
   "cell_type": "code",
   "execution_count": 32,
   "metadata": {
    "colab": {
     "autoexec": {
      "startup": false,
      "wait_interval": 0
     },
     "base_uri": "https://localhost:8080/",
     "height": 587
    },
    "colab_type": "code",
    "executionInfo": {
     "elapsed": 830,
     "status": "ok",
     "timestamp": 1523416637090,
     "user": {
      "displayName": "Jeanette Henry",
      "photoUrl": "https://lh3.googleusercontent.com/a/default-user=s128",
      "userId": "115529016998019620749"
     },
     "user_tz": 360
    },
    "id": "ZWhRuC5xpLoM",
    "outputId": "dc6602ca-b31e-4752-a496-0442144e901c"
   },
   "outputs": [
    {
     "name": "stdout",
     "output_type": "stream",
     "text": [
      "dict_keys(['val_loss', 'val_acc', 'loss', 'acc'])\n"
     ]
    },
    {
     "data": {
      "image/png": "[encoded data removed]",
      "text/plain": [
       "<matplotlib.figure.Figure at 0x7f53910df1d0>"
      ]
     },
     "metadata": {
      "tags": []
     },
     "output_type": "display_data"
    },
    {
     "data": {
      "image/png": "[encoded data removed]",
      "text/plain": [
       "<matplotlib.figure.Figure at 0x7f53901ca3c8>"
      ]
     },
     "metadata": {
      "tags": []
     },
     "output_type": "display_data"
    }
   ],
   "source": [
    "#lr .002 \n",
    "print(history.history.keys())\n",
    "#  \"Accuracy\"\n",
    "plt.plot(history.history['acc'])\n",
    "plt.plot(history.history['val_acc'])\n",
    "plt.title('model accuracy')\n",
    "plt.ylabel('accuracy')\n",
    "plt.xlabel('epoch')\n",
    "plt.legend(['train', 'validation'], loc='upper left')\n",
    "plt.show()\n",
    "# \"Loss\"\n",
    "plt.plot(history.history['loss'])\n",
    "plt.plot(history.history['val_loss'])\n",
    "plt.title('model loss')\n",
    "plt.ylabel('loss')\n",
    "plt.xlabel('epoch')\n",
    "plt.legend(['train', 'validation'], loc='upper left')\n",
    "plt.show()"
   ]
  },
  {
   "cell_type": "markdown",
   "metadata": {
    "colab_type": "text",
    "id": "D9sD_9ywtMh9"
   },
   "source": [
    "# Learning Rate of 0.004"
   ]
  },
  {
   "cell_type": "code",
   "execution_count": 29,
   "metadata": {
    "colab": {
     "autoexec": {
      "startup": false,
      "wait_interval": 0
     },
     "base_uri": "https://localhost:8080/",
     "height": 587
    },
    "colab_type": "code",
    "executionInfo": {
     "elapsed": 766,
     "status": "ok",
     "timestamp": 1523415238483,
     "user": {
      "displayName": "Jeanette Henry",
      "photoUrl": "https://lh3.googleusercontent.com/a/default-user=s128",
      "userId": "115529016998019620749"
     },
     "user_tz": 360
    },
    "id": "DV0Q2A75iPyA",
    "outputId": "10cd0443-4d25-421a-862d-a55383cdd523"
   },
   "outputs": [
    {
     "name": "stdout",
     "output_type": "stream",
     "text": [
      "dict_keys(['val_loss', 'val_acc', 'loss', 'acc'])\n"
     ]
    },
    {
     "data": {
      "image/png": "[encoded data removed]",
      "text/plain": [
       "<matplotlib.figure.Figure at 0x7f538f039940>"
      ]
     },
     "metadata": {
      "tags": []
     },
     "output_type": "display_data"
    },
    {
     "data": {
      "image/png": "[encoded data removed]",
      "text/plain": [
       "<matplotlib.figure.Figure at 0x7f538f01af60>"
      ]
     },
     "metadata": {
      "tags": []
     },
     "output_type": "display_data"
    }
   ],
   "source": [
    " #lr .004 \n",
    "print(history.history.keys())\n",
    "#  \"Accuracy\"\n",
    "plt.plot(history.history['acc'])\n",
    "plt.plot(history.history['val_acc'])\n",
    "plt.title('model accuracy')\n",
    "plt.ylabel('accuracy')\n",
    "plt.xlabel('epoch')\n",
    "plt.legend(['train', 'validation'], loc='upper left')\n",
    "plt.show()\n",
    "# \"Loss\"\n",
    "plt.plot(history.history['loss'])\n",
    "plt.plot(history.history['val_loss'])\n",
    "plt.title('model loss')\n",
    "plt.ylabel('loss')\n",
    "plt.xlabel('epoch')\n",
    "plt.legend(['train', 'validation'], loc='upper left')\n",
    "plt.show()"
   ]
  },
  {
   "cell_type": "markdown",
   "metadata": {
    "colab_type": "text",
    "id": "Eo9Oo_ZGtyhS"
   },
   "source": [
    "#### Add Dropout\n",
    "Now, add dropouts and run with the same hyperparameters (learning rate, epochs) you found from above. Time the model.fit() using `time.time`. \n",
    "1) Does it take longer training time by adding dropouts?\n",
    "2) For the same epoch, is your final validation accuracy better? If not better and you're sure it's not overfitting yet, try to increase either your learning rate or epoch, OR change your dropout rate(s). Record your optimum values. "
   ]
  },
  {
   "cell_type": "code",
   "execution_count": 40,
   "metadata": {
    "colab": {
     "autoexec": {
      "startup": false,
      "wait_interval": 0
     },
     "base_uri": "https://localhost:8080/",
     "height": 706
    },
    "colab_type": "code",
    "executionInfo": {
     "elapsed": 620,
     "status": "ok",
     "timestamp": 1523418208372,
     "user": {
      "displayName": "Jeanette Henry",
      "photoUrl": "https://lh3.googleusercontent.com/a/default-user=s128",
      "userId": "115529016998019620749"
     },
     "user_tz": 360
    },
    "id": "LzQ6rhV8tyhT",
    "outputId": "67f6544e-dfb8-4c41-d809-505bae83810f"
   },
   "outputs": [
    {
     "name": "stdout",
     "output_type": "stream",
     "text": [
      "_________________________________________________________________\n",
      "Layer (type)                 Output Shape              Param #   \n",
      "=================================================================\n",
      "conv2d_53 (Conv2D)           (None, 28, 28, 64)        640       \n",
      "_________________________________________________________________\n",
      "activation_49 (Activation)   (None, 28, 28, 64)        0         \n",
      "_________________________________________________________________\n",
      "conv2d_54 (Conv2D)           (None, 28, 28, 64)        36928     \n",
      "_________________________________________________________________\n",
      "activation_50 (Activation)   (None, 28, 28, 64)        0         \n",
      "_________________________________________________________________\n",
      "dropout_6 (Dropout)          (None, 28, 28, 64)        0         \n",
      "_________________________________________________________________\n",
      "max_pooling2d_27 (MaxPooling (None, 14, 14, 64)        0         \n",
      "_________________________________________________________________\n",
      "conv2d_55 (Conv2D)           (None, 14, 14, 128)       73856     \n",
      "_________________________________________________________________\n",
      "activation_51 (Activation)   (None, 14, 14, 128)       0         \n",
      "_________________________________________________________________\n",
      "conv2d_56 (Conv2D)           (None, 14, 14, 128)       147584    \n",
      "_________________________________________________________________\n",
      "activation_52 (Activation)   (None, 14, 14, 128)       0         \n",
      "_________________________________________________________________\n",
      "dropout_7 (Dropout)          (None, 14, 14, 128)       0         \n",
      "_________________________________________________________________\n",
      "max_pooling2d_28 (MaxPooling (None, 7, 7, 128)         0         \n",
      "_________________________________________________________________\n",
      "flatten_14 (Flatten)         (None, 6272)              0         \n",
      "_________________________________________________________________\n",
      "dense_27 (Dense)             (None, 64)                401472    \n",
      "_________________________________________________________________\n",
      "batch_normalization_12 (Batc (None, 64)                256       \n",
      "_________________________________________________________________\n",
      "dropout_8 (Dropout)          (None, 64)                0         \n",
      "_________________________________________________________________\n",
      "dense_28 (Dense)             (None, 10)                650       \n",
      "=================================================================\n",
      "Total params: 661,386\n",
      "Trainable params: 661,258\n",
      "Non-trainable params: 128\n",
      "_________________________________________________________________\n"
     ]
    }
   ],
   "source": [
    "#Your code here\n",
    "\n",
    "def dropmodel():\n",
    "    model = Sequential()\n",
    "    model.add (Conv2D(64, kernel_size=(3, 3), strides=(1, 1),\n",
    "                padding='same', input_shape=(28, 28, 1)))\n",
    "    model.add (Activation('relu'))\n",
    "    model.add (Conv2D(64, (3, 3),padding='same'))\n",
    "    model.add (Activation('relu'))\n",
    "    model.add (Dropout(0.5))\n",
    "    model.add (MaxPooling2D(pool_size=(2, 2), strides=None))\n",
    "    \n",
    "    model.add (Conv2D(128, (3, 3),padding='same'))\n",
    "    model.add (Activation('relu'))\n",
    "    model.add (Conv2D(128, (3, 3),padding='same'))\n",
    "    model.add (Activation('relu'))\n",
    "    model.add (Dropout(0.5))\n",
    "    model.add (MaxPooling2D(pool_size=(2, 2), strides=None))\n",
    "    \n",
    "    model.add (Flatten())\n",
    "    model.add (Dense(64, activation='relu'))\n",
    "    model.add (BatchNormalization())\n",
    "    model.add (Dropout(0.5))\n",
    "    \n",
    "    model.add (Dense(10, activation='softmax'))\n",
    "    return model\n",
    "\n",
    "# build the model\n",
    "model = dropmodel()\n",
    "model.summary()\n",
    "from keras import optimizers\n",
    "adam = optimizers.Adam(lr=0.0005)\n",
    "model.compile(loss= 'categorical_crossentropy' , optimizer=adam , metrics=[ 'accuracy'])\n"
   ]
  },
  {
   "cell_type": "code",
   "execution_count": 41,
   "metadata": {
    "colab": {
     "autoexec": {
      "startup": false,
      "wait_interval": 0
     },
     "base_uri": "https://localhost:8080/",
     "height": 1747
    },
    "colab_type": "code",
    "executionInfo": {
     "elapsed": 1258589,
     "status": "ok",
     "timestamp": 1523419466988,
     "user": {
      "displayName": "Jeanette Henry",
      "photoUrl": "https://lh3.googleusercontent.com/a/default-user=s128",
      "userId": "115529016998019620749"
     },
     "user_tz": 360
    },
    "id": "Rl3XQwFAt5pz",
    "outputId": "f5b125cd-63a0-498d-99be-5c645b14a806"
   },
   "outputs": [
    {
     "name": "stdout",
     "output_type": "stream",
     "text": [
      "Train on 60000 samples, validate on 10000 samples\n",
      "Epoch 1/50\n",
      " - 27s - loss: 0.2914 - acc: 0.9250 - val_loss: 0.4408 - val_acc: 0.9352\n",
      "Epoch 2/50\n",
      " - 25s - loss: 0.0857 - acc: 0.9795 - val_loss: 0.1641 - val_acc: 0.9858\n",
      "Epoch 3/50\n",
      " - 25s - loss: 0.0592 - acc: 0.9847 - val_loss: 0.1211 - val_acc: 0.9900\n",
      "Epoch 4/50\n",
      " - 25s - loss: 0.0482 - acc: 0.9870 - val_loss: 0.0995 - val_acc: 0.9880\n",
      "Epoch 5/50\n",
      " - 25s - loss: 0.0392 - acc: 0.9897 - val_loss: 0.1022 - val_acc: 0.9880\n",
      "Epoch 6/50\n",
      " - 25s - loss: 0.0342 - acc: 0.9908 - val_loss: 0.0570 - val_acc: 0.9916\n",
      "Epoch 7/50\n",
      " - 25s - loss: 0.0310 - acc: 0.9911 - val_loss: 0.0615 - val_acc: 0.9905\n",
      "Epoch 8/50\n",
      " - 25s - loss: 0.0291 - acc: 0.9917 - val_loss: 0.0478 - val_acc: 0.9927\n",
      "Epoch 9/50\n",
      " - 25s - loss: 0.0261 - acc: 0.9925 - val_loss: 0.0561 - val_acc: 0.9913\n",
      "Epoch 10/50\n",
      " - 25s - loss: 0.0228 - acc: 0.9935 - val_loss: 0.0518 - val_acc: 0.9898\n",
      "Epoch 11/50\n",
      " - 25s - loss: 0.0228 - acc: 0.9935 - val_loss: 0.0389 - val_acc: 0.9929\n",
      "Epoch 12/50\n",
      " - 25s - loss: 0.0201 - acc: 0.9943 - val_loss: 0.0419 - val_acc: 0.9923\n",
      "Epoch 13/50\n",
      " - 25s - loss: 0.0191 - acc: 0.9943 - val_loss: 0.0498 - val_acc: 0.9906\n",
      "Epoch 14/50\n",
      " - 25s - loss: 0.0184 - acc: 0.9946 - val_loss: 0.0322 - val_acc: 0.9933\n",
      "Epoch 15/50\n",
      " - 25s - loss: 0.0185 - acc: 0.9945 - val_loss: 0.0540 - val_acc: 0.9872\n",
      "Epoch 16/50\n",
      " - 25s - loss: 0.0163 - acc: 0.9952 - val_loss: 0.0400 - val_acc: 0.9921\n",
      "Epoch 17/50\n",
      " - 25s - loss: 0.0151 - acc: 0.9957 - val_loss: 0.0295 - val_acc: 0.9936\n",
      "Epoch 18/50\n",
      " - 25s - loss: 0.0148 - acc: 0.9956 - val_loss: 0.0348 - val_acc: 0.9918\n",
      "Epoch 19/50\n",
      " - 25s - loss: 0.0143 - acc: 0.9955 - val_loss: 0.0290 - val_acc: 0.9930\n",
      "Epoch 20/50\n",
      " - 25s - loss: 0.0136 - acc: 0.9957 - val_loss: 0.0345 - val_acc: 0.9930\n",
      "Epoch 21/50\n",
      " - 25s - loss: 0.0121 - acc: 0.9964 - val_loss: 0.0250 - val_acc: 0.9923\n",
      "Epoch 22/50\n",
      " - 25s - loss: 0.0107 - acc: 0.9969 - val_loss: 0.0289 - val_acc: 0.9927\n",
      "Epoch 23/50\n",
      " - 25s - loss: 0.0108 - acc: 0.9966 - val_loss: 0.0367 - val_acc: 0.9905\n",
      "Epoch 24/50\n",
      " - 25s - loss: 0.0106 - acc: 0.9967 - val_loss: 0.0251 - val_acc: 0.9934\n",
      "Epoch 25/50\n",
      " - 25s - loss: 0.0105 - acc: 0.9966 - val_loss: 0.0221 - val_acc: 0.9943\n",
      "Epoch 26/50\n",
      " - 25s - loss: 0.0105 - acc: 0.9969 - val_loss: 0.0279 - val_acc: 0.9926\n",
      "Epoch 27/50\n",
      " - 25s - loss: 0.0090 - acc: 0.9970 - val_loss: 0.0224 - val_acc: 0.9939\n",
      "Epoch 28/50\n",
      " - 25s - loss: 0.0098 - acc: 0.9970 - val_loss: 0.0242 - val_acc: 0.9938\n",
      "Epoch 29/50\n",
      " - 25s - loss: 0.0092 - acc: 0.9973 - val_loss: 0.0303 - val_acc: 0.9918\n",
      "Epoch 30/50\n",
      " - 25s - loss: 0.0081 - acc: 0.9976 - val_loss: 0.0281 - val_acc: 0.9917\n",
      "Epoch 31/50\n",
      " - 25s - loss: 0.0078 - acc: 0.9976 - val_loss: 0.0234 - val_acc: 0.9936\n",
      "Epoch 32/50\n",
      " - 25s - loss: 0.0080 - acc: 0.9974 - val_loss: 0.0303 - val_acc: 0.9913\n",
      "Epoch 33/50\n",
      " - 25s - loss: 0.0073 - acc: 0.9975 - val_loss: 0.0197 - val_acc: 0.9942\n",
      "Epoch 34/50\n",
      " - 25s - loss: 0.0070 - acc: 0.9977 - val_loss: 0.0206 - val_acc: 0.9943\n",
      "Epoch 35/50\n",
      " - 25s - loss: 0.0061 - acc: 0.9982 - val_loss: 0.0226 - val_acc: 0.9930\n",
      "Epoch 36/50\n",
      " - 25s - loss: 0.0075 - acc: 0.9976 - val_loss: 0.0212 - val_acc: 0.9937\n",
      "Epoch 37/50\n",
      " - 25s - loss: 0.0071 - acc: 0.9980 - val_loss: 0.0237 - val_acc: 0.9929\n",
      "Epoch 38/50\n",
      " - 25s - loss: 0.0064 - acc: 0.9979 - val_loss: 0.0189 - val_acc: 0.9939\n",
      "Epoch 39/50\n",
      " - 25s - loss: 0.0061 - acc: 0.9981 - val_loss: 0.0198 - val_acc: 0.9939\n",
      "Epoch 40/50\n",
      " - 25s - loss: 0.0061 - acc: 0.9978 - val_loss: 0.0266 - val_acc: 0.9909\n",
      "Epoch 41/50\n",
      " - 25s - loss: 0.0058 - acc: 0.9981 - val_loss: 0.0246 - val_acc: 0.9930\n",
      "Epoch 42/50\n",
      " - 25s - loss: 0.0053 - acc: 0.9984 - val_loss: 0.0223 - val_acc: 0.9929\n",
      "Epoch 43/50\n",
      " - 25s - loss: 0.0056 - acc: 0.9983 - val_loss: 0.0180 - val_acc: 0.9949\n",
      "Epoch 44/50\n",
      " - 25s - loss: 0.0052 - acc: 0.9983 - val_loss: 0.0198 - val_acc: 0.9943\n",
      "Epoch 45/50\n",
      " - 25s - loss: 0.0051 - acc: 0.9985 - val_loss: 0.0254 - val_acc: 0.9932\n",
      "Epoch 46/50\n",
      " - 25s - loss: 0.0053 - acc: 0.9985 - val_loss: 0.0249 - val_acc: 0.9923\n",
      "Epoch 47/50\n",
      " - 25s - loss: 0.0052 - acc: 0.9982 - val_loss: 0.0253 - val_acc: 0.9926\n",
      "Epoch 48/50\n",
      " - 25s - loss: 0.0044 - acc: 0.9984 - val_loss: 0.0179 - val_acc: 0.9954\n",
      "Epoch 49/50\n",
      " - 25s - loss: 0.0047 - acc: 0.9984 - val_loss: 0.0252 - val_acc: 0.9927\n",
      "Epoch 50/50\n",
      " - 25s - loss: 0.0040 - acc: 0.9986 - val_loss: 0.0199 - val_acc: 0.9943\n",
      "1256.1894574165344  seconds\n",
      "CNN Error: 0.57%\n"
     ]
    }
   ],
   "source": [
    "# Fit the model\n",
    "t0=time.time()\n",
    "log = model.fit(X_train, y_train, validation_data=(X_test, y_test), callbacks=[history], epochs=50, batch_size=200, verbose=2)\n",
    "t1=time.time()\n",
    "print(t1-t0,\" seconds\")\n",
    "\n",
    "# Final evaluation of the model\n",
    "scores = model.evaluate(X_test, y_test, verbose=0)\n",
    "print(\"CNN Error: %.2f%%\" % (100-scores[1]*100))"
   ]
  },
  {
   "cell_type": "code",
   "execution_count": 0,
   "metadata": {
    "colab": {
     "autoexec": {
      "startup": false,
      "wait_interval": 0
     }
    },
    "colab_type": "code",
    "collapsed": true,
    "id": "xOSVpE1Ut5sl"
   },
   "outputs": [],
   "source": []
  },
  {
   "cell_type": "markdown",
   "metadata": {
    "colab_type": "text",
    "id": "zVgD3NLT4l9s"
   },
   "source": [
    "## Yes, the dropout did add to the time it took to run the model \n",
    "- Original Time: 1046.0040535926819  seconds\n",
    "- Dropout time: 1256.1894574165344  seconds\n",
    "\n",
    "## Yes, the validation accuracy increased\n",
    "- Original Epoch 50 val_acc: 0.9941 \n",
    "- Dropout Epoch 50 val_acc: 0.9943"
   ]
  },
  {
   "cell_type": "markdown",
   "metadata": {
    "colab_type": "text",
    "id": "Ud6pTXrstyhV"
   },
   "source": [
    "#### Add Batch Normalization\n",
    "Now, get rid of dropouts and add batch normalization layers. Choose learning rate between 0.01 and 0.001. Find the largest learning rate that still does not overfit but gives highest accuracy.\n",
    "Time model.fit() using `time.time`. \n",
    "Plot the 'acc' and 'val_acc'\n",
    "Compare the learning rate with those from Exercise 1 and 2. What do you find?"
   ]
  },
  {
   "cell_type": "code",
   "execution_count": 57,
   "metadata": {
    "colab": {
     "autoexec": {
      "startup": false,
      "wait_interval": 0
     },
     "base_uri": "https://localhost:8080/",
     "height": 739
    },
    "colab_type": "code",
    "executionInfo": {
     "elapsed": 1206,
     "status": "ok",
     "timestamp": 1523423114446,
     "user": {
      "displayName": "Jeanette Henry",
      "photoUrl": "https://lh3.googleusercontent.com/a/default-user=s128",
      "userId": "115529016998019620749"
     },
     "user_tz": 360
    },
    "id": "CIxPr3HxtyhW",
    "outputId": "d869f4e4-eea5-4020-a733-d320392f05c5"
   },
   "outputs": [
    {
     "name": "stdout",
     "output_type": "stream",
     "text": [
      "_________________________________________________________________\n",
      "Layer (type)                 Output Shape              Param #   \n",
      "=================================================================\n",
      "conv2d_65 (Conv2D)           (None, 28, 28, 64)        640       \n",
      "_________________________________________________________________\n",
      "batch_normalization_23 (Batc (None, 28, 28, 64)        256       \n",
      "_________________________________________________________________\n",
      "activation_61 (Activation)   (None, 28, 28, 64)        0         \n",
      "_________________________________________________________________\n",
      "conv2d_66 (Conv2D)           (None, 28, 28, 64)        36928     \n",
      "_________________________________________________________________\n",
      "batch_normalization_24 (Batc (None, 28, 28, 64)        256       \n",
      "_________________________________________________________________\n",
      "activation_62 (Activation)   (None, 28, 28, 64)        0         \n",
      "_________________________________________________________________\n",
      "max_pooling2d_33 (MaxPooling (None, 14, 14, 64)        0         \n",
      "_________________________________________________________________\n",
      "conv2d_67 (Conv2D)           (None, 14, 14, 128)       73856     \n",
      "_________________________________________________________________\n",
      "batch_normalization_25 (Batc (None, 14, 14, 128)       512       \n",
      "_________________________________________________________________\n",
      "activation_63 (Activation)   (None, 14, 14, 128)       0         \n",
      "_________________________________________________________________\n",
      "conv2d_68 (Conv2D)           (None, 14, 14, 128)       147584    \n",
      "_________________________________________________________________\n",
      "batch_normalization_26 (Batc (None, 14, 14, 128)       512       \n",
      "_________________________________________________________________\n",
      "activation_64 (Activation)   (None, 14, 14, 128)       0         \n",
      "_________________________________________________________________\n",
      "max_pooling2d_34 (MaxPooling (None, 7, 7, 128)         0         \n",
      "_________________________________________________________________\n",
      "flatten_17 (Flatten)         (None, 6272)              0         \n",
      "_________________________________________________________________\n",
      "dense_33 (Dense)             (None, 64)                401472    \n",
      "_________________________________________________________________\n",
      "batch_normalization_27 (Batc (None, 64)                256       \n",
      "_________________________________________________________________\n",
      "dense_34 (Dense)             (None, 10)                650       \n",
      "=================================================================\n",
      "Total params: 662,922\n",
      "Trainable params: 662,026\n",
      "Non-trainable params: 896\n",
      "_________________________________________________________________\n"
     ]
    }
   ],
   "source": [
    "#Your code here\n",
    "\n",
    "def BNmodel():\n",
    "    model = Sequential()\n",
    "    model.add (Conv2D(64, kernel_size=(3, 3), strides=(1, 1),\n",
    "                padding='same', input_shape=(28, 28, 1)))\n",
    "    model.add (BatchNormalization())\n",
    "    model.add (Activation('relu')) \n",
    "    model.add (Conv2D(64, (3, 3),padding='same'))\n",
    "    model.add (BatchNormalization())\n",
    "    model.add (Activation('relu'))\n",
    "    model.add (MaxPooling2D(pool_size=(2, 2), strides=None))\n",
    "    \n",
    "    model.add (Conv2D(128, (3, 3),padding='same'))\n",
    "    model.add (BatchNormalization())\n",
    "    model.add (Activation('relu'))\n",
    "    model.add (Conv2D(128, (3, 3),padding='same'))\n",
    "    model.add (BatchNormalization())\n",
    "    model.add (Activation('relu'))\n",
    "    model.add (MaxPooling2D(pool_size=(2, 2), strides=None))\n",
    "    \n",
    "    model.add (Flatten())\n",
    "    model.add (Dense(64, activation='relu'))\n",
    "    model.add (BatchNormalization())\n",
    "    \n",
    "    model.add (Dense(10, activation='softmax'))\n",
    "    return model\n",
    "\n",
    "# build the model\n",
    "model = BNmodel()\n",
    "model.summary()\n",
    "from keras import optimizers\n",
    "adam = optimizers.Adam(lr=0.001)\n",
    "model.compile(loss= 'categorical_crossentropy' , optimizer=adam , metrics=[ 'accuracy'])\n"
   ]
  },
  {
   "cell_type": "code",
   "execution_count": 46,
   "metadata": {
    "colab": {
     "autoexec": {
      "startup": false,
      "wait_interval": 0
     },
     "base_uri": "https://localhost:8080/",
     "height": 1747
    },
    "colab_type": "code",
    "executionInfo": {
     "elapsed": 1530773,
     "status": "ok",
     "timestamp": 1523422526827,
     "user": {
      "displayName": "Jeanette Henry",
      "photoUrl": "https://lh3.googleusercontent.com/a/default-user=s128",
      "userId": "115529016998019620749"
     },
     "user_tz": 360
    },
    "id": "HI7uqhqwu5-9",
    "outputId": "a746be45-7406-424f-c48c-cb481abd4bf8"
   },
   "outputs": [
    {
     "name": "stdout",
     "output_type": "stream",
     "text": [
      "Train on 60000 samples, validate on 10000 samples\n",
      "Epoch 1/50\n",
      " - 32s - loss: 0.0974 - acc: 0.9732 - val_loss: 0.1499 - val_acc: 0.9505\n",
      "Epoch 2/50\n",
      " - 30s - loss: 0.0335 - acc: 0.9894 - val_loss: 0.0284 - val_acc: 0.9909\n",
      "Epoch 3/50\n",
      " - 30s - loss: 0.0247 - acc: 0.9924 - val_loss: 0.0919 - val_acc: 0.9729\n",
      "Epoch 4/50\n",
      " - 31s - loss: 0.0199 - acc: 0.9937 - val_loss: 0.1242 - val_acc: 0.9644\n",
      "Epoch 5/50\n",
      " - 31s - loss: 0.0167 - acc: 0.9945 - val_loss: 0.0766 - val_acc: 0.9782\n",
      "Epoch 6/50\n",
      " - 30s - loss: 0.0151 - acc: 0.9950 - val_loss: 0.0414 - val_acc: 0.9882\n",
      "Epoch 7/50\n",
      " - 31s - loss: 0.0122 - acc: 0.9961 - val_loss: 0.0486 - val_acc: 0.9861\n",
      "Epoch 8/50\n",
      " - 31s - loss: 0.0103 - acc: 0.9967 - val_loss: 0.0494 - val_acc: 0.9851\n",
      "Epoch 9/50\n",
      " - 31s - loss: 0.0103 - acc: 0.9966 - val_loss: 0.0367 - val_acc: 0.9893\n",
      "Epoch 10/50\n",
      " - 31s - loss: 0.0086 - acc: 0.9970 - val_loss: 0.0436 - val_acc: 0.9886\n",
      "Epoch 11/50\n",
      " - 30s - loss: 0.0095 - acc: 0.9968 - val_loss: 0.0434 - val_acc: 0.9871\n",
      "Epoch 12/50\n",
      " - 31s - loss: 0.0078 - acc: 0.9973 - val_loss: 0.0335 - val_acc: 0.9898\n",
      "Epoch 13/50\n",
      " - 31s - loss: 0.0073 - acc: 0.9976 - val_loss: 0.0356 - val_acc: 0.9900\n",
      "Epoch 14/50\n",
      " - 31s - loss: 0.0062 - acc: 0.9978 - val_loss: 0.0281 - val_acc: 0.9928\n",
      "Epoch 15/50\n",
      " - 30s - loss: 0.0059 - acc: 0.9978 - val_loss: 0.0470 - val_acc: 0.9866\n",
      "Epoch 16/50\n",
      " - 31s - loss: 0.0043 - acc: 0.9986 - val_loss: 0.0354 - val_acc: 0.9914\n",
      "Epoch 17/50\n",
      " - 31s - loss: 0.0046 - acc: 0.9983 - val_loss: 0.0377 - val_acc: 0.9905\n",
      "Epoch 18/50\n",
      " - 31s - loss: 0.0072 - acc: 0.9975 - val_loss: 0.0387 - val_acc: 0.9898\n",
      "Epoch 19/50\n",
      " - 31s - loss: 0.0048 - acc: 0.9983 - val_loss: 0.0485 - val_acc: 0.9881\n",
      "Epoch 20/50\n",
      " - 31s - loss: 0.0047 - acc: 0.9984 - val_loss: 0.0390 - val_acc: 0.9907\n",
      "Epoch 21/50\n",
      " - 31s - loss: 0.0029 - acc: 0.9990 - val_loss: 0.0333 - val_acc: 0.9923\n",
      "Epoch 22/50\n",
      " - 30s - loss: 0.0050 - acc: 0.9984 - val_loss: 0.0389 - val_acc: 0.9911\n",
      "Epoch 23/50\n",
      " - 30s - loss: 0.0019 - acc: 0.9995 - val_loss: 0.0370 - val_acc: 0.9921\n",
      "Epoch 24/50\n",
      " - 30s - loss: 0.0033 - acc: 0.9988 - val_loss: 0.0383 - val_acc: 0.9916\n",
      "Epoch 25/50\n",
      " - 30s - loss: 0.0061 - acc: 0.9979 - val_loss: 0.0448 - val_acc: 0.9902\n",
      "Epoch 26/50\n",
      " - 30s - loss: 0.0039 - acc: 0.9988 - val_loss: 0.0288 - val_acc: 0.9916\n",
      "Epoch 27/50\n",
      " - 30s - loss: 0.0035 - acc: 0.9987 - val_loss: 0.0287 - val_acc: 0.9927\n",
      "Epoch 28/50\n",
      " - 30s - loss: 0.0020 - acc: 0.9993 - val_loss: 0.0321 - val_acc: 0.9926\n",
      "Epoch 29/50\n",
      " - 30s - loss: 0.0010 - acc: 0.9997 - val_loss: 0.0252 - val_acc: 0.9949\n",
      "Epoch 30/50\n",
      " - 30s - loss: 0.0013 - acc: 0.9997 - val_loss: 0.0250 - val_acc: 0.9935\n",
      "Epoch 31/50\n",
      " - 30s - loss: 0.0045 - acc: 0.9985 - val_loss: 0.0524 - val_acc: 0.9876\n",
      "Epoch 32/50\n",
      " - 30s - loss: 0.0060 - acc: 0.9981 - val_loss: 0.0424 - val_acc: 0.9902\n",
      "Epoch 33/50\n",
      " - 30s - loss: 0.0030 - acc: 0.9989 - val_loss: 0.0273 - val_acc: 0.9936\n",
      "Epoch 34/50\n",
      " - 30s - loss: 0.0012 - acc: 0.9997 - val_loss: 0.0319 - val_acc: 0.9929\n",
      "Epoch 35/50\n",
      " - 30s - loss: 0.0015 - acc: 0.9995 - val_loss: 0.0354 - val_acc: 0.9923\n",
      "Epoch 36/50\n",
      " - 30s - loss: 0.0013 - acc: 0.9996 - val_loss: 0.0297 - val_acc: 0.9929\n",
      "Epoch 37/50\n",
      " - 30s - loss: 0.0034 - acc: 0.9989 - val_loss: 0.0335 - val_acc: 0.9931\n",
      "Epoch 38/50\n",
      " - 31s - loss: 0.0027 - acc: 0.9993 - val_loss: 0.0375 - val_acc: 0.9939\n",
      "Epoch 39/50\n",
      " - 30s - loss: 0.0026 - acc: 0.9990 - val_loss: 0.0407 - val_acc: 0.9913\n",
      "Epoch 40/50\n",
      " - 30s - loss: 0.0024 - acc: 0.9992 - val_loss: 0.0272 - val_acc: 0.9940\n",
      "Epoch 41/50\n",
      " - 30s - loss: 0.0011 - acc: 0.9997 - val_loss: 0.0238 - val_acc: 0.9945\n",
      "Epoch 42/50\n",
      " - 30s - loss: 8.9436e-04 - acc: 0.9998 - val_loss: 0.0268 - val_acc: 0.9944\n",
      "Epoch 43/50\n",
      " - 30s - loss: 0.0019 - acc: 0.9994 - val_loss: 0.0397 - val_acc: 0.9919\n",
      "Epoch 44/50\n",
      " - 30s - loss: 0.0029 - acc: 0.9991 - val_loss: 0.0488 - val_acc: 0.9894\n",
      "Epoch 45/50\n",
      " - 30s - loss: 0.0027 - acc: 0.9991 - val_loss: 0.0329 - val_acc: 0.9920\n",
      "Epoch 46/50\n",
      " - 30s - loss: 9.8659e-04 - acc: 0.9997 - val_loss: 0.0340 - val_acc: 0.9922\n",
      "Epoch 47/50\n",
      " - 30s - loss: 4.5243e-04 - acc: 0.9998 - val_loss: 0.0339 - val_acc: 0.9936\n",
      "Epoch 48/50\n",
      " - 30s - loss: 4.3855e-04 - acc: 0.9999 - val_loss: 0.0267 - val_acc: 0.9941\n",
      "Epoch 49/50\n",
      " - 30s - loss: 7.8831e-05 - acc: 1.0000 - val_loss: 0.0209 - val_acc: 0.9951\n",
      "Epoch 50/50\n",
      " - 30s - loss: 3.9053e-05 - acc: 1.0000 - val_loss: 0.0227 - val_acc: 0.9949\n",
      "1527.4570615291595  seconds\n",
      "CNN Error: 0.51%\n"
     ]
    }
   ],
   "source": [
    "# Fit the model\n",
    "t0=time.time()\n",
    "log = model.fit(X_train, y_train, validation_data=(X_test, y_test), callbacks=[history], epochs=50, batch_size=200, verbose=2)\n",
    "t1=time.time()\n",
    "print(t1-t0,\" seconds\")\n",
    "\n",
    "# Final evaluation of the model\n",
    "scores = model.evaluate(X_test, y_test, verbose=0)\n",
    "print(\"CNN Error: %.2f%%\" % (100-scores[1]*100))"
   ]
  },
  {
   "cell_type": "code",
   "execution_count": 58,
   "metadata": {
    "colab": {
     "autoexec": {
      "startup": false,
      "wait_interval": 0
     },
     "base_uri": "https://localhost:8080/",
     "height": 403
    },
    "colab_type": "code",
    "executionInfo": {
     "elapsed": 312268,
     "status": "ok",
     "timestamp": 1523423435694,
     "user": {
      "displayName": "Jeanette Henry",
      "photoUrl": "https://lh3.googleusercontent.com/a/default-user=s128",
      "userId": "115529016998019620749"
     },
     "user_tz": 360
    },
    "id": "CSAH_i3JEqyA",
    "outputId": "eeb1c5a7-f347-4e8e-ed80-9e1e863d61f8"
   },
   "outputs": [
    {
     "name": "stdout",
     "output_type": "stream",
     "text": [
      "Train on 60000 samples, validate on 10000 samples\n",
      "Epoch 1/10\n",
      " - 33s - loss: 0.0982 - acc: 0.9748 - val_loss: 0.0662 - val_acc: 0.9804\n",
      "Epoch 2/10\n",
      " - 31s - loss: 0.0322 - acc: 0.9915 - val_loss: 0.0651 - val_acc: 0.9802\n",
      "Epoch 3/10\n",
      " - 31s - loss: 0.0228 - acc: 0.9936 - val_loss: 0.0367 - val_acc: 0.9895\n",
      "Epoch 4/10\n",
      " - 31s - loss: 0.0165 - acc: 0.9952 - val_loss: 0.0525 - val_acc: 0.9831\n",
      "Epoch 5/10\n",
      " - 31s - loss: 0.0132 - acc: 0.9965 - val_loss: 0.0328 - val_acc: 0.9897\n",
      "Epoch 6/10\n",
      " - 30s - loss: 0.0117 - acc: 0.9967 - val_loss: 0.0267 - val_acc: 0.9916\n",
      "Epoch 7/10\n",
      " - 31s - loss: 0.0100 - acc: 0.9970 - val_loss: 0.0347 - val_acc: 0.9894\n",
      "Epoch 8/10\n",
      " - 30s - loss: 0.0067 - acc: 0.9982 - val_loss: 0.0357 - val_acc: 0.9891\n",
      "Epoch 9/10\n",
      " - 31s - loss: 0.0061 - acc: 0.9985 - val_loss: 0.0402 - val_acc: 0.9872\n",
      "Epoch 10/10\n",
      " - 31s - loss: 0.0054 - acc: 0.9985 - val_loss: 0.0669 - val_acc: 0.9788\n",
      "308.8399817943573  seconds\n",
      "CNN Error: 2.12%\n"
     ]
    }
   ],
   "source": [
    "# Fit the model\n",
    "t0=time.time()\n",
    "log = model.fit(X_train, y_train, validation_data=(X_test, y_test), callbacks=[history], epochs=10, batch_size=200, verbose=2)\n",
    "t1=time.time()\n",
    "print(t1-t0,\" seconds\")\n",
    "\n",
    "# Final evaluation of the model\n",
    "scores = model.evaluate(X_test, y_test, verbose=0)\n",
    "print(\"CNN Error: %.2f%%\" % (100-scores[1]*100))"
   ]
  },
  {
   "cell_type": "code",
   "execution_count": 59,
   "metadata": {
    "colab": {
     "autoexec": {
      "startup": false,
      "wait_interval": 0
     },
     "base_uri": "https://localhost:8080/",
     "height": 587
    },
    "colab_type": "code",
    "executionInfo": {
     "elapsed": 684,
     "status": "ok",
     "timestamp": 1523423436452,
     "user": {
      "displayName": "Jeanette Henry",
      "photoUrl": "https://lh3.googleusercontent.com/a/default-user=s128",
      "userId": "115529016998019620749"
     },
     "user_tz": 360
    },
    "id": "W_HxTSjvANKt",
    "outputId": "b21f8f00-5241-4d0c-ab1c-8f80a82dff9a"
   },
   "outputs": [
    {
     "name": "stdout",
     "output_type": "stream",
     "text": [
      "dict_keys(['val_loss', 'val_acc', 'loss', 'acc'])\n"
     ]
    },
    {
     "data": {
      "image/png": "[encoded data removed]",
      "text/plain": [
       "<matplotlib.figure.Figure at 0x7f53853163c8>"
      ]
     },
     "metadata": {
      "tags": []
     },
     "output_type": "display_data"
    },
    {
     "data": {
      "image/png": "[encoded data removed]",
      "text/plain": [
       "<matplotlib.figure.Figure at 0x7f538877d4a8>"
      ]
     },
     "metadata": {
      "tags": []
     },
     "output_type": "display_data"
    }
   ],
   "source": [
    "print(history.history.keys())\n",
    "#  \"Accuracy\"\n",
    "plt.plot(history.history['acc'])\n",
    "plt.plot(history.history['val_acc'])\n",
    "plt.title('BATCHNORM model accuracy')\n",
    "plt.ylabel('accuracy')\n",
    "plt.xlabel('epoch')\n",
    "plt.legend(['train', 'validation'], loc='upper left')\n",
    "plt.show()\n",
    "# \"Loss\"\n",
    "plt.plot(history.history['loss'])\n",
    "plt.plot(history.history['val_loss'])\n",
    "plt.title('BATCHNORM model loss')\n",
    "plt.ylabel('loss')\n",
    "plt.xlabel('epoch')\n",
    "plt.legend(['train', 'validation'], loc='upper left')\n",
    "plt.show()"
   ]
  },
  {
   "cell_type": "markdown",
   "metadata": {
    "colab_type": "text",
    "id": "egMOJEaNtyha"
   },
   "source": [
    "### Quiz.\n",
    "\n",
    "#### 1. \n",
    "What are the advantages of a CNN over a fully connected ANN for image classificaion?\n",
    "- Convolution layers are able to analyze areas of pixels in a superior way. After th convolutional layers the rest of the network is similar to ANN. The largest advantage is that convolution layers can automatically detect the important features without any human supervision.\n",
    "\n",
    "\n",
    "#### 2. \n",
    "Consider a CNN composed of 3 convolutional layers, each with 3x3 kernels, a stride of 2, and with 'same' padding. The first layer outputs a featuremap with 100 cahnnels, the second layer outputs a featuremap with 200 depth, and the last outputs one with 400 depth. The input is color (RGB) images of 200x300 pixels. What is the total number of parameters for this CNN model?\n",
    "# Total Params = 901,600\n",
    "- model.add (Conv2D(100, kernel_size=(3, 3), strides=(2), padding='same', input_shape=(200, 300, 1)))\n",
    "- model.add (Conv2D(200, (3, 3),padding='same',strides=(2)))\n",
    "- model.add (Conv2D(400, (3, 3),padding='same',strides=(2)))\n",
    "\n",
    "model.summary()\n",
    "###Layer (type)       ___          Output Shape      ___        Param   \n",
    "\n",
    "=================================================================\n",
    "###conv2d_1 (Conv2D)            (None, 100, 150, 100)     1000      \n",
    "_________________________________________________________________\n",
    "###conv2d_2 (Conv2D)            (None, 50, 75, 200)       180200    \n",
    "_________________________________________________________________\n",
    "###conv2d_3 (Conv2D)            (None, 25, 38, 400)       720400  \n",
    "\n",
    "=================================================================\n",
    "###Total params: 901,600\n",
    "###Trainable params: 901,600\n",
    "###Non-trainable params: 0\n",
    "_______________________________\n",
    "\n",
    "#\n",
    "\n",
    "#### 3.\n",
    "If your GPU runs out of memory while you train a CNN model, what can you do resolving the issue? List at least 3 ways to \n",
    "\n",
    "1. Reduce training size\n",
    "2. Shrink batch size\n",
    "3. Telling TensorFlow to allocate memory on the GPU as needed, instead of up front (allow_growth option and per_process_gpu_memory_fraction option)\n",
    "4. Trade reduced memory for an increase in computation\n",
    "4. Use Google Colab GPU\n"
   ]
  }
 ],
 "metadata": {
  "accelerator": "GPU",
  "colab": {
   "collapsed_sections": [],
   "default_view": {},
   "name": "MNIST-Keras-advanced.ipynb",
   "provenance": [],
   "version": "0.3.2",
   "views": {}
  },
  "kernelspec": {
   "display_name": "Python 3",
   "language": "python",
   "name": "python3"
  },
  "language_info": {
   "codemirror_mode": {
    "name": "ipython",
    "version": 3
   },
   "file_extension": ".py",
   "mimetype": "text/x-python",
   "name": "python",
   "nbconvert_exporter": "python",
   "pygments_lexer": "ipython3",
   "version": "3.6.1"
  }
 },
 "nbformat": 4,
 "nbformat_minor": 1
}
