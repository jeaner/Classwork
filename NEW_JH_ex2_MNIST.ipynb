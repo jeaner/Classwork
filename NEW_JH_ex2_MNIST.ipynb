{
 "cells": [
  {
   "cell_type": "markdown",
   "metadata": {},
   "source": [
    "# MNIST- handwritten digit recognition\n",
    "[The MNIST problem](http://yann.lecun.com/exdb/mnist/) is a dataset developed by Yann LeCun, Corinna Cortes and Christopher\n",
    "Burges for evaluating machine learning models on the handwritten digit classification problem.\n",
    "The dataset was constructed from a number of scanned document datasets available from the\n",
    "National Institute of Standards and Technology (NIST). This is where the name for the dataset\n",
    "comes from, as the Modified NIST or MNIST dataset.\n",
    "Images of digits were taken from a variety of scanned documents, normalized in size and\n",
    "centered. This makes it an excellent dataset for evaluating models, allowing the developer to\n",
    "focus on the machine learning with very little data cleaning or preparation required. Each\n",
    "image is a 28 × 28 pixel square (784 pixels total).\n",
    "The dataset below has 60000 images for training and 10000 for testing. Labels are the 10 digits (0-9), therefore it is a multi-class classification problem. Excellent results achieve a prediction error of less than 1%. State-of-the-art prediction\n",
    "error of approximately 0.2% can be achieved with large Convolutional Neural Networks."
   ]
  },
  {
   "cell_type": "markdown",
   "metadata": {},
   "source": [
    "## Loading Data & EDA"
   ]
  },
  {
   "cell_type": "code",
   "execution_count": 94,
   "metadata": {},
   "outputs": [],
   "source": [
    "from keras.datasets import mnist\n",
    "import matplotlib.pyplot as plt\n",
    "import numpy as np\n",
    "%matplotlib inline\n",
    "K.clear_session()"
   ]
  },
  {
   "cell_type": "code",
   "execution_count": 95,
   "metadata": {
    "collapsed": true
   },
   "outputs": [],
   "source": [
    "?mnist"
   ]
  },
  {
   "cell_type": "code",
   "execution_count": 96,
   "metadata": {},
   "outputs": [
    {
     "data": {
      "image/png": "[encoded data removed]",
      "text/plain": [
       "<matplotlib.figure.Figure at 0x2af353b6b00>"
      ]
     },
     "metadata": {},
     "output_type": "display_data"
    }
   ],
   "source": [
    "# fix random seed for reproducibility\n",
    "seed = 123\n",
    "np.random.seed(seed)\n",
    "# load (downloaded if needed) the MNIST dataset\n",
    "#xtnfile = 'C:\\MSDS\\Deep\\wk2\\train-images-idx3-ubyte.gz'\n",
    "#ytnfile = 'C:\\MSDS\\Deep\\wk2\\train-labels-idx1-ubyte.gz'\n",
    "#xtsfile = 'C:\\MSDS\\Deep\\wk2\\t10k-images-idx3-ubyte.gz'\n",
    "#ytsfile = 'C:\\MSDS\\Deep\\wk2\\t10k-labels-idx1-ubyte.gz'\n",
    "(X_train, y_train), (X_test, y_test) = mnist.load_data()\n",
    "# plot 4 images as gray scale\n",
    "plt.subplot(221)\n",
    "plt.imshow(X_train[0], cmap='gray')\n",
    "plt.subplot(222)\n",
    "plt.imshow(X_train[1], cmap='gray') \n",
    "plt.subplot(223)\n",
    "plt.imshow(X_train[2], cmap='gray')\n",
    "plt.subplot(224)\n",
    "plt.imshow(X_train[3], cmap='gray')\n",
    "# show the plot\n",
    "plt.show()"
   ]
  },
  {
   "cell_type": "code",
   "execution_count": 97,
   "metadata": {},
   "outputs": [
    {
     "name": "stdout",
     "output_type": "stream",
     "text": [
      "(60000, 28, 28) (60000,) (10000, 28, 28) (10000,)\n",
      "255 0\n"
     ]
    }
   ],
   "source": [
    "print(X_train.shape, y_train.shape, X_test.shape, y_test.shape)\n",
    "print(X_train.max(), X_train.min()) # Note that the pixel value scales 0-255 "
   ]
  },
  {
   "cell_type": "markdown",
   "metadata": {},
   "source": [
    "## Baseline model using simple neural net\n",
    "MNIST problem is not terribly difficult that we may get a decent result by using simple neural nets without CNN. We can build a baseline model with a simple neural net and later compare how a CNN model does better that the baseline.\n",
    "\n",
    "A simple NN talkes 1D input, so we will change the data shape to a 1D vector: a 2D image of 28x28 pixels is reshaped (flattened) to a 1D vector of 784 pixels. Then the pixel values are normalized so that a value is between 0 and 1. Then we make labels (both y_train and y_test) to categorical- which means we make 10 columns with values 0 or 1 instead of 1 column with values 0-9.     \n"
   ]
  },
  {
   "cell_type": "code",
   "execution_count": 98,
   "metadata": {},
   "outputs": [
    {
     "name": "stdout",
     "output_type": "stream",
     "text": [
      "(60000, 28, 28) (60000,) (10000, 28, 28) (10000,)\n"
     ]
    }
   ],
   "source": [
    "from keras.models import Sequential\n",
    "from keras.layers import Dense\n",
    "from keras.layers import Dropout\n",
    "import keras.utils as np_utils\n",
    "\n",
    "# fix random seed for reproducibility\n",
    "seed = 123\n",
    "np.random.seed(seed)\n",
    "# load (downloaded if needed) the MNIST dataset\n",
    "(X_train, y_train), (X_test, y_test) = mnist.load_data()\n",
    "print(X_train.shape, y_train.shape, X_test.shape, y_test.shape)"
   ]
  },
  {
   "cell_type": "code",
   "execution_count": 99,
   "metadata": {},
   "outputs": [],
   "source": [
    "\n",
    "\n",
    "# flatten 28*28 images to a 784 vector for each image\n",
    "num_pixels = X_train.shape[1] * X_train.shape[2]\n",
    "X_train = X_train.reshape(X_train.shape[0], num_pixels).astype('float32')\n",
    "X_test = X_test.reshape(X_test.shape[0], num_pixels).astype('float32')\n",
    "# normalize inputs from 0-255 to 0-1\n",
    "X_train = X_train / 255\n",
    "X_test = X_test / 255\n",
    "# one hot encode outputs\n",
    "y_train = np_utils.to_categorical(y_train)\n",
    "y_test = np_utils.to_categorical(y_test)\n",
    "num_classes = y_test.shape[1]\n"
   ]
  },
  {
   "cell_type": "code",
   "execution_count": 100,
   "metadata": {},
   "outputs": [
    {
     "name": "stdout",
     "output_type": "stream",
     "text": [
      "(60000, 784) (60000, 10) (10000, 784) (10000, 10)\n"
     ]
    }
   ],
   "source": [
    "print(X_train.shape, y_train.shape, X_test.shape, y_test.shape)"
   ]
  },
  {
   "cell_type": "code",
   "execution_count": 101,
   "metadata": {},
   "outputs": [
    {
     "name": "stdout",
     "output_type": "stream",
     "text": [
      "_________________________________________________________________\n",
      "Layer (type)                 Output Shape              Param #   \n",
      "=================================================================\n",
      "dense_1 (Dense)              (None, 784)               615440    \n",
      "_________________________________________________________________\n",
      "dense_2 (Dense)              (None, 10)                7850      \n",
      "=================================================================\n",
      "Total params: 623,290\n",
      "Trainable params: 623,290\n",
      "Non-trainable params: 0\n",
      "_________________________________________________________________\n"
     ]
    }
   ],
   "source": [
    "### YOUR TURN: \n",
    "#   Build a model using Sequential() which has 1 Dense hidden layer and 1 output    \n",
    "#   For the dense layer, give the number of neurons the same as the number of the input pixels \n",
    "# \n",
    "\n",
    "# define baseline model\n",
    "def baseline_model():\n",
    "    model = Sequential()\n",
    "    model.add(Dense(784, activation='relu', input_shape=(784,)))\n",
    "    model.add(Dense(10, activation='softmax'))\n",
    "    return model\n",
    "\n",
    "model = baseline_model()\n",
    "model.summary()"
   ]
  },
  {
   "cell_type": "markdown",
   "metadata": {},
   "source": [
    "## Note: I made the output shape 10 to match the shape of y (60000, 10)"
   ]
  },
  {
   "cell_type": "code",
   "execution_count": 102,
   "metadata": {},
   "outputs": [],
   "source": [
    "# build the model\n",
    "model = baseline_model()\n",
    "#   Compile model\n",
    "model.compile(loss= 'categorical_crossentropy' , optimizer= 'adam' , metrics=[ 'accuracy'])\n"
   ]
  },
  {
   "cell_type": "code",
   "execution_count": 103,
   "metadata": {},
   "outputs": [
    {
     "name": "stdout",
     "output_type": "stream",
     "text": [
      "Train on 60000 samples, validate on 10000 samples\n",
      "Epoch 1/20\n",
      " - 10s - loss: 0.2800 - acc: 0.9210 - val_loss: 0.1353 - val_acc: 0.9604\n",
      "Epoch 2/20\n",
      " - 9s - loss: 0.1125 - acc: 0.9677 - val_loss: 0.0957 - val_acc: 0.9700\n",
      "Epoch 3/20\n",
      " - 9s - loss: 0.0721 - acc: 0.9792 - val_loss: 0.0762 - val_acc: 0.9764\n",
      "Epoch 4/20\n",
      " - 8s - loss: 0.0510 - acc: 0.9850 - val_loss: 0.0654 - val_acc: 0.9790\n",
      "Epoch 5/20\n",
      " - 9s - loss: 0.0367 - acc: 0.9892 - val_loss: 0.0712 - val_acc: 0.9782\n",
      "Epoch 6/20\n",
      " - 9s - loss: 0.0273 - acc: 0.9922 - val_loss: 0.0572 - val_acc: 0.9818\n",
      "Epoch 7/20\n",
      " - 10s - loss: 0.0204 - acc: 0.9949 - val_loss: 0.0602 - val_acc: 0.9810\n",
      "Epoch 8/20\n",
      " - 9s - loss: 0.0144 - acc: 0.9969 - val_loss: 0.0615 - val_acc: 0.9807\n",
      "Epoch 9/20\n",
      " - 9s - loss: 0.0113 - acc: 0.9976 - val_loss: 0.0603 - val_acc: 0.9819\n",
      "Epoch 10/20\n",
      " - 9s - loss: 0.0088 - acc: 0.9983 - val_loss: 0.0614 - val_acc: 0.9822\n",
      "Epoch 11/20\n",
      " - 9s - loss: 0.0062 - acc: 0.9989 - val_loss: 0.0631 - val_acc: 0.9813\n",
      "Epoch 12/20\n",
      " - 9s - loss: 0.0043 - acc: 0.9996 - val_loss: 0.0606 - val_acc: 0.9822\n",
      "Epoch 13/20\n",
      " - 9s - loss: 0.0045 - acc: 0.9992 - val_loss: 0.0632 - val_acc: 0.9819\n",
      "Epoch 14/20\n",
      " - 9s - loss: 0.0075 - acc: 0.9982 - val_loss: 0.0716 - val_acc: 0.9800\n",
      "Epoch 15/20\n",
      " - 9s - loss: 0.0075 - acc: 0.9978 - val_loss: 0.0707 - val_acc: 0.9818\n",
      "Epoch 16/20\n",
      " - 9s - loss: 0.0028 - acc: 0.9997 - val_loss: 0.0622 - val_acc: 0.9835\n",
      "Epoch 17/20\n",
      " - 9s - loss: 0.0020 - acc: 0.9997 - val_loss: 0.0650 - val_acc: 0.9815\n",
      "Epoch 18/20\n",
      " - 9s - loss: 0.0040 - acc: 0.9989 - val_loss: 0.0692 - val_acc: 0.9814\n",
      "Epoch 19/20\n",
      " - 8s - loss: 0.0080 - acc: 0.9976 - val_loss: 0.0745 - val_acc: 0.9803\n",
      "Epoch 20/20\n",
      " - 9s - loss: 0.0053 - acc: 0.9985 - val_loss: 0.0735 - val_acc: 0.9815\n"
     ]
    },
    {
     "data": {
      "text/plain": [
       "<keras.callbacks.History at 0x2af224c7c18>"
      ]
     },
     "execution_count": 103,
     "metadata": {},
     "output_type": "execute_result"
    }
   ],
   "source": [
    "# Fit the model\n",
    "model.fit(X_train, y_train, validation_data=(X_test, y_test), epochs=20, batch_size=200, verbose=2)"
   ]
  },
  {
   "cell_type": "code",
   "execution_count": 104,
   "metadata": {},
   "outputs": [
    {
     "name": "stdout",
     "output_type": "stream",
     "text": [
      "Baseline Error: 1.85%\n"
     ]
    }
   ],
   "source": [
    "\n",
    "# Final evaluation of the model\n",
    "scores = model.evaluate(X_test, y_test, verbose=0)\n",
    "print(\"Baseline Error: %.2f%%\" % (100-scores[1]*100))"
   ]
  },
  {
   "cell_type": "markdown",
   "metadata": {},
   "source": [
    "## Simple CNN model\n",
    "Now we will build a simple CNN model and see if it can do better than our baseline model above (NN without convolution layer)."
   ]
  },
  {
   "cell_type": "code",
   "execution_count": 105,
   "metadata": {},
   "outputs": [
    {
     "name": "stdout",
     "output_type": "stream",
     "text": [
      "(60000, 28, 28) (60000,) (10000, 28, 28) (10000,)\n"
     ]
    }
   ],
   "source": [
    "# Simple CNN for the MNIST Dataset\n",
    "import numpy\n",
    "from keras.datasets import mnist\n",
    "from keras.models import Sequential\n",
    "from keras.layers import Dense\n",
    "from keras.layers import Dropout\n",
    "from keras.layers import Flatten\n",
    "from keras.layers.convolutional import Conv2D\n",
    "from keras.layers.convolutional import MaxPooling2D\n",
    "import keras.utils as np_utils\n",
    "from keras import backend as K\n",
    "\n",
    "K.set_image_dim_ordering('tf')\n",
    "# fix random seed for reproducibility\n",
    "seed = 123\n",
    "numpy.random.seed(seed)\n",
    "# load data\n",
    "(X_train, y_train), (X_test, y_test) = mnist.load_data()\n",
    "print(X_train.shape, y_train.shape, X_test.shape, y_test.shape)"
   ]
  },
  {
   "cell_type": "code",
   "execution_count": 106,
   "metadata": {},
   "outputs": [],
   "source": [
    "#### YOUR TURN\n",
    "# Reshape X_train and X_test to be (n_samples, width, height, channels)\n",
    "# Then cast the data type of the arrays to type 'float32'\n",
    "# Hint: the n_channel is 1 in this case. You can use .shape\n",
    "# Hint: .astype() changes numpy array's data type\n",
    "num_channel= 1\n",
    "X_train = X_train.reshape(X_train.shape[0], X_train.shape[1], X_train.shape[2], num_channel).astype('float32')\n",
    "X_test = X_test.reshape(X_test.shape[0], X_test.shape[1], X_test.shape[2], num_channel).astype('float32')\n"
   ]
  },
  {
   "cell_type": "code",
   "execution_count": 107,
   "metadata": {},
   "outputs": [
    {
     "name": "stdout",
     "output_type": "stream",
     "text": [
      "(60000, 28, 28, 1) (10000, 28, 28, 1)\n"
     ]
    }
   ],
   "source": [
    "print(X_train.shape, X_test.shape)"
   ]
  },
  {
   "cell_type": "code",
   "execution_count": 108,
   "metadata": {
    "collapsed": true
   },
   "outputs": [],
   "source": [
    "\n",
    "### YOUR TURN\n",
    "# Normalize inputs from 0-255 to 0-1\n",
    "X_train = X_train/255\n",
    "X_test =  X_test/255\n",
    "\n",
    "# Encode labels to categorical\n",
    "y_train = np_utils.to_categorical(y_train)\n",
    "y_test = np_utils.to_categorical(y_test)\n",
    "num_classes = y_test.shape[1]\n"
   ]
  },
  {
   "cell_type": "code",
   "execution_count": 109,
   "metadata": {},
   "outputs": [
    {
     "name": "stdout",
     "output_type": "stream",
     "text": [
      "(60000, 28, 28, 1) (60000, 10) (10000, 28, 28, 1) (10000, 10)\n"
     ]
    }
   ],
   "source": [
    "print(X_train.shape, y_train.shape, X_test.shape, y_test.shape)"
   ]
  },
  {
   "cell_type": "code",
   "execution_count": 110,
   "metadata": {},
   "outputs": [
    {
     "name": "stdout",
     "output_type": "stream",
     "text": [
      "_________________________________________________________________\n",
      "Layer (type)                 Output Shape              Param #   \n",
      "=================================================================\n",
      "conv2d_1 (Conv2D)            (None, 24, 24, 32)        832       \n",
      "_________________________________________________________________\n",
      "max_pooling2d_1 (MaxPooling2 (None, 12, 12, 32)        0         \n",
      "_________________________________________________________________\n",
      "flatten_1 (Flatten)          (None, 4608)              0         \n",
      "_________________________________________________________________\n",
      "dense_5 (Dense)              (None, 784)               3613456   \n",
      "_________________________________________________________________\n",
      "dense_6 (Dense)              (None, 10)                7850      \n",
      "=================================================================\n",
      "Total params: 3,622,138\n",
      "Trainable params: 3,622,138\n",
      "Non-trainable params: 0\n",
      "_________________________________________________________________\n"
     ]
    }
   ],
   "source": [
    "\n",
    "# define a simple CNN model\n",
    "def simple_cnn_model():\n",
    "    # create model\n",
    "### YOUR TURN\n",
    "# Build a model that has 1 convolution layer, 1 max pooling, 1 dense, and output \n",
    "# Use 32 filters with 5x5 size\n",
    "# For max pooling layer, make the layer such that the featuremap size would be the half after the pooling layer\n",
    "# hint: you need to change the argument input_shape to (w,h,1) in the first conv layer\n",
    "# hint: you need Flatten() before the first dense layer\n",
    "    model = Sequential()\n",
    "    model.add (Conv2D(32, kernel_size=(5, 5), strides=(1, 1),\n",
    "                activation='relu', input_shape=(28, 28, 1)))\n",
    "    model.add (MaxPooling2D(pool_size=(2, 2), strides=None))\n",
    "    model.add (Flatten())\n",
    "    model.add(Dense(784, activation='relu'))\n",
    "    model.add(Dense(10, activation='softmax'))\n",
    "    return model\n",
    "\n",
    "model = simple_cnn_model()\n",
    "model.summary()\n"
   ]
  },
  {
   "cell_type": "code",
   "execution_count": null,
   "metadata": {
    "collapsed": true
   },
   "outputs": [],
   "source": [
    "# Compile the model using the same options as above\n",
    "model = simple_cnn_model()\n",
    "model.compile(loss= 'categorical_crossentropy' , optimizer= 'adam' , metrics=[ 'accuracy'])"
   ]
  },
  {
   "cell_type": "code",
   "execution_count": null,
   "metadata": {
    "scrolled": true
   },
   "outputs": [
    {
     "name": "stdout",
     "output_type": "stream",
     "text": [
      "Train on 60000 samples, validate on 10000 samples\n",
      "Epoch 1/20\n",
      "60000/60000 [==============================] - 90s 1ms/step - loss: 0.1868 - acc: 0.9418 - val_loss: 0.0540 - val_acc: 0.9814\n",
      "Epoch 2/20\n",
      "60000/60000 [==============================] - 95s 2ms/step - loss: 0.0512 - acc: 0.9842 - val_loss: 0.0455 - val_acc: 0.9851\n",
      "Epoch 3/20\n",
      "60000/60000 [==============================] - 94s 2ms/step - loss: 0.0319 - acc: 0.9902 - val_loss: 0.0444 - val_acc: 0.9857\n",
      "Epoch 4/20\n",
      "60000/60000 [==============================] - 98s 2ms/step - loss: 0.0218 - acc: 0.9932 - val_loss: 0.0374 - val_acc: 0.9893\n",
      "Epoch 5/20\n",
      "60000/60000 [==============================] - 94s 2ms/step - loss: 0.0154 - acc: 0.9953 - val_loss: 0.0401 - val_acc: 0.9875\n",
      "Epoch 6/20\n",
      "60000/60000 [==============================] - 93s 2ms/step - loss: 0.0109 - acc: 0.9967 - val_loss: 0.0351 - val_acc: 0.9902\n",
      "Epoch 7/20\n",
      "60000/60000 [==============================] - 96s 2ms/step - loss: 0.0090 - acc: 0.9971 - val_loss: 0.0377 - val_acc: 0.9873\n",
      "Epoch 8/20\n",
      "12200/60000 [=====>........................] - ETA: 1:08 - loss: 0.0062 - acc: 0.9983"
     ]
    }
   ],
   "source": [
    "# Fit the model\n",
    "model.fit(X_train, y_train, validation_data=(X_test, y_test), epochs=20, batch_size=200, verbose=1)\n",
    "# Final evaluation of the model\n",
    "scores = model.evaluate(X_test, y_test, verbose=0)\n",
    "print(\"CNN Error: %.2f%%\" % (100-scores[1]*100))"
   ]
  },
  {
   "cell_type": "code",
   "execution_count": null,
   "metadata": {
    "collapsed": true
   },
   "outputs": [],
   "source": []
  },
  {
   "cell_type": "markdown",
   "metadata": {},
   "source": [
    "## Two-layer CNN model\n",
    "Let's stack another convolutional layer."
   ]
  },
  {
   "cell_type": "code",
   "execution_count": null,
   "metadata": {},
   "outputs": [],
   "source": [
    "from keras.layers import Input, Dense, Dropout, BatchNormalization\n",
    "from keras.models import Model, load_model\n",
    "import keras.backend as K\n",
    "from keras.callbacks import ModelCheckpoint\n",
    "# YOUR TURN\n",
    "# Build a 2-conv layer model\n",
    "# Try this architecture: conv-maxpool-conv-maxpool-dense-dense-output\n",
    "# Use 32 (5x5) filters for the first conv layer, and use 16 (3x3) filters for the second conv layer\n",
    "# Use the same max pool as above\n",
    "# (optional) you can compare with and with out dropout layer after the second maxpool layer\n",
    "# Usng dropout is a way to regularize your model. Dropout randomly drops some neurons in the feature map.\n",
    "# By dropping out some units, it effectively makes the model smaller so it helps reducing the overfitting. \n",
    "# see https://keras.io/layers/core/#dropout for the use\n",
    "# Use 1-2 dense layers before the output\n",
    "def bilayer_model():\n",
    "    # create model\n",
    "    model = Sequential()\n",
    "    model.add (Conv2D(32, kernel_size=(5, 5), strides=(1, 1),\n",
    "                activation='relu', input_shape=(28, 28, 1)))\n",
    "    model.add (MaxPooling2D(pool_size=(2, 2), strides=None))\n",
    "    model.add(Conv2D(16, (3, 3), activation='relu'))\n",
    "    model.add(MaxPooling2D(pool_size=(2, 2)))\n",
    "    model.add (Flatten())\n",
    "    model.add(Dense(400, activation='relu'))\n",
    "    model.add(Dense(10, activation='softmax'))\n",
    "    return model\n",
    "\n",
    "model = bilayer_model()\n",
    "model.summary()\n",
    "\n"
   ]
  },
  {
   "cell_type": "code",
   "execution_count": null,
   "metadata": {},
   "outputs": [],
   "source": [
    "# build the model\n",
    "model = bilayer_model()\n",
    "model.compile(loss= 'categorical_crossentropy' , optimizer= 'adam' , metrics=[ 'accuracy'])\n",
    "\n",
    "# Fit the model\n",
    "model.fit(X_train, y_train, validation_data=(X_test, y_test), epochs=20, batch_size=200,\n",
    "verbose=2)\n"
   ]
  },
  {
   "cell_type": "code",
   "execution_count": null,
   "metadata": {},
   "outputs": [],
   "source": [
    "# Final evaluation of the model\n",
    "scores = model.evaluate(X_test, y_test, verbose=0)\n",
    "print(\"Large CNN Error: %.2f%%\" % (100-scores[1]*100))"
   ]
  },
  {
   "cell_type": "markdown",
   "metadata": {},
   "source": [
    "## More convolution layers "
   ]
  },
  {
   "cell_type": "code",
   "execution_count": null,
   "metadata": {},
   "outputs": [],
   "source": [
    "## YOUR TURN\n",
    "# Build a model with 4 convolutional layers\n",
    "# choose your own hyperparameters for conv layers\n",
    "# choose to include maxpool if you like \n",
    "# choose to include dropout if you like\n",
    "def multilayer_cnn_model():\n",
    "    model = Sequential()\n",
    "    model.add (Conv2D(64, kernel_size=(5, 5), strides=(1, 1),\n",
    "                activation='relu', input_shape=(28, 28, 1)))\n",
    "    model.add(Conv2D(64, (4, 4), activation='relu'))\n",
    "    model.add(Conv2D(32, (3, 3), activation='relu'))\n",
    "    model.add(Conv2D(16, (2, 2), activation='relu'))\n",
    "    model.add(MaxPooling2D(pool_size=(2, 2)))\n",
    "    model.add (Flatten())\n",
    "    model.add(Dense(400, activation='relu'))\n",
    "    model.add(Dense(10, activation='softmax'))\n",
    "    return model\n",
    "\n",
    "# build the model\n",
    "model = multilayer_cnn_model()\n",
    "model.compile(loss= 'categorical_crossentropy' , optimizer= 'adam' , metrics=[ 'accuracy'])\n",
    "# Fit the model\n",
    "model.fit(X_train, y_train, validation_data=(X_test, y_test), epochs=20, batch_size=200,\n",
    "verbose=2)\n",
    "  "
   ]
  },
  {
   "cell_type": "code",
   "execution_count": null,
   "metadata": {},
   "outputs": [],
   "source": [
    "# Final evaluation of the model\n",
    "scores = model.evaluate(X_test, y_test, verbose=0)\n",
    "print(\"CNN Error: %.2f%%\" % (100-scores[1]*100))"
   ]
  },
  {
   "cell_type": "markdown",
   "metadata": {
    "collapsed": true
   },
   "source": [
    "Discussion:\n",
    "Give bullet pints summary of what you have found from above experiments.\n",
    "e.g. \n",
    "1. how is a 1-layer ANN vs. 1-layer CNN?\n",
    "##### The ANN was much faster and performed 10% better than the CNN\n",
    "2. when the number of layers increases, what happens to the performance?\n",
    "##### It got worse.\n",
    "3. what happens if I have very deep CNN? did you face with any problems?\n",
    "##### Faced the problem with negative dimension size.The accuracy kept getting worse and the model kept taking longer.\n",
    "4. what can you do to reduce an overfitting problem?\n",
    "##### Steps for reducing overfitting:\n",
    "1) Add more data\n",
    "2) Use data augmentation\n",
    "3) Use architectures that generalize well\n",
    "4) Add regularization (mostly dropout, L1/L2 regularization are also possible)\n",
    "5) Reduce architecture complexity.\n",
    "\n"
   ]
  }
 ],
 "metadata": {
  "kernelspec": {
   "display_name": "Python 3",
   "language": "python",
   "name": "python3"
  },
  "language_info": {
   "codemirror_mode": {
    "name": "ipython",
    "version": 3
   },
   "file_extension": ".py",
   "mimetype": "text/x-python",
   "name": "python",
   "nbconvert_exporter": "python",
   "pygments_lexer": "ipython3",
   "version": "3.6.1"
  }
 },
 "nbformat": 4,
 "nbformat_minor": 2
}
