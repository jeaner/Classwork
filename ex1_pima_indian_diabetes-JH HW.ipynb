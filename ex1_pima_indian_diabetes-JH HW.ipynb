{
 "cells": [
  {
   "cell_type": "markdown",
   "metadata": {},
   "source": [
    "# By: Jeanette Henry\n",
    "\n",
    "# Predict the onset of diabetes based on diagnostic measures using ANN\n",
    "In this exercise we will build a simple ANN for a binary classification problem.   \n",
    "Kaggle API command to download dataset:     \n",
    "`kaggle datasets download -d uciml/pima-indians-diabetes-database`\n",
    "\n",
    "Or Download from here: [https://www.kaggle.com/uciml/pima-indians-diabetes-database/data](https://www.kaggle.com/uciml/pima-indians-diabetes-database/data)"
   ]
  },
  {
   "cell_type": "code",
   "execution_count": 46,
   "metadata": {},
   "outputs": [],
   "source": [
    "import os\n",
    "import pandas as pd\n",
    "from keras.models import Sequential\n",
    "from keras.layers import Input, Activation, Dense, Dropout, BatchNormalization\n",
    "from keras.models import Model, load_model\n",
    "import keras.backend as K\n",
    "from keras.callbacks import ModelCheckpoint\n",
    "import numpy as np\n",
    "from keras import optimizers"
   ]
  },
  {
   "cell_type": "code",
   "execution_count": 47,
   "metadata": {
    "collapsed": true
   },
   "outputs": [],
   "source": [
    "from numpy.random import seed\n",
    "seed(223)\n",
    "from tensorflow import set_random_seed\n",
    "set_random_seed(223)"
   ]
  },
  {
   "cell_type": "code",
   "execution_count": 48,
   "metadata": {},
   "outputs": [
    {
     "data": {
      "text/html": [
       "<div>\n",
       "<style scoped>\n",
       "    .dataframe tbody tr th:only-of-type {\n",
       "        vertical-align: middle;\n",
       "    }\n",
       "\n",
       "    .dataframe tbody tr th {\n",
       "        vertical-align: top;\n",
       "    }\n",
       "\n",
       "    .dataframe thead th {\n",
       "        text-align: right;\n",
       "    }\n",
       "</style>\n",
       "<table border=\"1\" class=\"dataframe\">\n",
       "  <thead>\n",
       "    <tr style=\"text-align: right;\">\n",
       "      <th></th>\n",
       "      <th>Pregnancies</th>\n",
       "      <th>Glucose</th>\n",
       "      <th>BloodPressure</th>\n",
       "      <th>SkinThickness</th>\n",
       "      <th>Insulin</th>\n",
       "      <th>BMI</th>\n",
       "      <th>DiabetesPedigreeFunction</th>\n",
       "      <th>Age</th>\n",
       "      <th>Outcome</th>\n",
       "    </tr>\n",
       "  </thead>\n",
       "  <tbody>\n",
       "    <tr>\n",
       "      <th>0</th>\n",
       "      <td>6</td>\n",
       "      <td>148</td>\n",
       "      <td>72</td>\n",
       "      <td>35</td>\n",
       "      <td>0</td>\n",
       "      <td>33.6</td>\n",
       "      <td>0.627</td>\n",
       "      <td>50</td>\n",
       "      <td>1</td>\n",
       "    </tr>\n",
       "    <tr>\n",
       "      <th>1</th>\n",
       "      <td>1</td>\n",
       "      <td>85</td>\n",
       "      <td>66</td>\n",
       "      <td>29</td>\n",
       "      <td>0</td>\n",
       "      <td>26.6</td>\n",
       "      <td>0.351</td>\n",
       "      <td>31</td>\n",
       "      <td>0</td>\n",
       "    </tr>\n",
       "    <tr>\n",
       "      <th>2</th>\n",
       "      <td>8</td>\n",
       "      <td>183</td>\n",
       "      <td>64</td>\n",
       "      <td>0</td>\n",
       "      <td>0</td>\n",
       "      <td>23.3</td>\n",
       "      <td>0.672</td>\n",
       "      <td>32</td>\n",
       "      <td>1</td>\n",
       "    </tr>\n",
       "    <tr>\n",
       "      <th>3</th>\n",
       "      <td>1</td>\n",
       "      <td>89</td>\n",
       "      <td>66</td>\n",
       "      <td>23</td>\n",
       "      <td>94</td>\n",
       "      <td>28.1</td>\n",
       "      <td>0.167</td>\n",
       "      <td>21</td>\n",
       "      <td>0</td>\n",
       "    </tr>\n",
       "    <tr>\n",
       "      <th>4</th>\n",
       "      <td>0</td>\n",
       "      <td>137</td>\n",
       "      <td>40</td>\n",
       "      <td>35</td>\n",
       "      <td>168</td>\n",
       "      <td>43.1</td>\n",
       "      <td>2.288</td>\n",
       "      <td>33</td>\n",
       "      <td>1</td>\n",
       "    </tr>\n",
       "  </tbody>\n",
       "</table>\n",
       "</div>"
      ],
      "text/plain": [
       "   Pregnancies  Glucose  BloodPressure  SkinThickness  Insulin   BMI  \\\n",
       "0            6      148             72             35        0  33.6   \n",
       "1            1       85             66             29        0  26.6   \n",
       "2            8      183             64              0        0  23.3   \n",
       "3            1       89             66             23       94  28.1   \n",
       "4            0      137             40             35      168  43.1   \n",
       "\n",
       "   DiabetesPedigreeFunction  Age  Outcome  \n",
       "0                     0.627   50        1  \n",
       "1                     0.351   31        0  \n",
       "2                     0.672   32        1  \n",
       "3                     0.167   21        0  \n",
       "4                     2.288   33        1  "
      ]
     },
     "execution_count": 48,
     "metadata": {},
     "output_type": "execute_result"
    }
   ],
   "source": [
    "filename = 'C:/MSDS/Deep/wk1/diabetes.csv'\n",
    "#this is specific to my case. use your own path to the data\n",
    "df = pd.read_csv(filename)\n",
    "df.head() #shows the first 5 lines of your data"
   ]
  },
  {
   "cell_type": "code",
   "execution_count": 49,
   "metadata": {},
   "outputs": [
    {
     "name": "stdout",
     "output_type": "stream",
     "text": [
      "<class 'pandas.core.frame.DataFrame'>\n",
      "RangeIndex: 768 entries, 0 to 767\n",
      "Data columns (total 9 columns):\n",
      "Pregnancies                 768 non-null int64\n",
      "Glucose                     768 non-null int64\n",
      "BloodPressure               768 non-null int64\n",
      "SkinThickness               768 non-null int64\n",
      "Insulin                     768 non-null int64\n",
      "BMI                         768 non-null float64\n",
      "DiabetesPedigreeFunction    768 non-null float64\n",
      "Age                         768 non-null int64\n",
      "Outcome                     768 non-null int64\n",
      "dtypes: float64(2), int64(7)\n",
      "memory usage: 54.1 KB\n"
     ]
    }
   ],
   "source": [
    "df.info() #shows attributes and their properties. \n",
    "#seems there is no null value nor wrong data type such as string value \n",
    "#for numbers which sometimes happens"
   ]
  },
  {
   "cell_type": "code",
   "execution_count": 50,
   "metadata": {
    "collapsed": true
   },
   "outputs": [],
   "source": [
    "# Create X and Y in numpy array format from pandas dataframe \n",
    "Y = np.array(df['Outcome'])\n",
    "X = np.array(df.drop('Outcome',axis=1))"
   ]
  },
  {
   "cell_type": "code",
   "execution_count": 51,
   "metadata": {},
   "outputs": [
    {
     "name": "stdout",
     "output_type": "stream",
     "text": [
      "(768, 8) (768,)\n"
     ]
    }
   ],
   "source": [
    "# Check the X and Y shapes \n",
    "print(X.shape, Y.shape)"
   ]
  },
  {
   "cell_type": "code",
   "execution_count": 52,
   "metadata": {
    "collapsed": true
   },
   "outputs": [],
   "source": [
    "# YOUR TURN\n",
    "# Split the dataset to train and test set with the ratio of 80% train and 20% test\n",
    "# hint : use sklearn train_test_split()\n",
    "# use naming as X_train, Y_train for train data and X_test, Y_test for test data.\n",
    "# Your Answer: \n",
    "\n",
    "\n",
    "# Check (print) the data shape for each\n",
    "# Your Answer:"
   ]
  },
  {
   "cell_type": "code",
   "execution_count": 53,
   "metadata": {
    "collapsed": true
   },
   "outputs": [],
   "source": [
    "from sklearn.model_selection import train_test_split\n",
    "\n",
    "x_train, x_test, y_train, y_test = train_test_split(X, #features,\n",
    "                                                    Y, #targets,\n",
    "                                                    test_size=0.2,\n",
    "                                                    random_state=42,\n",
    "                                                    stratify=None)"
   ]
  },
  {
   "cell_type": "markdown",
   "metadata": {},
   "source": [
    "## Build a simple Keras model\n",
    "\n",
    "Keras is a high-level neural networks API, written in Python and capable of running on top of TensorFlow, CNTK, or Theano. It can work with various software and hardware platforms. You can build and train neural network models easily without having to worry about how to handle those specific software/hardware platforms. For more info, see [Keras documentation](https://keras.io/).\n",
    "\n",
    "We'll use the `Sequential()` model in Keras. \n",
    "The Sequential model is a linear stack of layers. You can create a Sequential model by passing a list of layer instances to the constructor.\n",
    "\n",
    "\n",
    "```python\n",
    "from keras.models import Sequential\n",
    "from keras.layers import Dense, Activation\n",
    "\n",
    "model = Sequential([\n",
    "    Dense(32, input_shape=(784,)),\n",
    "    Activation('relu'),\n",
    "    Dense(10),\n",
    "    Activation('softmax'),\n",
    "])\n",
    "```\n",
    "`input_shape=(784,)` means the data has 784 features (Just ignore this number for now).  \n",
    "Or alternatively, you can add layers using .add() method to the layers object `model`.\n",
    "```python\n",
    "model = Sequential()\n",
    "model.add(Dense(32, input_dim=784))\n",
    "model.add(Activation('relu'))\n",
    "```\n",
    "This works too.\n",
    "```python\n",
    "l1 = Dense(32,input_dim=784)\n",
    "l2 = Activation('relu')\n",
    "\n",
    "model = Sequential([l1,l2])\n",
    "```\n",
    "You can wrap it in a function.\n",
    "```python\n",
    "def mymodel():\n",
    "    model=Sequential()\n",
    "    model.add(Dense(32,input_dim=784))\n",
    "    model.add(Activation('relu'))\n",
    "    model.add(Dense(32))\n",
    "    model.add(Activation('relu'))\n",
    "    return model\n",
    "```\n",
    "\n",
    "For more info, see [About Keras Sequential Model](https://keras.io/getting-started/sequential-model-guide/)."
   ]
  },
  {
   "cell_type": "code",
   "execution_count": 54,
   "metadata": {
    "collapsed": true
   },
   "outputs": [],
   "source": [
    "# YOUR TURN\n",
    "# build a model with 3 hidden layers (the first hidden layer is already given) and the output layer to classify (binary)\n",
    "# which activation functions should you use for hidden layers and the output layer?\n",
    "# Your Answer:\n"
   ]
  },
  {
   "cell_type": "code",
   "execution_count": 55,
   "metadata": {
    "collapsed": true
   },
   "outputs": [],
   "source": [
    "#From keras\n",
    "\n",
    "import keras\n",
    "from keras.models import Sequential\n",
    "from keras.layers import Dense, Dropout, Activation\n",
    "from keras.optimizers import SGD\n",
    "import keras.backend as K\n",
    "K.clear_session()\n",
    "model = Sequential()\n",
    "model.add(Dense(64, activation='relu', input_dim=8)) \n",
    "model.add(Dense(32, activation='tanh'))\n",
    "model.add(Dense(1, activation='sigmoid'))\n"
   ]
  },
  {
   "cell_type": "code",
   "execution_count": 56,
   "metadata": {},
   "outputs": [
    {
     "name": "stdout",
     "output_type": "stream",
     "text": [
      "_________________________________________________________________\n",
      "Layer (type)                 Output Shape              Param #   \n",
      "=================================================================\n",
      "dense_1 (Dense)              (None, 64)                576       \n",
      "_________________________________________________________________\n",
      "dense_2 (Dense)              (None, 32)                2080      \n",
      "_________________________________________________________________\n",
      "dense_3 (Dense)              (None, 1)                 33        \n",
      "=================================================================\n",
      "Total params: 2,689\n",
      "Trainable params: 2,689\n",
      "Non-trainable params: 0\n",
      "_________________________________________________________________\n"
     ]
    }
   ],
   "source": [
    "# prints out the model summary\n",
    "model.summary()"
   ]
  },
  {
   "cell_type": "code",
   "execution_count": 57,
   "metadata": {
    "collapsed": true
   },
   "outputs": [],
   "source": [
    "# compile your model\n",
    "# we use binary cross entropy since this problem is a binary classification problem. \n",
    "# let's add accuracy metric to display \n",
    "# we use adam optimizer (let's not worry about what is it for now. it's easier to use than other optimizers)\n"
   ]
  },
  {
   "cell_type": "code",
   "execution_count": 58,
   "metadata": {
    "collapsed": true
   },
   "outputs": [],
   "source": [
    "model.compile(optimizer='adam', loss ='binary_crossentropy', metrics=['accuracy'])"
   ]
  },
  {
   "cell_type": "code",
   "execution_count": 59,
   "metadata": {
    "collapsed": true
   },
   "outputs": [],
   "source": [
    "# YOUR TURN\n",
    "# Fit your model on the train data using batch size 32 and for 20 epochs\n",
    "# hint: use model.fit() function\n",
    "# Your Answer:\n",
    "# ?model.fit"
   ]
  },
  {
   "cell_type": "code",
   "execution_count": 66,
   "metadata": {},
   "outputs": [
    {
     "name": "stdout",
     "output_type": "stream",
     "text": [
      "Epoch 1/20\n",
      "614/614 [==============================] - 0s 56us/step - loss: 0.4772 - acc: 0.7541\n",
      "Epoch 2/20\n",
      "614/614 [==============================] - 0s 63us/step - loss: 0.4944 - acc: 0.7443\n",
      "Epoch 3/20\n",
      "614/614 [==============================] - 0s 58us/step - loss: 0.5234 - acc: 0.7117\n",
      "Epoch 4/20\n",
      "614/614 [==============================] - 0s 57us/step - loss: 0.5000 - acc: 0.7313\n",
      "Epoch 5/20\n",
      "614/614 [==============================] - 0s 54us/step - loss: 0.4832 - acc: 0.7508\n",
      "Epoch 6/20\n",
      "614/614 [==============================] - 0s 66us/step - loss: 0.4731 - acc: 0.7557\n",
      "Epoch 7/20\n",
      "614/614 [==============================] - 0s 53us/step - loss: 0.4633 - acc: 0.7801\n",
      "Epoch 8/20\n",
      "614/614 [==============================] - 0s 67us/step - loss: 0.4610 - acc: 0.7736\n",
      "Epoch 9/20\n",
      "614/614 [==============================] - 0s 53us/step - loss: 0.4697 - acc: 0.7687\n",
      "Epoch 10/20\n",
      "614/614 [==============================] - 0s 64us/step - loss: 0.4606 - acc: 0.7769\n",
      "Epoch 11/20\n",
      "614/614 [==============================] - 0s 61us/step - loss: 0.4570 - acc: 0.7736\n",
      "Epoch 12/20\n",
      "614/614 [==============================] - 0s 58us/step - loss: 0.4588 - acc: 0.7834\n",
      "Epoch 13/20\n",
      "614/614 [==============================] - 0s 64us/step - loss: 0.4688 - acc: 0.7752\n",
      "Epoch 14/20\n",
      "614/614 [==============================] - 0s 61us/step - loss: 0.4609 - acc: 0.7752\n",
      "Epoch 15/20\n",
      "614/614 [==============================] - 0s 58us/step - loss: 0.4482 - acc: 0.7801\n",
      "Epoch 16/20\n",
      "614/614 [==============================] - 0s 65us/step - loss: 0.4504 - acc: 0.7834\n",
      "Epoch 17/20\n",
      "614/614 [==============================] - 0s 60us/step - loss: 0.4523 - acc: 0.7915\n",
      "Epoch 18/20\n",
      "614/614 [==============================] - 0s 55us/step - loss: 0.4490 - acc: 0.7801\n",
      "Epoch 19/20\n",
      "614/614 [==============================] - 0s 61us/step - loss: 0.4574 - acc: 0.7818\n",
      "Epoch 20/20\n",
      "614/614 [==============================] - 0s 54us/step - loss: 0.4879 - acc: 0.7296\n"
     ]
    }
   ],
   "source": [
    "history=model.fit(x_train, y_train, \n",
    "                  batch_size=32,\n",
    "                  epochs=20)"
   ]
  },
  {
   "cell_type": "code",
   "execution_count": 67,
   "metadata": {},
   "outputs": [
    {
     "name": "stdout",
     "output_type": "stream",
     "text": [
      "154/154 [==============================] - 0s 55us/step\n",
      "[0.62608670104633679, 0.74025974335608546]\n"
     ]
    }
   ],
   "source": [
    "tst_score = model.evaluate(x_test, y_test)\n",
    "print(tst_score)"
   ]
  },
  {
   "cell_type": "code",
   "execution_count": 68,
   "metadata": {},
   "outputs": [
    {
     "name": "stdout",
     "output_type": "stream",
     "text": [
      "614/614 [==============================] - 0s 30us/step\n",
      "[0.44545967575975659, 0.79641693791659729]\n"
     ]
    }
   ],
   "source": [
    "train_score = model.evaluate(x_train, y_train)\n",
    "print(train_score)"
   ]
  },
  {
   "cell_type": "markdown",
   "metadata": {
    "collapsed": true
   },
   "source": [
    "#  YOUR TURN\n",
    "\n",
    "#  Q1. What was the best accuracy from the above result?\n",
    "#  Your Answer:\n",
    "### my best accuracy was epoch 19 at 78.18%\n",
    "Epoch 19/20\n",
    "614/614 [==============================] - 0s 61us/step \n",
    "- loss: 0.4574 \n",
    "- acc: 0.7818\n",
    "### Test accuracy was 74.0% and train score was 79.6%, slightly overfit\n",
    "\n",
    "#  Q2. What happens if you change epochs? What is your optimal epochs?\n",
    "#  Your Answer:\n",
    "### my best accuracy increased, Epoch 44 was 81.11%\n",
    "Epoch 44/50\n",
    "614/614 [==============================] - 0s 58us/step \n",
    "- loss: 0.4178 \n",
    "- acc: 0.8111\n",
    "### Test accuracy was 74.7% and train score was 82.1%, so also overfit"
   ]
  },
  {
   "cell_type": "code",
   "execution_count": 69,
   "metadata": {},
   "outputs": [
    {
     "name": "stdout",
     "output_type": "stream",
     "text": [
      "Epoch 1/50\n",
      "614/614 [==============================] - 0s 56us/step - loss: 0.4639 - acc: 0.7671\n",
      "Epoch 2/50\n",
      "614/614 [==============================] - 0s 67us/step - loss: 0.4581 - acc: 0.7769\n",
      "Epoch 3/50\n",
      "614/614 [==============================] - 0s 51us/step - loss: 0.4517 - acc: 0.7883\n",
      "Epoch 4/50\n",
      "614/614 [==============================] - 0s 57us/step - loss: 0.4732 - acc: 0.7687\n",
      "Epoch 5/50\n",
      "614/614 [==============================] - 0s 55us/step - loss: 0.4560 - acc: 0.7834\n",
      "Epoch 6/50\n",
      "614/614 [==============================] - 0s 62us/step - loss: 0.4523 - acc: 0.8013\n",
      "Epoch 7/50\n",
      "614/614 [==============================] - 0s 53us/step - loss: 0.4449 - acc: 0.7997\n",
      "Epoch 8/50\n",
      "614/614 [==============================] - 0s 59us/step - loss: 0.4499 - acc: 0.7980\n",
      "Epoch 9/50\n",
      "614/614 [==============================] - 0s 61us/step - loss: 0.4498 - acc: 0.7964\n",
      "Epoch 10/50\n",
      "614/614 [==============================] - 0s 59us/step - loss: 0.4514 - acc: 0.7932\n",
      "Epoch 11/50\n",
      "614/614 [==============================] - 0s 57us/step - loss: 0.4585 - acc: 0.7736\n",
      "Epoch 12/50\n",
      "614/614 [==============================] - 0s 62us/step - loss: 0.4505 - acc: 0.7834\n",
      "Epoch 13/50\n",
      "614/614 [==============================] - 0s 57us/step - loss: 0.4512 - acc: 0.7834\n",
      "Epoch 14/50\n",
      "614/614 [==============================] - 0s 58us/step - loss: 0.4811 - acc: 0.7638\n",
      "Epoch 15/50\n",
      "614/614 [==============================] - 0s 59us/step - loss: 0.4896 - acc: 0.7573\n",
      "Epoch 16/50\n",
      "614/614 [==============================] - 0s 57us/step - loss: 0.4565 - acc: 0.7704\n",
      "Epoch 17/50\n",
      "614/614 [==============================] - 0s 63us/step - loss: 0.4635 - acc: 0.7801\n",
      "Epoch 18/50\n",
      "614/614 [==============================] - 0s 62us/step - loss: 0.4555 - acc: 0.7785\n",
      "Epoch 19/50\n",
      "614/614 [==============================] - 0s 65us/step - loss: 0.4407 - acc: 0.7932\n",
      "Epoch 20/50\n",
      "614/614 [==============================] - 0s 57us/step - loss: 0.4441 - acc: 0.7850\n",
      "Epoch 21/50\n",
      "614/614 [==============================] - 0s 57us/step - loss: 0.4987 - acc: 0.7345\n",
      "Epoch 22/50\n",
      "614/614 [==============================] - 0s 55us/step - loss: 0.4552 - acc: 0.7866\n",
      "Epoch 23/50\n",
      "614/614 [==============================] - 0s 56us/step - loss: 0.4561 - acc: 0.7850\n",
      "Epoch 24/50\n",
      "614/614 [==============================] - 0s 59us/step - loss: 0.4445 - acc: 0.7769\n",
      "Epoch 25/50\n",
      "614/614 [==============================] - 0s 68us/step - loss: 0.4289 - acc: 0.7899\n",
      "Epoch 26/50\n",
      "614/614 [==============================] - 0s 55us/step - loss: 0.4456 - acc: 0.7752\n",
      "Epoch 27/50\n",
      "614/614 [==============================] - 0s 55us/step - loss: 0.4287 - acc: 0.8046\n",
      "Epoch 28/50\n",
      "614/614 [==============================] - 0s 57us/step - loss: 0.4397 - acc: 0.7899\n",
      "Epoch 29/50\n",
      "614/614 [==============================] - 0s 52us/step - loss: 0.4304 - acc: 0.7932\n",
      "Epoch 30/50\n",
      "614/614 [==============================] - 0s 65us/step - loss: 0.4571 - acc: 0.7736\n",
      "Epoch 31/50\n",
      "614/614 [==============================] - 0s 62us/step - loss: 0.4348 - acc: 0.7883\n",
      "Epoch 32/50\n",
      "614/614 [==============================] - 0s 54us/step - loss: 0.4496 - acc: 0.7769\n",
      "Epoch 33/50\n",
      "614/614 [==============================] - 0s 56us/step - loss: 0.4477 - acc: 0.7866\n",
      "Epoch 34/50\n",
      "614/614 [==============================] - 0s 54us/step - loss: 0.4427 - acc: 0.7801\n",
      "Epoch 35/50\n",
      "614/614 [==============================] - 0s 61us/step - loss: 0.4621 - acc: 0.7752\n",
      "Epoch 36/50\n",
      "614/614 [==============================] - 0s 57us/step - loss: 0.4415 - acc: 0.7818\n",
      "Epoch 37/50\n",
      "614/614 [==============================] - 0s 53us/step - loss: 0.4400 - acc: 0.7883\n",
      "Epoch 38/50\n",
      "614/614 [==============================] - 0s 67us/step - loss: 0.4328 - acc: 0.7980\n",
      "Epoch 39/50\n",
      "614/614 [==============================] - 0s 55us/step - loss: 0.4395 - acc: 0.7899\n",
      "Epoch 40/50\n",
      "614/614 [==============================] - 0s 60us/step - loss: 0.4269 - acc: 0.7980\n",
      "Epoch 41/50\n",
      "614/614 [==============================] - 0s 63us/step - loss: 0.4260 - acc: 0.7997\n",
      "Epoch 42/50\n",
      "614/614 [==============================] - 0s 82us/step - loss: 0.4265 - acc: 0.7964\n",
      "Epoch 43/50\n",
      "614/614 [==============================] - 0s 54us/step - loss: 0.4399 - acc: 0.7964\n",
      "Epoch 44/50\n",
      "614/614 [==============================] - 0s 58us/step - loss: 0.4178 - acc: 0.8111\n",
      "Epoch 45/50\n",
      "614/614 [==============================] - 0s 54us/step - loss: 0.4341 - acc: 0.7899\n",
      "Epoch 46/50\n",
      "614/614 [==============================] - 0s 58us/step - loss: 0.4401 - acc: 0.7752\n",
      "Epoch 47/50\n",
      "614/614 [==============================] - 0s 55us/step - loss: 0.4186 - acc: 0.8078\n",
      "Epoch 48/50\n",
      "614/614 [==============================] - 0s 65us/step - loss: 0.4241 - acc: 0.8029\n",
      "Epoch 49/50\n",
      "614/614 [==============================] - 0s 54us/step - loss: 0.4229 - acc: 0.8013\n",
      "Epoch 50/50\n",
      "614/614 [==============================] - 0s 59us/step - loss: 0.4254 - acc: 0.7964\n"
     ]
    }
   ],
   "source": [
    "mod1 = model.fit(x_train, y_train, \n",
    "                  batch_size=32,\n",
    "                  epochs=50)"
   ]
  },
  {
   "cell_type": "code",
   "execution_count": 70,
   "metadata": {},
   "outputs": [
    {
     "name": "stdout",
     "output_type": "stream",
     "text": [
      "154/154 [==============================] - 0s 68us/step\n",
      "[0.63895298753465923, 0.74675324907550567]\n"
     ]
    }
   ],
   "source": [
    "tst_score = model.evaluate(x_test, y_test)\n",
    "print(tst_score)"
   ]
  },
  {
   "cell_type": "code",
   "execution_count": 71,
   "metadata": {},
   "outputs": [
    {
     "name": "stdout",
     "output_type": "stream",
     "text": [
      "614/614 [==============================] - 0s 35us/step\n",
      "[0.40970837448629571, 0.8208469053433074]\n"
     ]
    }
   ],
   "source": [
    "train_score = model.evaluate(x_train, y_train)\n",
    "print(train_score)"
   ]
  },
  {
   "cell_type": "markdown",
   "metadata": {},
   "source": [
    "## Have more control over your model hyperparameters\n",
    "Above example showed how to build a sequential model. As you might know already from machine learning, learning rate is an important hyperparameter for taining. In the above example, `.compile()` used the Adam optimizer by calling the optimizer name `'adam'` (string).  \n",
    "```python\n",
    "model.compile(optimizer='adam', loss ='binary_crossentropy', metrics=['accuracy'])\n",
    "```\n",
    "Under the hood, if you call the string 'adam', it calls the optimizer Adam (keras.optimizers.Adam) and uses default options (e.g. learning rate is 0.001). Check the [optimizer](https://keras.io/optimizers/) documentation for more details. Since we'd like to control the learning rate, we can instantiate an adam optimizer (and change the learning rate) by\n",
    "```python\n",
    "adam = optimizers.Adam(lr=0.005)\n",
    "```\n",
    "and use in the `.compile()` "
   ]
  },
  {
   "cell_type": "markdown",
   "metadata": {
    "collapsed": true
   },
   "source": [
    "# YOUR TURN\n",
    "# instantiate your previous model again without compiling yet,\n",
    "# Your Answer:\n",
    "### my first model is \"mod1\"\n"
   ]
  },
  {
   "cell_type": "code",
   "execution_count": 75,
   "metadata": {},
   "outputs": [
    {
     "name": "stdout",
     "output_type": "stream",
     "text": [
      "<keras.callbacks.History object at 0x000001879F0378D0>\n"
     ]
    }
   ],
   "source": [
    "print(mod1)"
   ]
  },
  {
   "cell_type": "markdown",
   "metadata": {},
   "source": [
    "instantiate your adam optimizer and change the learning rate to 0.01 and compile\n",
    "Your Answer:\n",
    "\n",
    "Note: it's a good idea to wrap models in a function, especially working with jupyter notebook because running cells here and there can mess up."
   ]
  },
  {
   "cell_type": "code",
   "execution_count": null,
   "metadata": {
    "collapsed": true
   },
   "outputs": [],
   "source": [
    "# YOUR TURN\n",
    "# fit the model\n",
    "# Your Answer:\n"
   ]
  },
  {
   "cell_type": "code",
   "execution_count": 80,
   "metadata": {},
   "outputs": [
    {
     "name": "stdout",
     "output_type": "stream",
     "text": [
      "Epoch 1/50\n",
      "614/614 [==============================] - 0s 608us/step - loss: 0.6615 - acc: 0.6336\n",
      "Epoch 2/50\n",
      "614/614 [==============================] - 0s 50us/step - loss: 0.6327 - acc: 0.6726\n",
      "Epoch 3/50\n",
      "614/614 [==============================] - 0s 49us/step - loss: 0.6334 - acc: 0.6580\n",
      "Epoch 4/50\n",
      "614/614 [==============================] - 0s 57us/step - loss: 0.6202 - acc: 0.6531\n",
      "Epoch 5/50\n",
      "614/614 [==============================] - 0s 51us/step - loss: 0.6480 - acc: 0.6059\n",
      "Epoch 6/50\n",
      "614/614 [==============================] - 0s 52us/step - loss: 0.6340 - acc: 0.6515\n",
      "Epoch 7/50\n",
      "614/614 [==============================] - 0s 52us/step - loss: 0.6538 - acc: 0.6205\n",
      "Epoch 8/50\n",
      "614/614 [==============================] - 0s 53us/step - loss: 0.6850 - acc: 0.5977\n",
      "Epoch 9/50\n",
      "614/614 [==============================] - 0s 60us/step - loss: 0.6668 - acc: 0.6531\n",
      "Epoch 10/50\n",
      "614/614 [==============================] - 0s 58us/step - loss: 0.6493 - acc: 0.6531\n",
      "Epoch 11/50\n",
      "614/614 [==============================] - 0s 51us/step - loss: 0.6590 - acc: 0.6531\n",
      "Epoch 12/50\n",
      "614/614 [==============================] - 0s 52us/step - loss: 0.6484 - acc: 0.6531\n",
      "Epoch 13/50\n",
      "614/614 [==============================] - 0s 63us/step - loss: 0.6520 - acc: 0.6531\n",
      "Epoch 14/50\n",
      "614/614 [==============================] - 0s 58us/step - loss: 0.6500 - acc: 0.6531\n",
      "Epoch 15/50\n",
      "614/614 [==============================] - 0s 55us/step - loss: 0.6641 - acc: 0.6531\n",
      "Epoch 16/50\n",
      "614/614 [==============================] - 0s 56us/step - loss: 0.6490 - acc: 0.6531\n",
      "Epoch 17/50\n",
      "614/614 [==============================] - 0s 53us/step - loss: 0.6542 - acc: 0.6531\n",
      "Epoch 18/50\n",
      "614/614 [==============================] - 0s 48us/step - loss: 0.6617 - acc: 0.6531\n",
      "Epoch 19/50\n",
      "614/614 [==============================] - 0s 51us/step - loss: 0.6465 - acc: 0.6531\n",
      "Epoch 20/50\n",
      "614/614 [==============================] - 0s 53us/step - loss: 0.6477 - acc: 0.6531\n",
      "Epoch 21/50\n",
      "614/614 [==============================] - 0s 51us/step - loss: 0.6505 - acc: 0.6531\n",
      "Epoch 22/50\n",
      "614/614 [==============================] - 0s 57us/step - loss: 0.6455 - acc: 0.6531\n",
      "Epoch 23/50\n",
      "614/614 [==============================] - 0s 50us/step - loss: 0.6520 - acc: 0.6531\n",
      "Epoch 24/50\n",
      "614/614 [==============================] - 0s 49us/step - loss: 0.6561 - acc: 0.6531\n",
      "Epoch 25/50\n",
      "614/614 [==============================] - 0s 53us/step - loss: 0.6510 - acc: 0.6531\n",
      "Epoch 26/50\n",
      "614/614 [==============================] - 0s 57us/step - loss: 0.6532 - acc: 0.6531\n",
      "Epoch 27/50\n",
      "614/614 [==============================] - 0s 57us/step - loss: 0.6481 - acc: 0.6531\n",
      "Epoch 28/50\n",
      "614/614 [==============================] - 0s 52us/step - loss: 0.6606 - acc: 0.6531\n",
      "Epoch 29/50\n",
      "614/614 [==============================] - 0s 51us/step - loss: 0.6505 - acc: 0.6531\n",
      "Epoch 30/50\n",
      "614/614 [==============================] - 0s 56us/step - loss: 0.6526 - acc: 0.6531\n",
      "Epoch 31/50\n",
      "614/614 [==============================] - 0s 43us/step - loss: 0.6643 - acc: 0.6531\n",
      "Epoch 32/50\n",
      "614/614 [==============================] - 0s 62us/step - loss: 0.6514 - acc: 0.6531\n",
      "Epoch 33/50\n",
      "614/614 [==============================] - 0s 52us/step - loss: 0.6485 - acc: 0.6531\n",
      "Epoch 34/50\n",
      "614/614 [==============================] - 0s 56us/step - loss: 0.6471 - acc: 0.6531\n",
      "Epoch 35/50\n",
      "614/614 [==============================] - 0s 52us/step - loss: 0.6543 - acc: 0.6531\n",
      "Epoch 36/50\n",
      "614/614 [==============================] - 0s 51us/step - loss: 0.6522 - acc: 0.6531\n",
      "Epoch 37/50\n",
      "614/614 [==============================] - 0s 61us/step - loss: 0.6535 - acc: 0.6531\n",
      "Epoch 38/50\n",
      "614/614 [==============================] - 0s 52us/step - loss: 0.6526 - acc: 0.6531\n",
      "Epoch 39/50\n",
      "614/614 [==============================] - 0s 44us/step - loss: 0.6569 - acc: 0.6531\n",
      "Epoch 40/50\n",
      "614/614 [==============================] - 0s 62us/step - loss: 0.6470 - acc: 0.6531\n",
      "Epoch 41/50\n",
      "614/614 [==============================] - 0s 53us/step - loss: 0.6546 - acc: 0.6531\n",
      "Epoch 42/50\n",
      "614/614 [==============================] - 0s 58us/step - loss: 0.6587 - acc: 0.6531\n",
      "Epoch 43/50\n",
      "614/614 [==============================] - 0s 59us/step - loss: 0.6489 - acc: 0.6531\n",
      "Epoch 44/50\n",
      "614/614 [==============================] - 0s 56us/step - loss: 0.6530 - acc: 0.6531\n",
      "Epoch 45/50\n",
      "614/614 [==============================] - 0s 57us/step - loss: 0.6569 - acc: 0.6531\n",
      "Epoch 46/50\n",
      "614/614 [==============================] - 0s 44us/step - loss: 0.6587 - acc: 0.6531\n",
      "Epoch 47/50\n",
      "614/614 [==============================] - 0s 54us/step - loss: 0.6510 - acc: 0.6531\n",
      "Epoch 48/50\n",
      "614/614 [==============================] - 0s 52us/step - loss: 0.6557 - acc: 0.6531\n",
      "Epoch 49/50\n",
      "614/614 [==============================] - 0s 60us/step - loss: 0.6509 - acc: 0.6531\n",
      "Epoch 50/50\n",
      "614/614 [==============================] - 0s 58us/step - loss: 0.6498 - acc: 0.6531\n"
     ]
    }
   ],
   "source": [
    "K.clear_session()\n",
    "adamB = optimizers.Adam(lr=0.005)\n",
    "\n",
    "model = Sequential()\n",
    "model.add(Dense(64, activation='relu', input_dim=8)) \n",
    "model.add(Dense(32, activation='tanh'))\n",
    "model.add(Dense(1, activation='sigmoid'))\n",
    "\n",
    "model.compile(optimizer=(optimizers.Adam(lr=0.01)),\n",
    "              loss ='binary_crossentropy',\n",
    "              metrics=['accuracy'])\n",
    "mod2 = model.fit(x_train, y_train, \n",
    "                  batch_size=32,\n",
    "                  epochs=50)"
   ]
  },
  {
   "cell_type": "code",
   "execution_count": 81,
   "metadata": {},
   "outputs": [
    {
     "name": "stdout",
     "output_type": "stream",
     "text": [
      "154/154 [==============================] - 0s 195us/step\n",
      "[0.65613707396891208, 0.64285714208305655]\n"
     ]
    }
   ],
   "source": [
    "tst_score = model.evaluate(x_test, y_test)\n",
    "print(tst_score)"
   ]
  },
  {
   "cell_type": "code",
   "execution_count": 82,
   "metadata": {},
   "outputs": [
    {
     "name": "stdout",
     "output_type": "stream",
     "text": [
      "614/614 [==============================] - 0s 34us/step\n",
      "[0.64817874206393855, 0.6530944627348686]\n"
     ]
    }
   ],
   "source": [
    "train_score = model.evaluate(x_train, y_train)\n",
    "print(train_score)"
   ]
  },
  {
   "cell_type": "markdown",
   "metadata": {
    "collapsed": true
   },
   "source": [
    "YOUR TURN\n",
    "\n",
    "# Using your model(s) above, tweak learning rate, epoch, and batch size\n",
    "# Q3. Observe the relationship between the learning rate and epoch. \n",
    "## Q3a. If you reduce the learning rate, what happens to the epochs needed to achieve the same accuracy?\n",
    "- lr=0.00001 loss ~0.59 accuracy ~66%\n",
    "- lr=.0000000001 loss ~ 0.96 caused very low accuracy (~38%)\n",
    "## Q3b. If you increase the learning rate, at some point does it fail?\n",
    "- lr=0.9 causes loss ~5.0 accuracy ~65%\n",
    "- lr= 10 causes loss ~10.4 accuracy ~34%\n",
    "- lr=1000000000 still did not fail\n",
    "- lr=100000000000000000000 - loss: nan - acc: 0.0244 for first epoch then fails with  acc: 0.0000e+00 for all other epochs\n",
    "## Q3c. Find a sweet spot (may not be unique)\n",
    "- lr=.00010 loss: 0.4976 - acc: 0.7720\n",
    "- lr=.00032 loss: 0.4732 - acc: 0.7834\n",
    "- lr=.00040 loss: 0.4504 - acc: 0.7980\n",
    "- lr=.00045 loss: 0.3916 - acc: 0.8371\n",
    "- lr=.00050 loss: 0.4269 - acc: 0.8290\n",
    "- lr=.00055 loss: 0.3927 - acc: 0.8127\n",
    "- lr=.00075 loss: 0.4600 - acc: 0.7752\n",
    "### Learning rate of .0045 gave me the best accuracy with 83.71%\n",
    "\n",
    "# Q4. Change the number of elements in layers and add more layers. Adjust learning rate, and other hyperparameters as necessary.\n",
    "## Q4a. What is your best configuation?\n",
    "## Q4b. What is your best train accuracy?"
   ]
  },
  {
   "cell_type": "code",
   "execution_count": 152,
   "metadata": {
    "collapsed": true
   },
   "outputs": [],
   "source": [
    "K.clear_session()"
   ]
  },
  {
   "cell_type": "code",
   "execution_count": 154,
   "metadata": {},
   "outputs": [
    {
     "name": "stdout",
     "output_type": "stream",
     "text": [
      "Epoch 1/200\n",
      "614/614 [==============================] - 0s 787us/step - loss: 0.6847 - acc: 0.5977\n",
      "Epoch 2/200\n",
      "614/614 [==============================] - 0s 58us/step - loss: 0.6185 - acc: 0.6515\n",
      "Epoch 3/200\n",
      "614/614 [==============================] - 0s 56us/step - loss: 0.5948 - acc: 0.6612\n",
      "Epoch 4/200\n",
      "614/614 [==============================] - 0s 56us/step - loss: 0.5832 - acc: 0.6792\n",
      "Epoch 5/200\n",
      "614/614 [==============================] - 0s 65us/step - loss: 0.5726 - acc: 0.6987\n",
      "Epoch 6/200\n",
      "614/614 [==============================] - 0s 58us/step - loss: 0.5638 - acc: 0.7117\n",
      "Epoch 7/200\n",
      "614/614 [==============================] - 0s 64us/step - loss: 0.5614 - acc: 0.6954\n",
      "Epoch 8/200\n",
      "614/614 [==============================] - 0s 63us/step - loss: 0.5557 - acc: 0.7166\n",
      "Epoch 9/200\n",
      "614/614 [==============================] - 0s 57us/step - loss: 0.5563 - acc: 0.7101\n",
      "Epoch 10/200\n",
      "614/614 [==============================] - 0s 69us/step - loss: 0.5650 - acc: 0.7020\n",
      "Epoch 11/200\n",
      "614/614 [==============================] - 0s 56us/step - loss: 0.5433 - acc: 0.7329\n",
      "Epoch 12/200\n",
      "614/614 [==============================] - 0s 65us/step - loss: 0.5406 - acc: 0.7248\n",
      "Epoch 13/200\n",
      "614/614 [==============================] - 0s 56us/step - loss: 0.5400 - acc: 0.7231\n",
      "Epoch 14/200\n",
      "614/614 [==============================] - 0s 64us/step - loss: 0.5343 - acc: 0.7248\n",
      "Epoch 15/200\n",
      "614/614 [==============================] - 0s 57us/step - loss: 0.5359 - acc: 0.7215\n",
      "Epoch 16/200\n",
      "614/614 [==============================] - 0s 60us/step - loss: 0.5259 - acc: 0.7150\n",
      "Epoch 17/200\n",
      "614/614 [==============================] - 0s 63us/step - loss: 0.5275 - acc: 0.7313\n",
      "Epoch 18/200\n",
      "614/614 [==============================] - 0s 60us/step - loss: 0.5181 - acc: 0.7362\n",
      "Epoch 19/200\n",
      "614/614 [==============================] - 0s 60us/step - loss: 0.5225 - acc: 0.7394\n",
      "Epoch 20/200\n",
      "614/614 [==============================] - 0s 68us/step - loss: 0.5110 - acc: 0.7492\n",
      "Epoch 21/200\n",
      "614/614 [==============================] - 0s 50us/step - loss: 0.5138 - acc: 0.7345\n",
      "Epoch 22/200\n",
      "614/614 [==============================] - 0s 76us/step - loss: 0.5054 - acc: 0.7476\n",
      "Epoch 23/200\n",
      "614/614 [==============================] - 0s 62us/step - loss: 0.5002 - acc: 0.7443\n",
      "Epoch 24/200\n",
      "614/614 [==============================] - 0s 49us/step - loss: 0.4991 - acc: 0.7459\n",
      "Epoch 25/200\n",
      "614/614 [==============================] - 0s 57us/step - loss: 0.5004 - acc: 0.7313\n",
      "Epoch 26/200\n",
      "614/614 [==============================] - 0s 59us/step - loss: 0.5091 - acc: 0.7410\n",
      "Epoch 27/200\n",
      "614/614 [==============================] - 0s 59us/step - loss: 0.4880 - acc: 0.7671\n",
      "Epoch 28/200\n",
      "614/614 [==============================] - 0s 58us/step - loss: 0.4886 - acc: 0.7508\n",
      "Epoch 29/200\n",
      "614/614 [==============================] - 0s 66us/step - loss: 0.4942 - acc: 0.7394\n",
      "Epoch 30/200\n",
      "614/614 [==============================] - 0s 57us/step - loss: 0.4852 - acc: 0.7427\n",
      "Epoch 31/200\n",
      "614/614 [==============================] - 0s 64us/step - loss: 0.4735 - acc: 0.7655\n",
      "Epoch 32/200\n",
      "614/614 [==============================] - 0s 63us/step - loss: 0.4730 - acc: 0.7704\n",
      "Epoch 33/200\n",
      "614/614 [==============================] - 0s 62us/step - loss: 0.4740 - acc: 0.7590\n",
      "Epoch 34/200\n",
      "614/614 [==============================] - 0s 58us/step - loss: 0.4783 - acc: 0.7671\n",
      "Epoch 35/200\n",
      "614/614 [==============================] - 0s 59us/step - loss: 0.4655 - acc: 0.7736\n",
      "Epoch 36/200\n",
      "614/614 [==============================] - 0s 63us/step - loss: 0.4721 - acc: 0.7638\n",
      "Epoch 37/200\n",
      "614/614 [==============================] - 0s 67us/step - loss: 0.4587 - acc: 0.7834\n",
      "Epoch 38/200\n",
      "614/614 [==============================] - 0s 73us/step - loss: 0.4551 - acc: 0.7769\n",
      "Epoch 39/200\n",
      "614/614 [==============================] - 0s 63us/step - loss: 0.4606 - acc: 0.7622\n",
      "Epoch 40/200\n",
      "614/614 [==============================] - 0s 56us/step - loss: 0.4852 - acc: 0.7655\n",
      "Epoch 41/200\n",
      "614/614 [==============================] - 0s 58us/step - loss: 0.5117 - acc: 0.7248\n",
      "Epoch 42/200\n",
      "614/614 [==============================] - 0s 58us/step - loss: 0.4644 - acc: 0.7785\n",
      "Epoch 43/200\n",
      "614/614 [==============================] - 0s 58us/step - loss: 0.4450 - acc: 0.7997\n",
      "Epoch 44/200\n",
      "614/614 [==============================] - 0s 58us/step - loss: 0.4516 - acc: 0.7736\n",
      "Epoch 45/200\n",
      "614/614 [==============================] - 0s 59us/step - loss: 0.4437 - acc: 0.7834\n",
      "Epoch 46/200\n",
      "614/614 [==============================] - 0s 62us/step - loss: 0.4467 - acc: 0.7915\n",
      "Epoch 47/200\n",
      "614/614 [==============================] - 0s 71us/step - loss: 0.4417 - acc: 0.7932\n",
      "Epoch 48/200\n",
      "614/614 [==============================] - 0s 63us/step - loss: 0.4422 - acc: 0.7932\n",
      "Epoch 49/200\n",
      "614/614 [==============================] - 0s 61us/step - loss: 0.4298 - acc: 0.8029\n",
      "Epoch 50/200\n",
      "614/614 [==============================] - 0s 57us/step - loss: 0.4685 - acc: 0.7752\n",
      "Epoch 51/200\n",
      "614/614 [==============================] - 0s 66us/step - loss: 0.4523 - acc: 0.7834\n",
      "Epoch 52/200\n",
      "614/614 [==============================] - 0s 58us/step - loss: 0.4344 - acc: 0.7932\n",
      "Epoch 53/200\n",
      "614/614 [==============================] - 0s 61us/step - loss: 0.4178 - acc: 0.7948\n",
      "Epoch 54/200\n",
      "614/614 [==============================] - 0s 58us/step - loss: 0.4118 - acc: 0.8127\n",
      "Epoch 55/200\n",
      "614/614 [==============================] - 0s 58us/step - loss: 0.4070 - acc: 0.8029\n",
      "Epoch 56/200\n",
      "614/614 [==============================] - 0s 67us/step - loss: 0.4307 - acc: 0.7964\n",
      "Epoch 57/200\n",
      "614/614 [==============================] - 0s 64us/step - loss: 0.4180 - acc: 0.8094\n",
      "Epoch 58/200\n",
      "614/614 [==============================] - 0s 63us/step - loss: 0.4221 - acc: 0.7866\n",
      "Epoch 59/200\n",
      "614/614 [==============================] - 0s 64us/step - loss: 0.4051 - acc: 0.8062\n",
      "Epoch 60/200\n",
      "614/614 [==============================] - 0s 49us/step - loss: 0.4186 - acc: 0.8062\n",
      "Epoch 61/200\n",
      "614/614 [==============================] - 0s 64us/step - loss: 0.4202 - acc: 0.8029\n",
      "Epoch 62/200\n",
      "614/614 [==============================] - 0s 64us/step - loss: 0.4224 - acc: 0.8013\n",
      "Epoch 63/200\n",
      "614/614 [==============================] - 0s 62us/step - loss: 0.4047 - acc: 0.8046\n",
      "Epoch 64/200\n",
      "614/614 [==============================] - 0s 56us/step - loss: 0.3912 - acc: 0.8143\n",
      "Epoch 65/200\n",
      "614/614 [==============================] - 0s 65us/step - loss: 0.4256 - acc: 0.7769\n",
      "Epoch 66/200\n",
      "614/614 [==============================] - 0s 69us/step - loss: 0.4078 - acc: 0.8029\n",
      "Epoch 67/200\n",
      "614/614 [==============================] - 0s 59us/step - loss: 0.3907 - acc: 0.8208\n",
      "Epoch 68/200\n",
      "614/614 [==============================] - 0s 54us/step - loss: 0.3923 - acc: 0.8208\n",
      "Epoch 69/200\n",
      "614/614 [==============================] - 0s 61us/step - loss: 0.4158 - acc: 0.8078\n",
      "Epoch 70/200\n",
      "614/614 [==============================] - 0s 66us/step - loss: 0.3960 - acc: 0.8046\n",
      "Epoch 71/200\n",
      "614/614 [==============================] - 0s 64us/step - loss: 0.3970 - acc: 0.8143\n",
      "Epoch 72/200\n",
      "614/614 [==============================] - 0s 61us/step - loss: 0.3970 - acc: 0.8111\n",
      "Epoch 73/200\n",
      "614/614 [==============================] - 0s 60us/step - loss: 0.3840 - acc: 0.8241\n",
      "Epoch 74/200\n",
      "614/614 [==============================] - 0s 60us/step - loss: 0.3999 - acc: 0.7915\n",
      "Epoch 75/200\n",
      "614/614 [==============================] - 0s 62us/step - loss: 0.3938 - acc: 0.8160\n",
      "Epoch 76/200\n",
      "614/614 [==============================] - 0s 64us/step - loss: 0.3747 - acc: 0.8176\n",
      "Epoch 77/200\n",
      "614/614 [==============================] - 0s 58us/step - loss: 0.3791 - acc: 0.8143\n",
      "Epoch 78/200\n",
      "614/614 [==============================] - 0s 61us/step - loss: 0.3693 - acc: 0.8306\n",
      "Epoch 79/200\n",
      "614/614 [==============================] - 0s 59us/step - loss: 0.3784 - acc: 0.8111\n",
      "Epoch 80/200\n",
      "614/614 [==============================] - 0s 59us/step - loss: 0.3648 - acc: 0.8274\n",
      "Epoch 81/200\n",
      "614/614 [==============================] - 0s 58us/step - loss: 0.3572 - acc: 0.8306\n",
      "Epoch 82/200\n",
      "614/614 [==============================] - 0s 59us/step - loss: 0.3856 - acc: 0.8257\n",
      "Epoch 83/200\n",
      "614/614 [==============================] - 0s 59us/step - loss: 0.3657 - acc: 0.8290\n",
      "Epoch 84/200\n",
      "614/614 [==============================] - 0s 57us/step - loss: 0.3502 - acc: 0.8453\n",
      "Epoch 85/200\n",
      "614/614 [==============================] - 0s 60us/step - loss: 0.3510 - acc: 0.8469\n",
      "Epoch 86/200\n",
      "614/614 [==============================] - 0s 61us/step - loss: 0.3556 - acc: 0.8355\n",
      "Epoch 87/200\n",
      "614/614 [==============================] - 0s 60us/step - loss: 0.3660 - acc: 0.8436\n",
      "Epoch 88/200\n",
      "614/614 [==============================] - 0s 51us/step - loss: 0.3546 - acc: 0.8404\n",
      "Epoch 89/200\n",
      "614/614 [==============================] - 0s 60us/step - loss: 0.3410 - acc: 0.8469\n",
      "Epoch 90/200\n",
      "614/614 [==============================] - 0s 56us/step - loss: 0.3414 - acc: 0.8420\n",
      "Epoch 91/200\n",
      "614/614 [==============================] - 0s 52us/step - loss: 0.3434 - acc: 0.8583\n",
      "Epoch 92/200\n",
      "614/614 [==============================] - 0s 61us/step - loss: 0.3562 - acc: 0.8257\n",
      "Epoch 93/200\n",
      "614/614 [==============================] - 0s 55us/step - loss: 0.3661 - acc: 0.8339\n",
      "Epoch 94/200\n",
      "614/614 [==============================] - 0s 65us/step - loss: 0.3937 - acc: 0.8176\n",
      "Epoch 95/200\n",
      "614/614 [==============================] - 0s 63us/step - loss: 0.3591 - acc: 0.8290\n",
      "Epoch 96/200\n",
      "614/614 [==============================] - 0s 60us/step - loss: 0.3594 - acc: 0.8322\n",
      "Epoch 97/200\n",
      "614/614 [==============================] - 0s 65us/step - loss: 0.3530 - acc: 0.8371\n",
      "Epoch 98/200\n",
      "614/614 [==============================] - 0s 63us/step - loss: 0.3425 - acc: 0.8257\n",
      "Epoch 99/200\n",
      "614/614 [==============================] - 0s 67us/step - loss: 0.3432 - acc: 0.8502\n",
      "Epoch 100/200\n",
      "614/614 [==============================] - 0s 60us/step - loss: 0.3311 - acc: 0.8518\n",
      "Epoch 101/200\n",
      "614/614 [==============================] - 0s 65us/step - loss: 0.3221 - acc: 0.8567\n",
      "Epoch 102/200\n",
      "614/614 [==============================] - 0s 63us/step - loss: 0.3276 - acc: 0.8567\n",
      "Epoch 103/200\n",
      "614/614 [==============================] - 0s 64us/step - loss: 0.3287 - acc: 0.8485\n",
      "Epoch 104/200\n",
      "614/614 [==============================] - ETA: 0s - loss: 0.3956 - acc: 0.750 - 0s 61us/step - loss: 0.3213 - acc: 0.8502\n",
      "Epoch 105/200\n",
      "614/614 [==============================] - 0s 60us/step - loss: 0.3094 - acc: 0.8648\n",
      "Epoch 106/200\n",
      "614/614 [==============================] - 0s 66us/step - loss: 0.3217 - acc: 0.8681\n",
      "Epoch 107/200\n",
      "614/614 [==============================] - 0s 64us/step - loss: 0.3305 - acc: 0.8404\n",
      "Epoch 108/200\n",
      "614/614 [==============================] - 0s 61us/step - loss: 0.3449 - acc: 0.8388\n",
      "Epoch 109/200\n",
      "614/614 [==============================] - 0s 70us/step - loss: 0.3627 - acc: 0.8339\n",
      "Epoch 110/200\n",
      "614/614 [==============================] - 0s 55us/step - loss: 0.3413 - acc: 0.8420\n",
      "Epoch 111/200\n",
      "614/614 [==============================] - 0s 69us/step - loss: 0.3155 - acc: 0.8583\n",
      "Epoch 112/200\n",
      "614/614 [==============================] - 0s 59us/step - loss: 0.3180 - acc: 0.8632\n",
      "Epoch 113/200\n",
      "614/614 [==============================] - 0s 60us/step - loss: 0.3389 - acc: 0.8371\n",
      "Epoch 114/200\n",
      "614/614 [==============================] - 0s 63us/step - loss: 0.3560 - acc: 0.8241\n",
      "Epoch 115/200\n",
      "614/614 [==============================] - 0s 66us/step - loss: 0.3321 - acc: 0.8534\n",
      "Epoch 116/200\n",
      "614/614 [==============================] - 0s 56us/step - loss: 0.3279 - acc: 0.8550\n",
      "Epoch 117/200\n",
      "614/614 [==============================] - 0s 58us/step - loss: 0.3093 - acc: 0.8632\n",
      "Epoch 118/200\n",
      "614/614 [==============================] - 0s 66us/step - loss: 0.3192 - acc: 0.8583\n",
      "Epoch 119/200\n",
      "614/614 [==============================] - 0s 57us/step - loss: 0.3077 - acc: 0.8664\n",
      "Epoch 120/200\n",
      "614/614 [==============================] - 0s 63us/step - loss: 0.3361 - acc: 0.8469\n",
      "Epoch 121/200\n",
      "614/614 [==============================] - 0s 56us/step - loss: 0.3370 - acc: 0.8371\n",
      "Epoch 122/200\n",
      "614/614 [==============================] - 0s 63us/step - loss: 0.3229 - acc: 0.8404\n",
      "Epoch 123/200\n",
      "614/614 [==============================] - 0s 60us/step - loss: 0.3327 - acc: 0.8388\n",
      "Epoch 124/200\n",
      "614/614 [==============================] - 0s 72us/step - loss: 0.3238 - acc: 0.8567\n",
      "Epoch 125/200\n",
      "614/614 [==============================] - 0s 66us/step - loss: 0.3291 - acc: 0.8502\n",
      "Epoch 126/200\n",
      "614/614 [==============================] - 0s 52us/step - loss: 0.3304 - acc: 0.8469\n",
      "Epoch 127/200\n",
      "614/614 [==============================] - 0s 60us/step - loss: 0.3354 - acc: 0.8453\n",
      "Epoch 128/200\n",
      "614/614 [==============================] - 0s 52us/step - loss: 0.3207 - acc: 0.8518\n",
      "Epoch 129/200\n",
      "614/614 [==============================] - 0s 53us/step - loss: 0.2978 - acc: 0.8648\n",
      "Epoch 130/200\n",
      "614/614 [==============================] - 0s 63us/step - loss: 0.3156 - acc: 0.8436\n",
      "Epoch 131/200\n",
      "614/614 [==============================] - 0s 55us/step - loss: 0.2913 - acc: 0.8697\n",
      "Epoch 132/200\n",
      "614/614 [==============================] - 0s 66us/step - loss: 0.2943 - acc: 0.8599\n",
      "Epoch 133/200\n",
      "614/614 [==============================] - 0s 57us/step - loss: 0.3222 - acc: 0.8616\n",
      "Epoch 134/200\n",
      "614/614 [==============================] - 0s 64us/step - loss: 0.3178 - acc: 0.8469\n",
      "Epoch 135/200\n",
      "614/614 [==============================] - 0s 48us/step - loss: 0.3228 - acc: 0.8436\n",
      "Epoch 136/200\n",
      "614/614 [==============================] - 0s 63us/step - loss: 0.3045 - acc: 0.8616\n",
      "Epoch 137/200\n",
      "614/614 [==============================] - 0s 58us/step - loss: 0.2902 - acc: 0.8616\n",
      "Epoch 138/200\n",
      "614/614 [==============================] - 0s 58us/step - loss: 0.2853 - acc: 0.8664\n",
      "Epoch 139/200\n",
      "614/614 [==============================] - 0s 66us/step - loss: 0.2870 - acc: 0.8730\n",
      "Epoch 140/200\n",
      "614/614 [==============================] - 0s 58us/step - loss: 0.3104 - acc: 0.8681\n",
      "Epoch 141/200\n",
      "614/614 [==============================] - 0s 59us/step - loss: 0.2785 - acc: 0.8795\n",
      "Epoch 142/200\n",
      "614/614 [==============================] - 0s 64us/step - loss: 0.2779 - acc: 0.8762\n",
      "Epoch 143/200\n",
      "614/614 [==============================] - 0s 56us/step - loss: 0.2952 - acc: 0.8697\n",
      "Epoch 144/200\n",
      "614/614 [==============================] - 0s 57us/step - loss: 0.3040 - acc: 0.8616\n",
      "Epoch 145/200\n",
      "614/614 [==============================] - 0s 65us/step - loss: 0.2803 - acc: 0.8713\n",
      "Epoch 146/200\n",
      "614/614 [==============================] - 0s 56us/step - loss: 0.2810 - acc: 0.8811\n",
      "Epoch 147/200\n",
      "614/614 [==============================] - 0s 53us/step - loss: 0.2890 - acc: 0.8746\n",
      "Epoch 148/200\n",
      "614/614 [==============================] - 0s 58us/step - loss: 0.2984 - acc: 0.8681\n",
      "Epoch 149/200\n",
      "614/614 [==============================] - 0s 64us/step - loss: 0.3252 - acc: 0.8469\n",
      "Epoch 150/200\n",
      "614/614 [==============================] - 0s 57us/step - loss: 0.3010 - acc: 0.8599\n",
      "Epoch 151/200\n",
      "614/614 [==============================] - 0s 69us/step - loss: 0.2975 - acc: 0.8599\n",
      "Epoch 152/200\n",
      "614/614 [==============================] - 0s 58us/step - loss: 0.2821 - acc: 0.8664\n",
      "Epoch 153/200\n",
      "614/614 [==============================] - 0s 56us/step - loss: 0.2734 - acc: 0.8827\n",
      "Epoch 154/200\n",
      "614/614 [==============================] - 0s 56us/step - loss: 0.2915 - acc: 0.8616\n",
      "Epoch 155/200\n",
      "614/614 [==============================] - 0s 58us/step - loss: 0.3088 - acc: 0.8583\n",
      "Epoch 156/200\n",
      "614/614 [==============================] - 0s 58us/step - loss: 0.2958 - acc: 0.8534\n",
      "Epoch 157/200\n",
      "614/614 [==============================] - 0s 51us/step - loss: 0.2690 - acc: 0.8925\n",
      "Epoch 158/200\n",
      "614/614 [==============================] - 0s 56us/step - loss: 0.2625 - acc: 0.8730\n",
      "Epoch 159/200\n",
      "614/614 [==============================] - 0s 57us/step - loss: 0.2502 - acc: 0.8925\n",
      "Epoch 160/200\n",
      "614/614 [==============================] - 0s 57us/step - loss: 0.2661 - acc: 0.8713\n",
      "Epoch 161/200\n",
      "614/614 [==============================] - 0s 66us/step - loss: 0.2651 - acc: 0.8697\n",
      "Epoch 162/200\n",
      "614/614 [==============================] - 0s 60us/step - loss: 0.2691 - acc: 0.8860\n",
      "Epoch 163/200\n",
      "614/614 [==============================] - 0s 60us/step - loss: 0.2843 - acc: 0.8713\n",
      "Epoch 164/200\n",
      "614/614 [==============================] - 0s 57us/step - loss: 0.2809 - acc: 0.8664\n",
      "Epoch 165/200\n",
      "614/614 [==============================] - 0s 59us/step - loss: 0.2671 - acc: 0.8795\n",
      "Epoch 166/200\n"
     ]
    },
    {
     "name": "stdout",
     "output_type": "stream",
     "text": [
      "614/614 [==============================] - 0s 57us/step - loss: 0.2551 - acc: 0.9121\n",
      "Epoch 167/200\n",
      "614/614 [==============================] - 0s 56us/step - loss: 0.2758 - acc: 0.8697\n",
      "Epoch 168/200\n",
      "614/614 [==============================] - 0s 56us/step - loss: 0.2897 - acc: 0.8697\n",
      "Epoch 169/200\n",
      "614/614 [==============================] - 0s 75us/step - loss: 0.2594 - acc: 0.8909\n",
      "Epoch 170/200\n",
      "614/614 [==============================] - 0s 62us/step - loss: 0.2564 - acc: 0.8795\n",
      "Epoch 171/200\n",
      "614/614 [==============================] - 0s 60us/step - loss: 0.2972 - acc: 0.8697\n",
      "Epoch 172/200\n",
      "614/614 [==============================] - 0s 70us/step - loss: 0.3161 - acc: 0.8599\n",
      "Epoch 173/200\n",
      "614/614 [==============================] - 0s 69us/step - loss: 0.3159 - acc: 0.8518\n",
      "Epoch 174/200\n",
      "614/614 [==============================] - 0s 64us/step - loss: 0.2842 - acc: 0.8616\n",
      "Epoch 175/200\n",
      "614/614 [==============================] - 0s 65us/step - loss: 0.2643 - acc: 0.8795\n",
      "Epoch 176/200\n",
      "614/614 [==============================] - 0s 55us/step - loss: 0.2584 - acc: 0.8779\n",
      "Epoch 177/200\n",
      "614/614 [==============================] - 0s 64us/step - loss: 0.2470 - acc: 0.8941\n",
      "Epoch 178/200\n",
      "614/614 [==============================] - 0s 59us/step - loss: 0.2367 - acc: 0.8990\n",
      "Epoch 179/200\n",
      "614/614 [==============================] - 0s 64us/step - loss: 0.2313 - acc: 0.8974\n",
      "Epoch 180/200\n",
      "614/614 [==============================] - 0s 67us/step - loss: 0.2584 - acc: 0.8876\n",
      "Epoch 181/200\n",
      "614/614 [==============================] - 0s 54us/step - loss: 0.2409 - acc: 0.8925\n",
      "Epoch 182/200\n",
      "614/614 [==============================] - 0s 61us/step - loss: 0.2387 - acc: 0.8909\n",
      "Epoch 183/200\n",
      "614/614 [==============================] - 0s 63us/step - loss: 0.2364 - acc: 0.9023\n",
      "Epoch 184/200\n",
      "614/614 [==============================] - 0s 51us/step - loss: 0.2313 - acc: 0.8909\n",
      "Epoch 185/200\n",
      "614/614 [==============================] - 0s 56us/step - loss: 0.2255 - acc: 0.9055\n",
      "Epoch 186/200\n",
      "614/614 [==============================] - 0s 57us/step - loss: 0.2655 - acc: 0.8925\n",
      "Epoch 187/200\n",
      "614/614 [==============================] - 0s 67us/step - loss: 0.2694 - acc: 0.8795\n",
      "Epoch 188/200\n",
      "614/614 [==============================] - 0s 57us/step - loss: 0.2389 - acc: 0.8795\n",
      "Epoch 189/200\n",
      "614/614 [==============================] - 0s 53us/step - loss: 0.2224 - acc: 0.9007\n",
      "Epoch 190/200\n",
      "614/614 [==============================] - 0s 69us/step - loss: 0.2427 - acc: 0.8893\n",
      "Epoch 191/200\n",
      "614/614 [==============================] - 0s 61us/step - loss: 0.2329 - acc: 0.9039\n",
      "Epoch 192/200\n",
      "614/614 [==============================] - 0s 63us/step - loss: 0.2359 - acc: 0.9007\n",
      "Epoch 193/200\n",
      "614/614 [==============================] - 0s 58us/step - loss: 0.2473 - acc: 0.8860\n",
      "Epoch 194/200\n",
      "614/614 [==============================] - 0s 62us/step - loss: 0.2612 - acc: 0.8844\n",
      "Epoch 195/200\n",
      "614/614 [==============================] - 0s 62us/step - loss: 0.2586 - acc: 0.8925\n",
      "Epoch 196/200\n",
      "614/614 [==============================] - 0s 56us/step - loss: 0.2338 - acc: 0.8990\n",
      "Epoch 197/200\n",
      "614/614 [==============================] - 0s 63us/step - loss: 0.2398 - acc: 0.9055\n",
      "Epoch 198/200\n",
      "614/614 [==============================] - 0s 59us/step - loss: 0.2163 - acc: 0.9055\n",
      "Epoch 199/200\n",
      "614/614 [==============================] - 0s 52us/step - loss: 0.2227 - acc: 0.9023\n",
      "Epoch 200/200\n",
      "614/614 [==============================] - 0s 74us/step - loss: 0.2157 - acc: 0.9088\n"
     ]
    }
   ],
   "source": [
    "model = Sequential()\n",
    "model.add(Dense(64, activation='relu', input_dim=8)) \n",
    "model.add(Dense(64, activation='tanh'))\n",
    "model.add(Dense(36, activation='relu'))\n",
    "model.add(Dense(36, activation='tanh'))\n",
    "model.add(Dense(1, activation='sigmoid'))\n",
    "\n",
    "model.compile(optimizer=(optimizers.Adam(lr=.00045)),\n",
    "              loss ='binary_crossentropy',\n",
    "              metrics=['accuracy'])\n",
    "mod2 = model.fit(x_train, y_train, \n",
    "                  batch_size=32,\n",
    "                  epochs=200)"
   ]
  },
  {
   "cell_type": "code",
   "execution_count": 155,
   "metadata": {},
   "outputs": [
    {
     "name": "stdout",
     "output_type": "stream",
     "text": [
      "154/154 [==============================] - 0s 256us/step\n",
      "[1.0593324535852904, 0.64935065244699453]\n"
     ]
    }
   ],
   "source": [
    "tst_score = model.evaluate(x_test, y_test)\n",
    "print(tst_score)"
   ]
  },
  {
   "cell_type": "code",
   "execution_count": 156,
   "metadata": {},
   "outputs": [
    {
     "name": "stdout",
     "output_type": "stream",
     "text": [
      "614/614 [==============================] - 0s 35us/step\n",
      "[0.19721443140545575, 0.91368078175895762]\n"
     ]
    }
   ],
   "source": [
    "train_score = model.evaluate(x_train, y_train)\n",
    "print(train_score)"
   ]
  },
  {
   "cell_type": "markdown",
   "metadata": {},
   "source": [
    "# The above model gives me a great train accuracy with 91.3% but the test accuracy is only 64.9% so it is over-fit :("
   ]
  },
  {
   "cell_type": "markdown",
   "metadata": {},
   "source": [
    "## Check the test accuracy"
   ]
  },
  {
   "cell_type": "code",
   "execution_count": 157,
   "metadata": {},
   "outputs": [
    {
     "name": "stdout",
     "output_type": "stream",
     "text": [
      "(154,) (154,)\n"
     ]
    }
   ],
   "source": [
    "Y_pred = model.predict(x_test) #prediction probability \n",
    "Y_class = Y_pred.round().reshape(y_test.shape) # round up probabilities and reshape the array\n",
    "print(y_test.shape, Y_class.shape)"
   ]
  },
  {
   "cell_type": "code",
   "execution_count": 158,
   "metadata": {
    "collapsed": true
   },
   "outputs": [],
   "source": [
    "def acc(yp, yt):\n",
    "    assert yp.shape==yt.shape, 'shape of yp and yt do not match'\n",
    "    return np.mean(yp == yt)"
   ]
  },
  {
   "cell_type": "code",
   "execution_count": null,
   "metadata": {
    "collapsed": true
   },
   "outputs": [],
   "source": [
    "# YOUR TURN\n",
    "# print out the test accuracy \n",
    "# Your Answer:\n",
    "\n",
    "# Q5. Is the test accuracy as good as the train accuracy? \n",
    "# Your Answer:"
   ]
  },
  {
   "cell_type": "markdown",
   "metadata": {},
   "source": [
    "# I showed how to find train accuracy with model.evaluate above, however here is another way with sklearn and how to get a confusion matrix"
   ]
  },
  {
   "cell_type": "code",
   "execution_count": 173,
   "metadata": {},
   "outputs": [],
   "source": [
    "#print(Y_pred)"
   ]
  },
  {
   "cell_type": "code",
   "execution_count": 174,
   "metadata": {},
   "outputs": [],
   "source": [
    "#print(Y_class)"
   ]
  },
  {
   "cell_type": "code",
   "execution_count": 172,
   "metadata": {},
   "outputs": [
    {
     "data": {
      "text/plain": [
       "0.64935064935064934"
      ]
     },
     "execution_count": 172,
     "metadata": {},
     "output_type": "execute_result"
    }
   ],
   "source": [
    "from sklearn.metrics import accuracy_score\n",
    "accuracy_score(y_test, Y_class)"
   ]
  },
  {
   "cell_type": "code",
   "execution_count": 166,
   "metadata": {
    "scrolled": true
   },
   "outputs": [
    {
     "name": "stdout",
     "output_type": "stream",
     "text": [
      "[[74 25]\n",
      " [29 26]]\n"
     ]
    }
   ],
   "source": [
    "#confusion matrix\n",
    "\n",
    "#sklearn.metrics.confusion_matrix(y_true, y_pred, \n",
    "#labels=None, sample_weight=None)\n",
    "import sklearn\n",
    "cnf_matrix = sklearn.metrics.confusion_matrix(y_test,\n",
    "                                              Y_class,\n",
    "                                              labels=None, \n",
    "                                              sample_weight=None)\n",
    "print(cnf_matrix)"
   ]
  },
  {
   "cell_type": "code",
   "execution_count": 176,
   "metadata": {},
   "outputs": [
    {
     "data": {
      "text/plain": [
       "0.64393135895134757"
      ]
     },
     "execution_count": 176,
     "metadata": {},
     "output_type": "execute_result"
    }
   ],
   "source": [
    "#precision\n",
    "\n",
    "from sklearn.metrics import precision_score\n",
    "precision_score(y_test, Y_class, average='weighted')"
   ]
  },
  {
   "cell_type": "markdown",
   "metadata": {},
   "source": [
    "## Monitor validation loss\n",
    "You can also monitor validation loss and validation metric (accuracy in our example) by adding an option ` validation_split` to the `.fit()` function. "
   ]
  },
  {
   "cell_type": "markdown",
   "metadata": {
    "collapsed": true
   },
   "source": [
    " YOUR TURN\n",
    "## Refer to Keras documentation and add validation_split to .fit() and run training\n",
    " Your Answer: see below\n",
    "\n",
    "## Q6. What do you observe in train and validation accuraceis? Is there an overfit?\n",
    " Your Answer:\n",
    " ### Yes, there is an overfit because the train accuracy is higher than the validation by over 10%\n",
    "\n",
    "## Q7. Change your hyperparameters to maximize your validation accuracy. What are your best configuations?\n",
    " Your Answer:"
   ]
  },
  {
   "cell_type": "code",
   "execution_count": 185,
   "metadata": {
    "collapsed": true
   },
   "outputs": [],
   "source": [
    "K.clear_session()"
   ]
  },
  {
   "cell_type": "code",
   "execution_count": 190,
   "metadata": {},
   "outputs": [
    {
     "name": "stdout",
     "output_type": "stream",
     "text": [
      "Train on 491 samples, validate on 123 samples\n",
      "Epoch 1/200\n",
      "491/491 [==============================] - 0s 976us/step - loss: 0.6983 - acc: 0.5804 - val_loss: 0.6709 - val_acc: 0.6098\n",
      "Epoch 2/200\n",
      "491/491 [==============================] - 0s 60us/step - loss: 0.6195 - acc: 0.6599 - val_loss: 0.6143 - val_acc: 0.6179\n",
      "Epoch 3/200\n",
      "491/491 [==============================] - 0s 67us/step - loss: 0.5891 - acc: 0.6660 - val_loss: 0.5987 - val_acc: 0.6260\n",
      "Epoch 4/200\n",
      "491/491 [==============================] - 0s 73us/step - loss: 0.5807 - acc: 0.6680 - val_loss: 0.5943 - val_acc: 0.6423\n",
      "Epoch 5/200\n",
      "491/491 [==============================] - 0s 62us/step - loss: 0.5776 - acc: 0.7026 - val_loss: 0.5871 - val_acc: 0.6341\n",
      "Epoch 6/200\n",
      "491/491 [==============================] - 0s 63us/step - loss: 0.5660 - acc: 0.7108 - val_loss: 0.5856 - val_acc: 0.6341\n",
      "Epoch 7/200\n",
      "491/491 [==============================] - 0s 59us/step - loss: 0.5568 - acc: 0.7271 - val_loss: 0.5973 - val_acc: 0.6098\n",
      "Epoch 8/200\n",
      "491/491 [==============================] - 0s 81us/step - loss: 0.5470 - acc: 0.7271 - val_loss: 0.5911 - val_acc: 0.6179\n",
      "Epoch 9/200\n",
      "491/491 [==============================] - 0s 71us/step - loss: 0.5415 - acc: 0.7352 - val_loss: 0.5715 - val_acc: 0.6504\n",
      "Epoch 10/200\n",
      "491/491 [==============================] - 0s 63us/step - loss: 0.5330 - acc: 0.7413 - val_loss: 0.5839 - val_acc: 0.6748\n",
      "Epoch 11/200\n",
      "491/491 [==============================] - 0s 62us/step - loss: 0.5337 - acc: 0.7291 - val_loss: 0.5816 - val_acc: 0.6667\n",
      "Epoch 12/200\n",
      "491/491 [==============================] - 0s 67us/step - loss: 0.5240 - acc: 0.7413 - val_loss: 0.5829 - val_acc: 0.6829\n",
      "Epoch 13/200\n",
      "491/491 [==============================] - 0s 71us/step - loss: 0.5239 - acc: 0.7332 - val_loss: 0.5778 - val_acc: 0.6748\n",
      "Epoch 14/200\n",
      "491/491 [==============================] - 0s 67us/step - loss: 0.5200 - acc: 0.7556 - val_loss: 0.5812 - val_acc: 0.6423\n",
      "Epoch 15/200\n",
      "491/491 [==============================] - 0s 65us/step - loss: 0.5302 - acc: 0.7454 - val_loss: 0.5848 - val_acc: 0.6992\n",
      "Epoch 16/200\n",
      "491/491 [==============================] - 0s 74us/step - loss: 0.5161 - acc: 0.7393 - val_loss: 0.5722 - val_acc: 0.6748\n",
      "Epoch 17/200\n",
      "491/491 [==============================] - 0s 81us/step - loss: 0.5110 - acc: 0.7515 - val_loss: 0.5816 - val_acc: 0.6341\n",
      "Epoch 18/200\n",
      "491/491 [==============================] - 0s 63us/step - loss: 0.5209 - acc: 0.7230 - val_loss: 0.5798 - val_acc: 0.6911\n",
      "Epoch 19/200\n",
      "491/491 [==============================] - 0s 67us/step - loss: 0.5198 - acc: 0.7475 - val_loss: 0.5817 - val_acc: 0.6504\n",
      "Epoch 20/200\n",
      "491/491 [==============================] - 0s 62us/step - loss: 0.5047 - acc: 0.7515 - val_loss: 0.5767 - val_acc: 0.6748\n",
      "Epoch 21/200\n",
      "491/491 [==============================] - 0s 65us/step - loss: 0.5133 - acc: 0.7373 - val_loss: 0.5764 - val_acc: 0.7073\n",
      "Epoch 22/200\n",
      "491/491 [==============================] - 0s 67us/step - loss: 0.5106 - acc: 0.7475 - val_loss: 0.5905 - val_acc: 0.6585\n",
      "Epoch 23/200\n",
      "491/491 [==============================] - 0s 69us/step - loss: 0.5052 - acc: 0.7536 - val_loss: 0.5844 - val_acc: 0.6667\n",
      "Epoch 24/200\n",
      "491/491 [==============================] - 0s 69us/step - loss: 0.4964 - acc: 0.7413 - val_loss: 0.5767 - val_acc: 0.6829\n",
      "Epoch 25/200\n",
      "491/491 [==============================] - 0s 70us/step - loss: 0.4998 - acc: 0.7475 - val_loss: 0.5718 - val_acc: 0.6748\n",
      "Epoch 26/200\n",
      "491/491 [==============================] - 0s 78us/step - loss: 0.4914 - acc: 0.7637 - val_loss: 0.5807 - val_acc: 0.6748\n",
      "Epoch 27/200\n",
      "491/491 [==============================] - 0s 64us/step - loss: 0.4863 - acc: 0.7760 - val_loss: 0.5835 - val_acc: 0.6585\n",
      "Epoch 28/200\n",
      "491/491 [==============================] - 0s 70us/step - loss: 0.4781 - acc: 0.7597 - val_loss: 0.5703 - val_acc: 0.7154\n",
      "Epoch 29/200\n",
      "491/491 [==============================] - 0s 72us/step - loss: 0.4836 - acc: 0.7637 - val_loss: 0.5698 - val_acc: 0.6585\n",
      "Epoch 30/200\n",
      "491/491 [==============================] - 0s 63us/step - loss: 0.4803 - acc: 0.7637 - val_loss: 0.5857 - val_acc: 0.6911\n",
      "Epoch 31/200\n",
      "491/491 [==============================] - 0s 54us/step - loss: 0.4784 - acc: 0.7556 - val_loss: 0.5774 - val_acc: 0.7073\n",
      "Epoch 32/200\n",
      "491/491 [==============================] - 0s 66us/step - loss: 0.4726 - acc: 0.7658 - val_loss: 0.5793 - val_acc: 0.6911\n",
      "Epoch 33/200\n",
      "491/491 [==============================] - 0s 80us/step - loss: 0.4712 - acc: 0.7780 - val_loss: 0.5768 - val_acc: 0.6911\n",
      "Epoch 34/200\n",
      "491/491 [==============================] - 0s 64us/step - loss: 0.4674 - acc: 0.7862 - val_loss: 0.5559 - val_acc: 0.7154\n",
      "Epoch 35/200\n",
      "491/491 [==============================] - 0s 67us/step - loss: 0.4713 - acc: 0.7699 - val_loss: 0.5949 - val_acc: 0.6748\n",
      "Epoch 36/200\n",
      "491/491 [==============================] - 0s 72us/step - loss: 0.4729 - acc: 0.7719 - val_loss: 0.5791 - val_acc: 0.6911\n",
      "Epoch 37/200\n",
      "491/491 [==============================] - 0s 72us/step - loss: 0.4699 - acc: 0.7699 - val_loss: 0.5627 - val_acc: 0.6748\n",
      "Epoch 38/200\n",
      "491/491 [==============================] - 0s 75us/step - loss: 0.4673 - acc: 0.7760 - val_loss: 0.5575 - val_acc: 0.6911\n",
      "Epoch 39/200\n",
      "491/491 [==============================] - 0s 72us/step - loss: 0.4692 - acc: 0.7841 - val_loss: 0.5874 - val_acc: 0.7236\n",
      "Epoch 40/200\n",
      "491/491 [==============================] - 0s 71us/step - loss: 0.4772 - acc: 0.7617 - val_loss: 0.5795 - val_acc: 0.7073\n",
      "Epoch 41/200\n",
      "491/491 [==============================] - 0s 83us/step - loss: 0.4680 - acc: 0.7597 - val_loss: 0.5691 - val_acc: 0.6992\n",
      "Epoch 42/200\n",
      "491/491 [==============================] - 0s 75us/step - loss: 0.4653 - acc: 0.7780 - val_loss: 0.5825 - val_acc: 0.7073\n",
      "Epoch 43/200\n",
      "491/491 [==============================] - 0s 68us/step - loss: 0.4654 - acc: 0.7760 - val_loss: 0.5724 - val_acc: 0.7073\n",
      "Epoch 44/200\n",
      "491/491 [==============================] - 0s 80us/step - loss: 0.4616 - acc: 0.7862 - val_loss: 0.5753 - val_acc: 0.7154\n",
      "Epoch 45/200\n",
      "491/491 [==============================] - 0s 73us/step - loss: 0.4528 - acc: 0.7923 - val_loss: 0.5767 - val_acc: 0.6911\n",
      "Epoch 46/200\n",
      "491/491 [==============================] - 0s 115us/step - loss: 0.4588 - acc: 0.7780 - val_loss: 0.5705 - val_acc: 0.7154\n",
      "Epoch 47/200\n",
      "491/491 [==============================] - 0s 67us/step - loss: 0.4566 - acc: 0.7760 - val_loss: 0.5733 - val_acc: 0.6911\n",
      "Epoch 48/200\n",
      "491/491 [==============================] - 0s 74us/step - loss: 0.4581 - acc: 0.7780 - val_loss: 0.5887 - val_acc: 0.7073\n",
      "Epoch 49/200\n",
      "491/491 [==============================] - 0s 70us/step - loss: 0.4531 - acc: 0.7719 - val_loss: 0.5740 - val_acc: 0.7073\n",
      "Epoch 50/200\n",
      "491/491 [==============================] - 0s 66us/step - loss: 0.4451 - acc: 0.7943 - val_loss: 0.5969 - val_acc: 0.6585\n",
      "Epoch 51/200\n",
      "491/491 [==============================] - 0s 64us/step - loss: 0.4487 - acc: 0.7719 - val_loss: 0.5742 - val_acc: 0.6748\n",
      "Epoch 52/200\n",
      "491/491 [==============================] - 0s 75us/step - loss: 0.4440 - acc: 0.7984 - val_loss: 0.5732 - val_acc: 0.7398\n",
      "Epoch 53/200\n",
      "491/491 [==============================] - 0s 73us/step - loss: 0.4533 - acc: 0.7821 - val_loss: 0.5744 - val_acc: 0.7073\n",
      "Epoch 54/200\n",
      "491/491 [==============================] - 0s 74us/step - loss: 0.4475 - acc: 0.7862 - val_loss: 0.5783 - val_acc: 0.7236\n",
      "Epoch 55/200\n",
      "491/491 [==============================] - 0s 85us/step - loss: 0.4443 - acc: 0.7800 - val_loss: 0.6063 - val_acc: 0.6992\n",
      "Epoch 56/200\n",
      "491/491 [==============================] - 0s 72us/step - loss: 0.4397 - acc: 0.8065 - val_loss: 0.5750 - val_acc: 0.7236\n",
      "Epoch 57/200\n",
      "491/491 [==============================] - 0s 67us/step - loss: 0.4367 - acc: 0.7963 - val_loss: 0.5877 - val_acc: 0.7154\n",
      "Epoch 58/200\n",
      "491/491 [==============================] - 0s 65us/step - loss: 0.4427 - acc: 0.7841 - val_loss: 0.5851 - val_acc: 0.7236\n",
      "Epoch 59/200\n",
      "491/491 [==============================] - 0s 62us/step - loss: 0.4231 - acc: 0.7902 - val_loss: 0.5612 - val_acc: 0.7154\n",
      "Epoch 60/200\n",
      "491/491 [==============================] - 0s 68us/step - loss: 0.4452 - acc: 0.7841 - val_loss: 0.5704 - val_acc: 0.7317\n",
      "Epoch 61/200\n",
      "491/491 [==============================] - 0s 67us/step - loss: 0.4254 - acc: 0.8004 - val_loss: 0.5688 - val_acc: 0.7154\n",
      "Epoch 62/200\n",
      "491/491 [==============================] - 0s 72us/step - loss: 0.4155 - acc: 0.8167 - val_loss: 0.5813 - val_acc: 0.7236\n",
      "Epoch 63/200\n",
      "491/491 [==============================] - 0s 69us/step - loss: 0.4196 - acc: 0.8045 - val_loss: 0.5817 - val_acc: 0.7398\n",
      "Epoch 64/200\n",
      "491/491 [==============================] - 0s 79us/step - loss: 0.4236 - acc: 0.7984 - val_loss: 0.5824 - val_acc: 0.7073\n",
      "Epoch 65/200\n",
      "491/491 [==============================] - 0s 69us/step - loss: 0.4247 - acc: 0.7963 - val_loss: 0.5957 - val_acc: 0.6911\n",
      "Epoch 66/200\n",
      "491/491 [==============================] - 0s 69us/step - loss: 0.4112 - acc: 0.8065 - val_loss: 0.5766 - val_acc: 0.7317\n",
      "Epoch 67/200\n",
      "491/491 [==============================] - 0s 72us/step - loss: 0.4073 - acc: 0.8126 - val_loss: 0.5796 - val_acc: 0.7236\n",
      "Epoch 68/200\n",
      "491/491 [==============================] - 0s 81us/step - loss: 0.4032 - acc: 0.8065 - val_loss: 0.5786 - val_acc: 0.7480\n",
      "Epoch 69/200\n",
      "491/491 [==============================] - 0s 70us/step - loss: 0.4217 - acc: 0.7984 - val_loss: 0.5672 - val_acc: 0.7236\n",
      "Epoch 70/200\n",
      "491/491 [==============================] - 0s 73us/step - loss: 0.4314 - acc: 0.7963 - val_loss: 0.5884 - val_acc: 0.6748\n",
      "Epoch 71/200\n",
      "491/491 [==============================] - 0s 63us/step - loss: 0.4161 - acc: 0.8004 - val_loss: 0.5701 - val_acc: 0.7154\n",
      "Epoch 72/200\n",
      "491/491 [==============================] - 0s 63us/step - loss: 0.4092 - acc: 0.8106 - val_loss: 0.5822 - val_acc: 0.7398\n",
      "Epoch 73/200\n",
      "491/491 [==============================] - 0s 73us/step - loss: 0.4090 - acc: 0.8147 - val_loss: 0.5879 - val_acc: 0.7154\n",
      "Epoch 74/200\n",
      "491/491 [==============================] - 0s 82us/step - loss: 0.4081 - acc: 0.8004 - val_loss: 0.5884 - val_acc: 0.7561\n",
      "Epoch 75/200\n",
      "491/491 [==============================] - 0s 79us/step - loss: 0.4018 - acc: 0.7984 - val_loss: 0.5741 - val_acc: 0.7561\n",
      "Epoch 76/200\n",
      "491/491 [==============================] - 0s 77us/step - loss: 0.3919 - acc: 0.8269 - val_loss: 0.6006 - val_acc: 0.7317\n",
      "Epoch 77/200\n",
      "491/491 [==============================] - 0s 69us/step - loss: 0.4107 - acc: 0.8045 - val_loss: 0.5978 - val_acc: 0.7073\n",
      "Epoch 78/200\n",
      "491/491 [==============================] - 0s 72us/step - loss: 0.4101 - acc: 0.7943 - val_loss: 0.5820 - val_acc: 0.7480\n",
      "Epoch 79/200\n",
      "491/491 [==============================] - 0s 70us/step - loss: 0.4096 - acc: 0.7902 - val_loss: 0.5888 - val_acc: 0.7317\n",
      "Epoch 80/200\n",
      "491/491 [==============================] - 0s 58us/step - loss: 0.4105 - acc: 0.8167 - val_loss: 0.5939 - val_acc: 0.7154\n",
      "Epoch 81/200\n",
      "491/491 [==============================] - 0s 70us/step - loss: 0.4151 - acc: 0.7902 - val_loss: 0.5874 - val_acc: 0.6829\n",
      "Epoch 82/200\n",
      "491/491 [==============================] - 0s 64us/step - loss: 0.4088 - acc: 0.7984 - val_loss: 0.5481 - val_acc: 0.7480\n",
      "Epoch 83/200\n",
      "491/491 [==============================] - 0s 65us/step - loss: 0.4167 - acc: 0.7882 - val_loss: 0.5990 - val_acc: 0.7236\n",
      "Epoch 84/200\n",
      "491/491 [==============================] - 0s 59us/step - loss: 0.4072 - acc: 0.8106 - val_loss: 0.6136 - val_acc: 0.6911\n",
      "Epoch 85/200\n",
      "491/491 [==============================] - 0s 65us/step - loss: 0.4027 - acc: 0.7923 - val_loss: 0.6025 - val_acc: 0.7154\n",
      "Epoch 86/200\n",
      "491/491 [==============================] - 0s 70us/step - loss: 0.4017 - acc: 0.8045 - val_loss: 0.5933 - val_acc: 0.7317\n",
      "Epoch 87/200\n",
      "491/491 [==============================] - 0s 55us/step - loss: 0.3792 - acc: 0.8106 - val_loss: 0.6209 - val_acc: 0.6829\n",
      "Epoch 88/200\n",
      "491/491 [==============================] - 0s 66us/step - loss: 0.4084 - acc: 0.8045 - val_loss: 0.5932 - val_acc: 0.7236\n",
      "Epoch 89/200\n",
      "491/491 [==============================] - 0s 70us/step - loss: 0.3803 - acc: 0.8269 - val_loss: 0.5945 - val_acc: 0.7317\n",
      "Epoch 90/200\n",
      "491/491 [==============================] - 0s 68us/step - loss: 0.3882 - acc: 0.8208 - val_loss: 0.5745 - val_acc: 0.7398\n",
      "Epoch 91/200\n",
      "491/491 [==============================] - 0s 77us/step - loss: 0.3718 - acc: 0.8310 - val_loss: 0.5900 - val_acc: 0.7236\n",
      "Epoch 92/200\n",
      "491/491 [==============================] - 0s 66us/step - loss: 0.3786 - acc: 0.8208 - val_loss: 0.5960 - val_acc: 0.7154\n",
      "Epoch 93/200\n",
      "491/491 [==============================] - 0s 70us/step - loss: 0.3777 - acc: 0.8248 - val_loss: 0.6062 - val_acc: 0.7398\n",
      "Epoch 94/200\n",
      "491/491 [==============================] - 0s 72us/step - loss: 0.3738 - acc: 0.8147 - val_loss: 0.5886 - val_acc: 0.7317\n",
      "Epoch 95/200\n",
      "491/491 [==============================] - 0s 68us/step - loss: 0.3604 - acc: 0.8391 - val_loss: 0.5811 - val_acc: 0.7154\n",
      "Epoch 96/200\n",
      "491/491 [==============================] - 0s 66us/step - loss: 0.3690 - acc: 0.8228 - val_loss: 0.6013 - val_acc: 0.7480\n",
      "Epoch 97/200\n",
      "491/491 [==============================] - 0s 71us/step - loss: 0.3607 - acc: 0.8391 - val_loss: 0.5878 - val_acc: 0.7480\n",
      "Epoch 98/200\n",
      "491/491 [==============================] - 0s 63us/step - loss: 0.3613 - acc: 0.8228 - val_loss: 0.6017 - val_acc: 0.7480\n",
      "Epoch 99/200\n",
      "491/491 [==============================] - 0s 63us/step - loss: 0.3979 - acc: 0.8024 - val_loss: 0.6485 - val_acc: 0.7154\n",
      "Epoch 100/200\n",
      "491/491 [==============================] - 0s 70us/step - loss: 0.3887 - acc: 0.8248 - val_loss: 0.6000 - val_acc: 0.7398\n",
      "Epoch 101/200\n",
      "491/491 [==============================] - 0s 69us/step - loss: 0.3732 - acc: 0.8228 - val_loss: 0.6347 - val_acc: 0.7154\n",
      "Epoch 102/200\n",
      "491/491 [==============================] - 0s 73us/step - loss: 0.3620 - acc: 0.8289 - val_loss: 0.5942 - val_acc: 0.6829\n",
      "Epoch 103/200\n",
      "491/491 [==============================] - 0s 77us/step - loss: 0.3576 - acc: 0.8371 - val_loss: 0.6130 - val_acc: 0.7154\n",
      "Epoch 104/200\n",
      "491/491 [==============================] - 0s 74us/step - loss: 0.3512 - acc: 0.8350 - val_loss: 0.6322 - val_acc: 0.7073\n",
      "Epoch 105/200\n",
      "491/491 [==============================] - 0s 62us/step - loss: 0.3443 - acc: 0.8411 - val_loss: 0.6249 - val_acc: 0.6992\n",
      "Epoch 106/200\n",
      "491/491 [==============================] - 0s 66us/step - loss: 0.3495 - acc: 0.8371 - val_loss: 0.5814 - val_acc: 0.7480\n",
      "Epoch 107/200\n",
      "491/491 [==============================] - 0s 72us/step - loss: 0.3572 - acc: 0.8289 - val_loss: 0.6436 - val_acc: 0.6829\n",
      "Epoch 108/200\n",
      "491/491 [==============================] - 0s 69us/step - loss: 0.3525 - acc: 0.8350 - val_loss: 0.5950 - val_acc: 0.6992\n",
      "Epoch 109/200\n",
      "491/491 [==============================] - 0s 66us/step - loss: 0.3447 - acc: 0.8534 - val_loss: 0.6292 - val_acc: 0.7236\n",
      "Epoch 110/200\n",
      "491/491 [==============================] - 0s 64us/step - loss: 0.3362 - acc: 0.8411 - val_loss: 0.6262 - val_acc: 0.6992\n",
      "Epoch 111/200\n",
      "491/491 [==============================] - 0s 70us/step - loss: 0.3304 - acc: 0.8534 - val_loss: 0.6291 - val_acc: 0.7317\n",
      "Epoch 112/200\n",
      "491/491 [==============================] - 0s 69us/step - loss: 0.3491 - acc: 0.8167 - val_loss: 0.6209 - val_acc: 0.7398\n",
      "Epoch 113/200\n",
      "491/491 [==============================] - 0s 68us/step - loss: 0.3490 - acc: 0.8330 - val_loss: 0.6301 - val_acc: 0.7317\n",
      "Epoch 114/200\n",
      "491/491 [==============================] - 0s 64us/step - loss: 0.3393 - acc: 0.8452 - val_loss: 0.6010 - val_acc: 0.6748\n",
      "Epoch 115/200\n",
      "491/491 [==============================] - 0s 65us/step - loss: 0.3356 - acc: 0.8493 - val_loss: 0.6702 - val_acc: 0.6667\n",
      "Epoch 116/200\n",
      "491/491 [==============================] - 0s 66us/step - loss: 0.3512 - acc: 0.8330 - val_loss: 0.6058 - val_acc: 0.7073\n",
      "Epoch 117/200\n",
      "491/491 [==============================] - 0s 67us/step - loss: 0.3550 - acc: 0.8452 - val_loss: 0.6733 - val_acc: 0.6748\n",
      "Epoch 118/200\n",
      "491/491 [==============================] - 0s 59us/step - loss: 0.3440 - acc: 0.8452 - val_loss: 0.6141 - val_acc: 0.7236\n",
      "Epoch 119/200\n",
      "491/491 [==============================] - 0s 64us/step - loss: 0.3368 - acc: 0.8432 - val_loss: 0.6189 - val_acc: 0.6992\n",
      "Epoch 120/200\n",
      "491/491 [==============================] - 0s 67us/step - loss: 0.3298 - acc: 0.8513 - val_loss: 0.6236 - val_acc: 0.7073\n",
      "Epoch 121/200\n"
     ]
    },
    {
     "name": "stdout",
     "output_type": "stream",
     "text": [
      "491/491 [==============================] - 0s 86us/step - loss: 0.3296 - acc: 0.8432 - val_loss: 0.6586 - val_acc: 0.6829\n",
      "Epoch 122/200\n",
      "491/491 [==============================] - 0s 85us/step - loss: 0.3407 - acc: 0.8330 - val_loss: 0.6532 - val_acc: 0.7154\n",
      "Epoch 123/200\n",
      "491/491 [==============================] - 0s 84us/step - loss: 0.3461 - acc: 0.8452 - val_loss: 0.6266 - val_acc: 0.7154\n",
      "Epoch 124/200\n",
      "491/491 [==============================] - 0s 75us/step - loss: 0.3367 - acc: 0.8330 - val_loss: 0.6401 - val_acc: 0.7073\n",
      "Epoch 125/200\n",
      "491/491 [==============================] - 0s 81us/step - loss: 0.3085 - acc: 0.8493 - val_loss: 0.6633 - val_acc: 0.6829\n",
      "Epoch 126/200\n",
      "491/491 [==============================] - 0s 74us/step - loss: 0.3311 - acc: 0.8371 - val_loss: 0.6510 - val_acc: 0.6829\n",
      "Epoch 127/200\n",
      "491/491 [==============================] - 0s 84us/step - loss: 0.3454 - acc: 0.8310 - val_loss: 0.6278 - val_acc: 0.6992\n",
      "Epoch 128/200\n",
      "491/491 [==============================] - ETA: 0s - loss: 0.4111 - acc: 0.750 - 0s 70us/step - loss: 0.3438 - acc: 0.8473 - val_loss: 0.6774 - val_acc: 0.6667\n",
      "Epoch 129/200\n",
      "491/491 [==============================] - 0s 74us/step - loss: 0.3203 - acc: 0.8717 - val_loss: 0.6860 - val_acc: 0.6911\n",
      "Epoch 130/200\n",
      "491/491 [==============================] - 0s 88us/step - loss: 0.3144 - acc: 0.8635 - val_loss: 0.6626 - val_acc: 0.7154\n",
      "Epoch 131/200\n",
      "491/491 [==============================] - 0s 67us/step - loss: 0.3293 - acc: 0.8432 - val_loss: 0.6929 - val_acc: 0.6748\n",
      "Epoch 132/200\n",
      "491/491 [==============================] - 0s 74us/step - loss: 0.3201 - acc: 0.8534 - val_loss: 0.6467 - val_acc: 0.7073\n",
      "Epoch 133/200\n",
      "491/491 [==============================] - 0s 76us/step - loss: 0.3173 - acc: 0.8473 - val_loss: 0.6862 - val_acc: 0.6748\n",
      "Epoch 134/200\n",
      "491/491 [==============================] - 0s 86us/step - loss: 0.3170 - acc: 0.8513 - val_loss: 0.6776 - val_acc: 0.6829\n",
      "Epoch 135/200\n",
      "491/491 [==============================] - 0s 77us/step - loss: 0.3052 - acc: 0.8493 - val_loss: 0.6743 - val_acc: 0.6829\n",
      "Epoch 136/200\n",
      "491/491 [==============================] - 0s 91us/step - loss: 0.2898 - acc: 0.8697 - val_loss: 0.6766 - val_acc: 0.6585\n",
      "Epoch 137/200\n",
      "491/491 [==============================] - 0s 93us/step - loss: 0.2833 - acc: 0.8778 - val_loss: 0.6888 - val_acc: 0.6748\n",
      "Epoch 138/200\n",
      "491/491 [==============================] - 0s 65us/step - loss: 0.2825 - acc: 0.8798 - val_loss: 0.6717 - val_acc: 0.6911\n",
      "Epoch 139/200\n",
      "491/491 [==============================] - 0s 70us/step - loss: 0.2808 - acc: 0.8758 - val_loss: 0.7272 - val_acc: 0.6829\n",
      "Epoch 140/200\n",
      "491/491 [==============================] - 0s 65us/step - loss: 0.2915 - acc: 0.8473 - val_loss: 0.6885 - val_acc: 0.6748\n",
      "Epoch 141/200\n",
      "491/491 [==============================] - 0s 68us/step - loss: 0.2982 - acc: 0.8717 - val_loss: 0.6964 - val_acc: 0.6911\n",
      "Epoch 142/200\n",
      "491/491 [==============================] - 0s 70us/step - loss: 0.3019 - acc: 0.8432 - val_loss: 0.6762 - val_acc: 0.6829\n",
      "Epoch 143/200\n",
      "491/491 [==============================] - 0s 74us/step - loss: 0.2797 - acc: 0.8758 - val_loss: 0.6929 - val_acc: 0.6992\n",
      "Epoch 144/200\n",
      "491/491 [==============================] - 0s 67us/step - loss: 0.2775 - acc: 0.8676 - val_loss: 0.7208 - val_acc: 0.6748\n",
      "Epoch 145/200\n",
      "491/491 [==============================] - 0s 59us/step - loss: 0.2840 - acc: 0.8676 - val_loss: 0.7139 - val_acc: 0.6829\n",
      "Epoch 146/200\n",
      "491/491 [==============================] - 0s 70us/step - loss: 0.3162 - acc: 0.8574 - val_loss: 0.7361 - val_acc: 0.6992\n",
      "Epoch 147/200\n",
      "491/491 [==============================] - 0s 65us/step - loss: 0.3099 - acc: 0.8574 - val_loss: 0.6978 - val_acc: 0.6829\n",
      "Epoch 148/200\n",
      "491/491 [==============================] - 0s 60us/step - loss: 0.2964 - acc: 0.8513 - val_loss: 0.7353 - val_acc: 0.6504\n",
      "Epoch 149/200\n",
      "491/491 [==============================] - 0s 76us/step - loss: 0.2827 - acc: 0.8697 - val_loss: 0.7038 - val_acc: 0.6829\n",
      "Epoch 150/200\n",
      "491/491 [==============================] - 0s 65us/step - loss: 0.2927 - acc: 0.8697 - val_loss: 0.6453 - val_acc: 0.7236\n",
      "Epoch 151/200\n",
      "491/491 [==============================] - 0s 68us/step - loss: 0.2802 - acc: 0.8798 - val_loss: 0.7316 - val_acc: 0.6748\n",
      "Epoch 152/200\n",
      "491/491 [==============================] - 0s 70us/step - loss: 0.2706 - acc: 0.8697 - val_loss: 0.6697 - val_acc: 0.6911\n",
      "Epoch 153/200\n",
      "491/491 [==============================] - 0s 57us/step - loss: 0.3071 - acc: 0.8371 - val_loss: 0.7419 - val_acc: 0.6504\n",
      "Epoch 154/200\n",
      "491/491 [==============================] - 0s 64us/step - loss: 0.3023 - acc: 0.8676 - val_loss: 0.6866 - val_acc: 0.6829\n",
      "Epoch 155/200\n",
      "491/491 [==============================] - 0s 66us/step - loss: 0.2708 - acc: 0.8880 - val_loss: 0.7464 - val_acc: 0.6748\n",
      "Epoch 156/200\n",
      "491/491 [==============================] - 0s 64us/step - loss: 0.2641 - acc: 0.8737 - val_loss: 0.6970 - val_acc: 0.6911\n",
      "Epoch 157/200\n",
      "491/491 [==============================] - 0s 61us/step - loss: 0.2573 - acc: 0.8921 - val_loss: 0.7308 - val_acc: 0.6992\n",
      "Epoch 158/200\n",
      "491/491 [==============================] - 0s 77us/step - loss: 0.2530 - acc: 0.9002 - val_loss: 0.7603 - val_acc: 0.6748\n",
      "Epoch 159/200\n",
      "491/491 [==============================] - 0s 78us/step - loss: 0.2714 - acc: 0.8819 - val_loss: 0.7300 - val_acc: 0.6829\n",
      "Epoch 160/200\n",
      "491/491 [==============================] - 0s 78us/step - loss: 0.2579 - acc: 0.8839 - val_loss: 0.7236 - val_acc: 0.6748\n",
      "Epoch 161/200\n",
      "491/491 [==============================] - 0s 63us/step - loss: 0.2423 - acc: 0.8961 - val_loss: 0.7171 - val_acc: 0.6992\n",
      "Epoch 162/200\n",
      "491/491 [==============================] - 0s 72us/step - loss: 0.2465 - acc: 0.8961 - val_loss: 0.7540 - val_acc: 0.6911\n",
      "Epoch 163/200\n",
      "491/491 [==============================] - 0s 69us/step - loss: 0.2560 - acc: 0.8900 - val_loss: 0.7558 - val_acc: 0.6748\n",
      "Epoch 164/200\n",
      "491/491 [==============================] - 0s 66us/step - loss: 0.2587 - acc: 0.8941 - val_loss: 0.7517 - val_acc: 0.6667\n",
      "Epoch 165/200\n",
      "491/491 [==============================] - 0s 67us/step - loss: 0.2488 - acc: 0.8880 - val_loss: 0.7272 - val_acc: 0.6748\n",
      "Epoch 166/200\n",
      "491/491 [==============================] - 0s 63us/step - loss: 0.2738 - acc: 0.8574 - val_loss: 0.7588 - val_acc: 0.6911\n",
      "Epoch 167/200\n",
      "491/491 [==============================] - 0s 66us/step - loss: 0.2597 - acc: 0.8880 - val_loss: 0.7846 - val_acc: 0.6585\n",
      "Epoch 168/200\n",
      "491/491 [==============================] - 0s 62us/step - loss: 0.2451 - acc: 0.8941 - val_loss: 0.7423 - val_acc: 0.6748\n",
      "Epoch 169/200\n",
      "491/491 [==============================] - 0s 61us/step - loss: 0.2501 - acc: 0.8921 - val_loss: 0.7979 - val_acc: 0.6585\n",
      "Epoch 170/200\n",
      "491/491 [==============================] - 0s 62us/step - loss: 0.2714 - acc: 0.8676 - val_loss: 0.7424 - val_acc: 0.6585\n",
      "Epoch 171/200\n",
      "491/491 [==============================] - 0s 58us/step - loss: 0.2635 - acc: 0.8859 - val_loss: 0.7919 - val_acc: 0.6504\n",
      "Epoch 172/200\n",
      "491/491 [==============================] - 0s 68us/step - loss: 0.2648 - acc: 0.8737 - val_loss: 0.7048 - val_acc: 0.6992\n",
      "Epoch 173/200\n",
      "491/491 [==============================] - 0s 64us/step - loss: 0.2523 - acc: 0.8839 - val_loss: 0.8078 - val_acc: 0.6667\n",
      "Epoch 174/200\n",
      "491/491 [==============================] - 0s 56us/step - loss: 0.2523 - acc: 0.8880 - val_loss: 0.7650 - val_acc: 0.6585\n",
      "Epoch 175/200\n",
      "491/491 [==============================] - 0s 55us/step - loss: 0.2698 - acc: 0.8737 - val_loss: 0.7653 - val_acc: 0.6748\n",
      "Epoch 176/200\n",
      "491/491 [==============================] - 0s 64us/step - loss: 0.2587 - acc: 0.8798 - val_loss: 0.7669 - val_acc: 0.6748\n",
      "Epoch 177/200\n",
      "491/491 [==============================] - 0s 65us/step - loss: 0.2725 - acc: 0.8758 - val_loss: 0.7715 - val_acc: 0.6667\n",
      "Epoch 178/200\n",
      "491/491 [==============================] - 0s 64us/step - loss: 0.2574 - acc: 0.8839 - val_loss: 0.7832 - val_acc: 0.6667\n",
      "Epoch 179/200\n",
      "491/491 [==============================] - 0s 55us/step - loss: 0.2374 - acc: 0.9043 - val_loss: 0.7834 - val_acc: 0.6829\n",
      "Epoch 180/200\n",
      "491/491 [==============================] - 0s 58us/step - loss: 0.2443 - acc: 0.8941 - val_loss: 0.7973 - val_acc: 0.6585\n",
      "Epoch 181/200\n"
     ]
    },
    {
     "name": "stdout",
     "output_type": "stream",
     "text": [
      "491/491 [==============================] - 0s 63us/step - loss: 0.2503 - acc: 0.9002 - val_loss: 0.7943 - val_acc: 0.6504\n",
      "Epoch 182/200\n",
      "491/491 [==============================] - 0s 58us/step - loss: 0.2491 - acc: 0.8880 - val_loss: 0.8083 - val_acc: 0.6911\n",
      "Epoch 183/200\n",
      "491/491 [==============================] - 0s 65us/step - loss: 0.2624 - acc: 0.8819 - val_loss: 0.7507 - val_acc: 0.6992\n",
      "Epoch 184/200\n",
      "491/491 [==============================] - 0s 64us/step - loss: 0.2450 - acc: 0.8880 - val_loss: 0.8410 - val_acc: 0.6179\n",
      "Epoch 185/200\n",
      "491/491 [==============================] - 0s 61us/step - loss: 0.2489 - acc: 0.8880 - val_loss: 0.7869 - val_acc: 0.6829\n",
      "Epoch 186/200\n",
      "491/491 [==============================] - 0s 66us/step - loss: 0.2405 - acc: 0.8961 - val_loss: 0.7868 - val_acc: 0.6585\n",
      "Epoch 187/200\n",
      "491/491 [==============================] - 0s 75us/step - loss: 0.2277 - acc: 0.9063 - val_loss: 0.8452 - val_acc: 0.6341\n",
      "Epoch 188/200\n",
      "491/491 [==============================] - 0s 74us/step - loss: 0.2248 - acc: 0.9043 - val_loss: 0.7879 - val_acc: 0.6585\n",
      "Epoch 189/200\n",
      "491/491 [==============================] - 0s 68us/step - loss: 0.2449 - acc: 0.8839 - val_loss: 0.7829 - val_acc: 0.6423\n",
      "Epoch 190/200\n",
      "491/491 [==============================] - 0s 60us/step - loss: 0.2454 - acc: 0.9002 - val_loss: 0.8486 - val_acc: 0.6585\n",
      "Epoch 191/200\n",
      "491/491 [==============================] - 0s 64us/step - loss: 0.2905 - acc: 0.8737 - val_loss: 0.7898 - val_acc: 0.6748\n",
      "Epoch 192/200\n",
      "491/491 [==============================] - 0s 68us/step - loss: 0.2899 - acc: 0.8697 - val_loss: 0.8513 - val_acc: 0.6667\n",
      "Epoch 193/200\n",
      "491/491 [==============================] - 0s 64us/step - loss: 0.2597 - acc: 0.8859 - val_loss: 0.8590 - val_acc: 0.6504\n",
      "Epoch 194/200\n",
      "491/491 [==============================] - 0s 61us/step - loss: 0.2487 - acc: 0.9002 - val_loss: 0.8205 - val_acc: 0.6341\n",
      "Epoch 195/200\n",
      "491/491 [==============================] - 0s 66us/step - loss: 0.2425 - acc: 0.8921 - val_loss: 0.8336 - val_acc: 0.6829\n",
      "Epoch 196/200\n",
      "491/491 [==============================] - 0s 66us/step - loss: 0.2388 - acc: 0.8880 - val_loss: 0.8313 - val_acc: 0.6585\n",
      "Epoch 197/200\n",
      "491/491 [==============================] - 0s 73us/step - loss: 0.2432 - acc: 0.8819 - val_loss: 0.8698 - val_acc: 0.6504\n",
      "Epoch 198/200\n",
      "491/491 [==============================] - 0s 71us/step - loss: 0.2317 - acc: 0.9084 - val_loss: 0.8617 - val_acc: 0.6260\n",
      "Epoch 199/200\n",
      "491/491 [==============================] - 0s 70us/step - loss: 0.2188 - acc: 0.9043 - val_loss: 0.8772 - val_acc: 0.6748\n",
      "Epoch 200/200\n",
      "491/491 [==============================] - 0s 68us/step - loss: 0.2427 - acc: 0.8921 - val_loss: 0.8748 - val_acc: 0.6667\n"
     ]
    }
   ],
   "source": [
    "checkpoint = ModelCheckpoint('3_layer_dense.h5', monitor='val_loss', save_best_only=True)\n",
    "cb = [checkpoint]\n",
    "model = Sequential()\n",
    "model.add(Dense(64, activation='relu', input_dim=8)) \n",
    "model.add(Dense(64, activation='tanh'))\n",
    "model.add(Dense(36, activation='tanh'))\n",
    "model.add(Dense(1, activation='sigmoid'))\n",
    "\n",
    "model.compile(optimizer=(optimizers.Adam(lr=.00045)),\n",
    "              loss ='binary_crossentropy',\n",
    "              metrics=['accuracy'])\n",
    "history = model.fit(x_train, y_train, \n",
    "                  batch_size=32,\n",
    "                  epochs=200,\n",
    "                validation_split=0.2,\n",
    "                    callbacks=cb)"
   ]
  },
  {
   "cell_type": "code",
   "execution_count": 189,
   "metadata": {},
   "outputs": [
    {
     "data": {
      "image/png": "[encoded data removed]",
      "text/plain": [
       "<matplotlib.figure.Figure at 0x187a49e8f28>"
      ]
     },
     "metadata": {},
     "output_type": "display_data"
    }
   ],
   "source": [
    "plt.plot(history.history['acc'], label = 'training acc')\n",
    "plt.plot(history.history['val_acc'], label = 'validation acc')\n",
    "plt.legend()\n",
    "plt.show()"
   ]
  },
  {
   "cell_type": "code",
   "execution_count": null,
   "metadata": {
    "collapsed": true
   },
   "outputs": [],
   "source": []
  },
  {
   "cell_type": "code",
   "execution_count": null,
   "metadata": {
    "collapsed": true
   },
   "outputs": [],
   "source": []
  },
  {
   "cell_type": "code",
   "execution_count": 224,
   "metadata": {
    "collapsed": true
   },
   "outputs": [],
   "source": [
    "K.clear_session()"
   ]
  },
  {
   "cell_type": "code",
   "execution_count": 225,
   "metadata": {
    "scrolled": false
   },
   "outputs": [],
   "source": [
    "%%capture\n",
    "checkpoint = ModelCheckpoint('3_layer_dense.h5', monitor='val_loss', save_best_only=True)\n",
    "cb = [checkpoint]\n",
    "model = Sequential()\n",
    "model.add(Dense(30, activation='relu', input_dim=8)) \n",
    "model.add(Dense(15, activation='tanh'))\n",
    "model.add(Dense(1, activation='sigmoid'))\n",
    "\n",
    "\n",
    "model.compile(optimizer=(optimizers.Adam(lr=.0005)),\n",
    "              loss ='binary_crossentropy',\n",
    "              metrics=['accuracy'])\n",
    "history = model.fit(x_train, y_train, \n",
    "                  batch_size=32,\n",
    "                  epochs=200,\n",
    "                validation_split=0.2,\n",
    "                    callbacks=cb)\n"
   ]
  },
  {
   "cell_type": "code",
   "execution_count": 226,
   "metadata": {},
   "outputs": [
    {
     "data": {
      "image/png": "[encoded data removed]",
      "text/plain": [
       "<matplotlib.figure.Figure at 0x187a4155550>"
      ]
     },
     "metadata": {},
     "output_type": "display_data"
    }
   ],
   "source": [
    "plt.plot(history.history['acc'], label = 'training acc')\n",
    "plt.plot(history.history['val_acc'], label = 'validation acc')\n",
    "plt.legend()\n",
    "plt.show()"
   ]
  },
  {
   "cell_type": "code",
   "execution_count": 227,
   "metadata": {},
   "outputs": [
    {
     "name": "stdout",
     "output_type": "stream",
     "text": [
      "154/154 [==============================] - 0s 59us/step\n",
      "[0.60227290376440268, 0.72727272417638211]\n"
     ]
    }
   ],
   "source": [
    "tst_score = model.evaluate(x_test, y_test)\n",
    "print(tst_score)"
   ]
  },
  {
   "cell_type": "code",
   "execution_count": 228,
   "metadata": {},
   "outputs": [
    {
     "name": "stdout",
     "output_type": "stream",
     "text": [
      "614/614 [==============================] - 0s 33us/step\n",
      "[0.51191548124586717, 0.75081433244170892]\n"
     ]
    }
   ],
   "source": [
    "train_score = model.evaluate(x_train, y_train)\n",
    "print(train_score)"
   ]
  },
  {
   "cell_type": "markdown",
   "metadata": {},
   "source": [
    "# There is much less bias train accuracy 75% test 72%"
   ]
  }
 ],
 "metadata": {
  "anaconda-cloud": {},
  "kernelspec": {
   "display_name": "Python 3",
   "language": "python",
   "name": "python3"
  },
  "language_info": {
   "codemirror_mode": {
    "name": "ipython",
    "version": 3
   },
   "file_extension": ".py",
   "mimetype": "text/x-python",
   "name": "python",
   "nbconvert_exporter": "python",
   "pygments_lexer": "ipython3",
   "version": "3.6.6"
  }
 },
 "nbformat": 4,
 "nbformat_minor": 1
}
