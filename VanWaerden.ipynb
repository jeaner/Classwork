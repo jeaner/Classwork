{
 "cells": [
  {
   "cell_type": "code",
   "execution_count": 1,
   "metadata": {},
   "outputs": [
    {
     "name": "stderr",
     "output_type": "stream",
     "text": [
      "Warning message:\n",
      "\"package 'agricolae' was built under R version 3.3.3\""
     ]
    }
   ],
   "source": [
    "library(data.table)\n",
    "library(agricolae)\n",
    "data(sweetpotato)"
   ]
  },
  {
   "cell_type": "code",
   "execution_count": 4,
   "metadata": {},
   "outputs": [
    {
     "name": "stderr",
     "output_type": "stream",
     "text": [
      "The following objects are masked from sweetpotato (pos = 3):\n",
      "\n",
      "    virus, yield\n",
      "\n"
     ]
    },
    {
     "name": "stdout",
     "output_type": "stream",
     "text": [
      "$statistics\n",
      "     Chisq Df    p.chisq  t.value      MSD\n",
      "  8.409979  3 0.03825667 3.355387 1.322487\n",
      "\n",
      "$parameters\n",
      "     test name.t ntr alpha\n",
      "  Waerden  virus   4  0.01\n",
      "\n",
      "$means\n",
      "      yield normalScore      std r  Min  Max   Q25  Q50   Q75\n",
      "cc 24.40000  -0.2328353 3.609709 3 21.7 28.5 22.35 23.0 25.75\n",
      "fc 12.86667  -1.0601764 2.159475 3 10.6 14.9 11.85 13.1 14.00\n",
      "ff 36.33333   0.6885684 7.333030 3 28.0 41.8 33.60 39.2 40.50\n",
      "oo 36.90000   0.6044433 4.300000 3 32.1 40.4 35.15 38.2 39.30\n",
      "\n",
      "$comparison\n",
      "NULL\n",
      "\n",
      "$groups\n",
      "        score groups\n",
      "ff  0.6885684      a\n",
      "oo  0.6044433      a\n",
      "cc -0.2328353     ab\n",
      "fc -1.0601764      b\n",
      "\n",
      "attr(,\"class\")\n",
      "[1] \"group\"\n"
     ]
    }
   ],
   "source": [
    "attach(sweetpotato)\n",
    "\n",
    "comparison<-waerden.test(yield,virus,alpha=0.01,group=TRUE)\n",
    "\n",
    "print(comparison)"
   ]
  },
  {
   "cell_type": "code",
   "execution_count": 5,
   "metadata": {},
   "outputs": [
    {
     "name": "stdout",
     "output_type": "stream",
     "text": [
      "\n",
      "Study: yield ~ virus\n",
      "Van der Waerden (Normal Scores) test's\n",
      "\n",
      "Value : 8.409979\n",
      "Pvalue: 0.03825667\n",
      "Degrees of Freedom:  3 \n",
      "\n",
      "virus,  means of the normal score\n",
      "\n",
      "        yield       std r\n",
      "cc -0.2328353 0.3028832 3\n",
      "fc -1.0601764 0.3467934 3\n",
      "ff  0.6885684 0.7615582 3\n",
      "oo  0.6044433 0.3742929 3\n",
      "\n",
      "Post Hoc Analysis\n",
      "\n",
      "Alpha: 0.01 ; DF Error: 8 \n",
      "\n",
      "Minimum Significant Difference: 1.322487 \n",
      "\n",
      "Treatments with the same letter are not significantly different.\n",
      "\n",
      "Means of the normal score\n",
      "\n",
      "        score groups\n",
      "ff  0.6885684      a\n",
      "oo  0.6044433      a\n",
      "cc -0.2328353     ab\n",
      "fc -1.0601764      b\n"
     ]
    }
   ],
   "source": [
    "# The above information made zero sense to me, but if we restate the command \n",
    "# using the R with funtion it evalueates it more straightforward \n",
    "OutWaerden<-with(sweetpotato,waerden.test(yield,virus,alpha=0.01,group=TRUE,console=TRUE))"
   ]
  },
  {
   "cell_type": "code",
   "execution_count": 6,
   "metadata": {},
   "outputs": [
    {
     "data": {
      "image/png": "[encoded data removed]",
      "text/plain": [
       "Plot with title \"Groups and Range\""
      ]
     },
     "metadata": {},
     "output_type": "display_data"
    }
   ],
   "source": [
    "plot(OutWaerden)"
   ]
  },
  {
   "cell_type": "code",
   "execution_count": 7,
   "metadata": {},
   "outputs": [
    {
     "name": "stdout",
     "output_type": "stream",
     "text": [
      "\n",
      "Study: yield ~ virus\n",
      "Van der Waerden (Normal Scores) test's\n",
      "\n",
      "Value : 8.409979\n",
      "Pvalue: 0.03825667\n",
      "Degrees of Freedom:  3 \n",
      "\n",
      "virus,  means of the normal score\n",
      "\n",
      "        yield       std r\n",
      "cc -0.2328353 0.3028832 3\n",
      "fc -1.0601764 0.3467934 3\n",
      "ff  0.6885684 0.7615582 3\n",
      "oo  0.6044433 0.3742929 3\n",
      "\n",
      "Post Hoc Analysis\n",
      "\n",
      "Comparison between treatments\n",
      "mean of the normal score\n",
      "\n",
      "        difference pvalue signif.         LCL         UCL\n",
      "cc - fc  0.8273411 0.0690       . -0.08154345  1.73622564\n",
      "cc - ff -0.9214037 0.0476       * -1.83028827 -0.01251917\n",
      "cc - oo -0.8372786 0.0664       . -1.74616316  0.07160593\n",
      "fc - ff -1.7487448 0.0022      ** -2.65762936 -0.83986026\n",
      "fc - oo -1.6646197 0.0029      ** -2.57350426 -0.75573516\n",
      "ff - oo  0.0841251 0.8363         -0.82475944  0.99300965\n"
     ]
    }
   ],
   "source": [
    "# As it explains \"treatments with the same names are NOT sig. different\n",
    "# FF and OO are not significantly different\n",
    "# FC is significantly different from both FF and OO\n",
    "# CC is not significantly different from any\n",
    "\n",
    "\n",
    "# If we change the parameter group to =FALSE we can\n",
    "# see the comparison probabilites\n",
    "\n",
    "out<-with(sweetpotato,waerden.test(yield,virus,group=FALSE,console=TRUE))"
   ]
  },
  {
   "cell_type": "code",
   "execution_count": null,
   "metadata": {
    "collapsed": true
   },
   "outputs": [],
   "source": [
    "# Now we have the p values showing the significance "
   ]
  },
  {
   "cell_type": "code",
   "execution_count": null,
   "metadata": {
    "collapsed": true
   },
   "outputs": [],
   "source": []
  },
  {
   "cell_type": "code",
   "execution_count": null,
   "metadata": {
    "collapsed": true
   },
   "outputs": [],
   "source": []
  },
  {
   "cell_type": "code",
   "execution_count": null,
   "metadata": {
    "collapsed": true
   },
   "outputs": [],
   "source": []
  },
  {
   "cell_type": "code",
   "execution_count": null,
   "metadata": {
    "collapsed": true
   },
   "outputs": [],
   "source": []
  },
  {
   "cell_type": "code",
   "execution_count": null,
   "metadata": {
    "collapsed": true
   },
   "outputs": [],
   "source": []
  },
  {
   "cell_type": "code",
   "execution_count": null,
   "metadata": {
    "collapsed": true
   },
   "outputs": [],
   "source": []
  }
 ],
 "metadata": {
  "kernelspec": {
   "display_name": "R",
   "language": "R",
   "name": "ir"
  },
  "language_info": {
   "codemirror_mode": "r",
   "file_extension": ".r",
   "mimetype": "text/x-r-source",
   "name": "R",
   "pygments_lexer": "r",
   "version": "3.3.2"
  }
 },
 "nbformat": 4,
 "nbformat_minor": 2
}
