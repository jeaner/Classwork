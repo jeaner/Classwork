{
 "cells": [
  {
   "cell_type": "code",
   "execution_count": 72,
   "metadata": {
    "collapsed": false
   },
   "outputs": [
    {
     "name": "stdout",
     "output_type": "stream",
     "text": [
      "'data.frame':\t248 obs. of  8 variables:\n",
      " $ education     : Factor w/ 3 levels \"0-5yrs\",\"6-11yrs\",..: 1 1 1 1 2 2 2 2 2 2 ...\n",
      " $ age           : num  26 42 39 34 35 36 23 32 21 28 ...\n",
      " $ parity        : num  6 1 6 4 3 4 1 2 1 2 ...\n",
      " $ induced       : num  1 1 2 2 1 2 0 0 0 0 ...\n",
      " $ case          : num  1 1 1 1 1 1 1 1 1 1 ...\n",
      " $ spontaneous   : num  2 0 0 0 1 1 0 0 1 0 ...\n",
      " $ stratum       : int  1 2 3 4 5 6 7 8 9 10 ...\n",
      " $ pooled.stratum: num  3 1 4 2 32 36 6 22 5 19 ...\n"
     ]
    }
   ],
   "source": [
    "data(infert)\n",
    "str(infert)"
   ]
  },
  {
   "cell_type": "code",
   "execution_count": 73,
   "metadata": {
    "collapsed": false
   },
   "outputs": [
    {
     "data": {
      "text/plain": [
       "   education        age            parity         induced      \n",
       " 0-5yrs : 12   Min.   :21.00   Min.   :1.000   Min.   :0.0000  \n",
       " 6-11yrs:120   1st Qu.:28.00   1st Qu.:1.000   1st Qu.:0.0000  \n",
       " 12+ yrs:116   Median :31.00   Median :2.000   Median :0.0000  \n",
       "               Mean   :31.50   Mean   :2.093   Mean   :0.5726  \n",
       "               3rd Qu.:35.25   3rd Qu.:3.000   3rd Qu.:1.0000  \n",
       "               Max.   :44.00   Max.   :6.000   Max.   :2.0000  \n",
       "      case         spontaneous        stratum      pooled.stratum \n",
       " Min.   :0.0000   Min.   :0.0000   Min.   : 1.00   Min.   : 1.00  \n",
       " 1st Qu.:0.0000   1st Qu.:0.0000   1st Qu.:21.00   1st Qu.:19.00  \n",
       " Median :0.0000   Median :0.0000   Median :42.00   Median :36.00  \n",
       " Mean   :0.3347   Mean   :0.5766   Mean   :41.87   Mean   :33.58  \n",
       " 3rd Qu.:1.0000   3rd Qu.:1.0000   3rd Qu.:62.25   3rd Qu.:48.25  \n",
       " Max.   :1.0000   Max.   :2.0000   Max.   :83.00   Max.   :63.00  "
      ]
     },
     "metadata": {},
     "output_type": "display_data"
    }
   ],
   "source": [
    "summary(infert)"
   ]
  },
  {
   "cell_type": "code",
   "execution_count": 74,
   "metadata": {
    "collapsed": false
   },
   "outputs": [
    {
     "data": {
      "text/html": [
       "<table>\n",
       "<thead><tr><th scope=col>education</th><th scope=col>age</th><th scope=col>parity</th><th scope=col>induced</th><th scope=col>case</th><th scope=col>spontaneous</th><th scope=col>stratum</th><th scope=col>pooled.stratum</th></tr></thead>\n",
       "<tbody>\n",
       "\t<tr><td>0-5yrs </td><td>26     </td><td>6      </td><td>1      </td><td>1      </td><td>2      </td><td>1      </td><td> 3     </td></tr>\n",
       "\t<tr><td>0-5yrs </td><td>42     </td><td>1      </td><td>1      </td><td>1      </td><td>0      </td><td>2      </td><td> 1     </td></tr>\n",
       "\t<tr><td>0-5yrs </td><td>39     </td><td>6      </td><td>2      </td><td>1      </td><td>0      </td><td>3      </td><td> 4     </td></tr>\n",
       "\t<tr><td>0-5yrs </td><td>34     </td><td>4      </td><td>2      </td><td>1      </td><td>0      </td><td>4      </td><td> 2     </td></tr>\n",
       "\t<tr><td>6-11yrs</td><td>35     </td><td>3      </td><td>1      </td><td>1      </td><td>1      </td><td>5      </td><td>32     </td></tr>\n",
       "\t<tr><td>6-11yrs</td><td>36     </td><td>4      </td><td>2      </td><td>1      </td><td>1      </td><td>6      </td><td>36     </td></tr>\n",
       "</tbody>\n",
       "</table>\n"
      ],
      "text/latex": [
       "\\begin{tabular}{r|llllllll}\n",
       " education & age & parity & induced & case & spontaneous & stratum & pooled.stratum\\\\\n",
       "\\hline\n",
       "\t 0-5yrs  & 26      & 6       & 1       & 1       & 2       & 1       &  3     \\\\\n",
       "\t 0-5yrs  & 42      & 1       & 1       & 1       & 0       & 2       &  1     \\\\\n",
       "\t 0-5yrs  & 39      & 6       & 2       & 1       & 0       & 3       &  4     \\\\\n",
       "\t 0-5yrs  & 34      & 4       & 2       & 1       & 0       & 4       &  2     \\\\\n",
       "\t 6-11yrs & 35      & 3       & 1       & 1       & 1       & 5       & 32     \\\\\n",
       "\t 6-11yrs & 36      & 4       & 2       & 1       & 1       & 6       & 36     \\\\\n",
       "\\end{tabular}\n"
      ],
      "text/markdown": [
       "\n",
       "education | age | parity | induced | case | spontaneous | stratum | pooled.stratum | \n",
       "|---|---|---|---|---|---|\n",
       "| 0-5yrs  | 26      | 6       | 1       | 1       | 2       | 1       |  3      | \n",
       "| 0-5yrs  | 42      | 1       | 1       | 1       | 0       | 2       |  1      | \n",
       "| 0-5yrs  | 39      | 6       | 2       | 1       | 0       | 3       |  4      | \n",
       "| 0-5yrs  | 34      | 4       | 2       | 1       | 0       | 4       |  2      | \n",
       "| 6-11yrs | 35      | 3       | 1       | 1       | 1       | 5       | 32      | \n",
       "| 6-11yrs | 36      | 4       | 2       | 1       | 1       | 6       | 36      | \n",
       "\n",
       "\n"
      ],
      "text/plain": [
       "  education age parity induced case spontaneous stratum pooled.stratum\n",
       "1 0-5yrs    26  6      1       1    2           1        3            \n",
       "2 0-5yrs    42  1      1       1    0           2        1            \n",
       "3 0-5yrs    39  6      2       1    0           3        4            \n",
       "4 0-5yrs    34  4      2       1    0           4        2            \n",
       "5 6-11yrs   35  3      1       1    1           5       32            \n",
       "6 6-11yrs   36  4      2       1    1           6       36            "
      ]
     },
     "metadata": {},
     "output_type": "display_data"
    }
   ],
   "source": [
    "head(infert)"
   ]
  },
  {
   "cell_type": "code",
   "execution_count": 75,
   "metadata": {
    "collapsed": true
   },
   "outputs": [],
   "source": [
    "library('data.table')"
   ]
  },
  {
   "cell_type": "code",
   "execution_count": 76,
   "metadata": {
    "collapsed": true
   },
   "outputs": [],
   "source": [
    "DT <- as.data.table(infert)"
   ]
  },
  {
   "cell_type": "code",
   "execution_count": 77,
   "metadata": {
    "collapsed": false
   },
   "outputs": [
    {
     "name": "stdout",
     "output_type": "stream",
     "text": [
      "     education age parity induced case spontaneous stratum pooled.stratum\n",
      "  1:    0-5yrs  26      6       1    1           2       1              3\n",
      "  2:    0-5yrs  42      1       1    1           0       2              1\n",
      "  3:    0-5yrs  39      6       2    1           0       3              4\n",
      "  4:    0-5yrs  34      4       2    1           0       4              2\n",
      "  5:   6-11yrs  35      3       1    1           1       5             32\n",
      " ---                                                                     \n",
      "244:   12+ yrs  31      1       0    0           1      79             45\n",
      "245:   12+ yrs  34      1       0    0           0      80             47\n",
      "246:   12+ yrs  35      2       2    0           0      81             54\n",
      "247:   12+ yrs  29      1       0    0           1      82             43\n",
      "248:   12+ yrs  23      1       0    0           1      83             40\n"
     ]
    }
   ],
   "source": [
    "print(DT)\n",
    "#Explanation from https://stat.ethz.ch/R-manual/R-devel/library/datasets/html/infert.html\n",
    "# 1.\tEducation\t0 = 0-5 years\n",
    "# 1 = 6-11 years\n",
    "# 2 = 12+ years\n",
    "# 2.\tage\tage in years of case\n",
    "# 3.\tparity\tcount number of births that a woman has had after 20 weeks gestation\n",
    "# 4.\tnumber of prior\t0 = 0\n",
    "# induced abortions\t1 = 1\n",
    "# 2 = 2 or more\n",
    "# 5.\tcase status\t1 = case\n",
    "# 0 = control\n",
    "# 6.\tnumber of prior\t0 = 0\n",
    "# spontaneous abortions\t1 = 1\n",
    "# 2 = 2 or moref\n",
    "# 7.\tmatched set number\t1-83\n",
    "# 8.\tstratum number\t1-63"
   ]
  },
  {
   "cell_type": "code",
   "execution_count": 78,
   "metadata": {
    "collapsed": false
   },
   "outputs": [
    {
     "data": {
      "text/html": [
       "<table>\n",
       "<thead><tr><th scope=col>education</th><th scope=col>V1</th></tr></thead>\n",
       "<tbody>\n",
       "\t<tr><td>0-5yrs  </td><td>1.166667</td></tr>\n",
       "\t<tr><td>6-11yrs </td><td>0.475000</td></tr>\n",
       "\t<tr><td>12+ yrs </td><td>0.612069</td></tr>\n",
       "</tbody>\n",
       "</table>\n"
      ],
      "text/latex": [
       "\\begin{tabular}{r|ll}\n",
       " education & V1\\\\\n",
       "\\hline\n",
       "\t 0-5yrs   & 1.166667\\\\\n",
       "\t 6-11yrs  & 0.475000\\\\\n",
       "\t 12+ yrs  & 0.612069\\\\\n",
       "\\end{tabular}\n"
      ],
      "text/markdown": [
       "\n",
       "education | V1 | \n",
       "|---|---|---|\n",
       "| 0-5yrs   | 1.166667 | \n",
       "| 6-11yrs  | 0.475000 | \n",
       "| 12+ yrs  | 0.612069 | \n",
       "\n",
       "\n"
      ],
      "text/plain": [
       "  education V1      \n",
       "1 0-5yrs    1.166667\n",
       "2 6-11yrs   0.475000\n",
       "3 12+ yrs   0.612069"
      ]
     },
     "metadata": {},
     "output_type": "display_data"
    }
   ],
   "source": [
    "DT[,mean(induced), by=education]"
   ]
  },
  {
   "cell_type": "code",
   "execution_count": 162,
   "metadata": {
    "collapsed": false
   },
   "outputs": [
    {
     "data": {
      "text/html": [
       "<table>\n",
       "<thead><tr><th scope=col>substring</th><th scope=col>V1</th></tr></thead>\n",
       "<tbody>\n",
       "\t<tr><td>2        </td><td>0.6862745</td></tr>\n",
       "\t<tr><td>4        </td><td>0.2222222</td></tr>\n",
       "\t<tr><td>3        </td><td>0.5312500</td></tr>\n",
       "</tbody>\n",
       "</table>\n"
      ],
      "text/latex": [
       "\\begin{tabular}{r|ll}\n",
       " substring & V1\\\\\n",
       "\\hline\n",
       "\t 2         & 0.6862745\\\\\n",
       "\t 4         & 0.2222222\\\\\n",
       "\t 3         & 0.5312500\\\\\n",
       "\\end{tabular}\n"
      ],
      "text/markdown": [
       "\n",
       "substring | V1 | \n",
       "|---|---|---|\n",
       "| 2         | 0.6862745 | \n",
       "| 4         | 0.2222222 | \n",
       "| 3         | 0.5312500 | \n",
       "\n",
       "\n"
      ],
      "text/plain": [
       "  substring V1       \n",
       "1 2         0.6862745\n",
       "2 4         0.2222222\n",
       "3 3         0.5312500"
      ]
     },
     "metadata": {},
     "output_type": "display_data"
    }
   ],
   "source": [
    "DT[,mean(induced),by=substring(age, 1, 1)]\n",
    "#Mean number of induced abortions for case ages in 20's, 40's, and 30's "
   ]
  },
  {
   "cell_type": "code",
   "execution_count": 165,
   "metadata": {
    "collapsed": false
   },
   "outputs": [
    {
     "data": {
      "text/html": [
       "<table>\n",
       "<thead><tr><th scope=col>round</th><th scope=col>N</th></tr></thead>\n",
       "<tbody>\n",
       "\t<tr><td>30 </td><td>138</td></tr>\n",
       "\t<tr><td>40 </td><td> 80</td></tr>\n",
       "\t<tr><td>20 </td><td> 30</td></tr>\n",
       "</tbody>\n",
       "</table>\n"
      ],
      "text/latex": [
       "\\begin{tabular}{r|ll}\n",
       " round & N\\\\\n",
       "\\hline\n",
       "\t 30  & 138\\\\\n",
       "\t 40  &  80\\\\\n",
       "\t 20  &  30\\\\\n",
       "\\end{tabular}\n"
      ],
      "text/markdown": [
       "\n",
       "round | N | \n",
       "|---|---|---|\n",
       "| 30  | 138 | \n",
       "| 40  |  80 | \n",
       "| 20  |  30 | \n",
       "\n",
       "\n"
      ],
      "text/plain": [
       "  round N  \n",
       "1 30    138\n",
       "2 40     80\n",
       "3 20     30"
      ]
     },
     "metadata": {},
     "output_type": "display_data"
    }
   ],
   "source": [
    "DT[,.N, by = 10*round(age/10)]"
   ]
  },
  {
   "cell_type": "code",
   "execution_count": 167,
   "metadata": {
    "collapsed": false
   },
   "outputs": [
    {
     "data": {
      "text/html": [
       "<table>\n",
       "<thead><tr><th scope=col>induced</th><th scope=col>N</th></tr></thead>\n",
       "<tbody>\n",
       "\t<tr><td>3 </td><td>15</td></tr>\n",
       "\t<tr><td>1 </td><td>92</td></tr>\n",
       "\t<tr><td>2 </td><td>74</td></tr>\n",
       "\t<tr><td>0 </td><td>67</td></tr>\n",
       "</tbody>\n",
       "</table>\n"
      ],
      "text/latex": [
       "\\begin{tabular}{r|ll}\n",
       " induced & N\\\\\n",
       "\\hline\n",
       "\t 3  & 15\\\\\n",
       "\t 1  & 92\\\\\n",
       "\t 2  & 74\\\\\n",
       "\t 0  & 67\\\\\n",
       "\\end{tabular}\n"
      ],
      "text/markdown": [
       "\n",
       "induced | N | \n",
       "|---|---|---|---|\n",
       "| 3  | 15 | \n",
       "| 1  | 92 | \n",
       "| 2  | 74 | \n",
       "| 0  | 67 | \n",
       "\n",
       "\n"
      ],
      "text/plain": [
       "  induced N \n",
       "1 3       15\n",
       "2 1       92\n",
       "3 2       74\n",
       "4 0       67"
      ]
     },
     "metadata": {},
     "output_type": "display_data"
    }
   ],
   "source": [
    "DT[,.N, by = (induced+spontaneous)]"
   ]
  },
  {
   "cell_type": "code",
   "execution_count": 133,
   "metadata": {
    "collapsed": false
   },
   "outputs": [
    {
     "data": {
      "text/plain": [
       "         gt2\n",
       "          FALSE TRUE\n",
       "  0-5yrs      3    9\n",
       "  6-11yrs    84   36\n",
       "  12+ yrs    93   23"
      ]
     },
     "metadata": {},
     "output_type": "display_data"
    }
   ],
   "source": [
    "gt2<-infert$parity>2\n",
    "table(infert$education,gt2)"
   ]
  },
  {
   "cell_type": "code",
   "execution_count": 168,
   "metadata": {
    "collapsed": false
   },
   "outputs": [
    {
     "data": {
      "text/html": [
       "<table>\n",
       "<thead><tr><th scope=col>education</th><th scope=col>Ind</th><th scope=col>Spon</th><th scope=col>Age</th><th scope=col>Parity</th></tr></thead>\n",
       "<tbody>\n",
       "\t<tr><td>0-5yrs </td><td>1.5    </td><td>0      </td><td>36.5   </td><td>5      </td></tr>\n",
       "\t<tr><td>6-11yrs</td><td>0.0    </td><td>0      </td><td>33.0   </td><td>2      </td></tr>\n",
       "\t<tr><td>12+ yrs</td><td>0.0    </td><td>0      </td><td>29.0   </td><td>2      </td></tr>\n",
       "</tbody>\n",
       "</table>\n"
      ],
      "text/latex": [
       "\\begin{tabular}{r|lllll}\n",
       " education & Ind & Spon & Age & Parity\\\\\n",
       "\\hline\n",
       "\t 0-5yrs  & 1.5     & 0       & 36.5    & 5      \\\\\n",
       "\t 6-11yrs & 0.0     & 0       & 33.0    & 2      \\\\\n",
       "\t 12+ yrs & 0.0     & 0       & 29.0    & 2      \\\\\n",
       "\\end{tabular}\n"
      ],
      "text/markdown": [
       "\n",
       "education | Ind | Spon | Age | Parity | \n",
       "|---|---|---|\n",
       "| 0-5yrs  | 1.5     | 0       | 36.5    | 5       | \n",
       "| 6-11yrs | 0.0     | 0       | 33.0    | 2       | \n",
       "| 12+ yrs | 0.0     | 0       | 29.0    | 2       | \n",
       "\n",
       "\n"
      ],
      "text/plain": [
       "  education Ind Spon Age  Parity\n",
       "1 0-5yrs    1.5 0    36.5 5     \n",
       "2 6-11yrs   0.0 0    33.0 2     \n",
       "3 12+ yrs   0.0 0    29.0 2     "
      ]
     },
     "metadata": {},
     "output_type": "display_data"
    }
   ],
   "source": [
    "DT[,.(Ind=median(induced),\n",
    "      Spon=median(spontaneous),\n",
    "      Age=median(age),\n",
    "      Parity=median(parity)),by=education][order(education)]\n"
   ]
  },
  {
   "cell_type": "code",
   "execution_count": 132,
   "metadata": {
    "collapsed": false
   },
   "outputs": [
    {
     "data": {
      "text/html": [
       "<table>\n",
       "<thead><tr><th scope=col>education</th><th scope=col>Ind</th><th scope=col>Spon</th><th scope=col>Age</th><th scope=col>Parity</th></tr></thead>\n",
       "<tbody>\n",
       "\t<tr><td>0-5yrs   </td><td>1.166667 </td><td>0.4166667</td><td>35.25000 </td><td>4.250000 </td></tr>\n",
       "\t<tr><td>6-11yrs  </td><td>0.475000 </td><td>0.5416667</td><td>32.85000 </td><td>2.100000 </td></tr>\n",
       "\t<tr><td>12+ yrs  </td><td>0.612069 </td><td>0.6293103</td><td>29.72414 </td><td>1.862069 </td></tr>\n",
       "</tbody>\n",
       "</table>\n"
      ],
      "text/latex": [
       "\\begin{tabular}{r|lllll}\n",
       " education & Ind & Spon & Age & Parity\\\\\n",
       "\\hline\n",
       "\t 0-5yrs    & 1.166667  & 0.4166667 & 35.25000  & 4.250000 \\\\\n",
       "\t 6-11yrs   & 0.475000  & 0.5416667 & 32.85000  & 2.100000 \\\\\n",
       "\t 12+ yrs   & 0.612069  & 0.6293103 & 29.72414  & 1.862069 \\\\\n",
       "\\end{tabular}\n"
      ],
      "text/markdown": [
       "\n",
       "education | Ind | Spon | Age | Parity | \n",
       "|---|---|---|\n",
       "| 0-5yrs    | 1.166667  | 0.4166667 | 35.25000  | 4.250000  | \n",
       "| 6-11yrs   | 0.475000  | 0.5416667 | 32.85000  | 2.100000  | \n",
       "| 12+ yrs   | 0.612069  | 0.6293103 | 29.72414  | 1.862069  | \n",
       "\n",
       "\n"
      ],
      "text/plain": [
       "  education Ind      Spon      Age      Parity  \n",
       "1 0-5yrs    1.166667 0.4166667 35.25000 4.250000\n",
       "2 6-11yrs   0.475000 0.5416667 32.85000 2.100000\n",
       "3 12+ yrs   0.612069 0.6293103 29.72414 1.862069"
      ]
     },
     "metadata": {},
     "output_type": "display_data"
    }
   ],
   "source": [
    "DT[,.(Ind=mean(induced),\n",
    "      Spon=mean(spontaneous),\n",
    "      Age=mean(age),\n",
    "      Parity=mean(parity)),by=education][order(education)]\n"
   ]
  },
  {
   "cell_type": "code",
   "execution_count": 95,
   "metadata": {
    "collapsed": false
   },
   "outputs": [
    {
     "data": {
      "text/html": [
       "<table>\n",
       "<thead><tr><th scope=col>education</th><th scope=col>age</th><th scope=col>parity</th><th scope=col>induced</th><th scope=col>case</th><th scope=col>spontaneous</th><th scope=col>stratum</th><th scope=col>pooled.stratum</th></tr></thead>\n",
       "<tbody>\n",
       "\t<tr><td>0-5yrs   </td><td>35.25000 </td><td>4.250000 </td><td>1.166667 </td><td>0.3333333</td><td>0.4166667</td><td> 2.50000 </td><td> 2.50000 </td></tr>\n",
       "\t<tr><td>6-11yrs  </td><td>32.85000 </td><td>2.100000 </td><td>0.475000 </td><td>0.3333333</td><td>0.5416667</td><td>24.50000 </td><td>21.42500 </td></tr>\n",
       "\t<tr><td>12+ yrs  </td><td>29.72414 </td><td>1.862069 </td><td>0.612069 </td><td>0.3362069</td><td>0.6293103</td><td>63.91379 </td><td>49.37069 </td></tr>\n",
       "</tbody>\n",
       "</table>\n"
      ],
      "text/latex": [
       "\\begin{tabular}{r|llllllll}\n",
       " education & age & parity & induced & case & spontaneous & stratum & pooled.stratum\\\\\n",
       "\\hline\n",
       "\t 0-5yrs    & 35.25000  & 4.250000  & 1.166667  & 0.3333333 & 0.4166667 &  2.50000  &  2.50000 \\\\\n",
       "\t 6-11yrs   & 32.85000  & 2.100000  & 0.475000  & 0.3333333 & 0.5416667 & 24.50000  & 21.42500 \\\\\n",
       "\t 12+ yrs   & 29.72414  & 1.862069  & 0.612069  & 0.3362069 & 0.6293103 & 63.91379  & 49.37069 \\\\\n",
       "\\end{tabular}\n"
      ],
      "text/markdown": [
       "\n",
       "education | age | parity | induced | case | spontaneous | stratum | pooled.stratum | \n",
       "|---|---|---|\n",
       "| 0-5yrs    | 35.25000  | 4.250000  | 1.166667  | 0.3333333 | 0.4166667 |  2.50000  |  2.50000  | \n",
       "| 6-11yrs   | 32.85000  | 2.100000  | 0.475000  | 0.3333333 | 0.5416667 | 24.50000  | 21.42500  | \n",
       "| 12+ yrs   | 29.72414  | 1.862069  | 0.612069  | 0.3362069 | 0.6293103 | 63.91379  | 49.37069  | \n",
       "\n",
       "\n"
      ],
      "text/plain": [
       "  education age      parity   induced  case      spontaneous stratum \n",
       "1 0-5yrs    35.25000 4.250000 1.166667 0.3333333 0.4166667    2.50000\n",
       "2 6-11yrs   32.85000 2.100000 0.475000 0.3333333 0.5416667   24.50000\n",
       "3 12+ yrs   29.72414 1.862069 0.612069 0.3362069 0.6293103   63.91379\n",
       "  pooled.stratum\n",
       "1  2.50000      \n",
       "2 21.42500      \n",
       "3 49.37069      "
      ]
     },
     "metadata": {},
     "output_type": "display_data"
    }
   ],
   "source": [
    "#Subset of the dataset with the mean for each column arranged by education legth\n",
    "DT[, lapply(.SD, mean), by=education]"
   ]
  },
  {
   "cell_type": "code",
   "execution_count": 96,
   "metadata": {
    "collapsed": false
   },
   "outputs": [
    {
     "data": {
      "text/html": [
       "<table>\n",
       "<thead><tr><th scope=col>education</th><th scope=col>age</th><th scope=col>parity</th><th scope=col>induced</th><th scope=col>case</th><th scope=col>spontaneous</th><th scope=col>stratum</th><th scope=col>pooled.stratum</th></tr></thead>\n",
       "<tbody>\n",
       "\t<tr><td>0-5yrs </td><td>42     </td><td>6      </td><td>2      </td><td>1      </td><td>2      </td><td> 4     </td><td> 4     </td></tr>\n",
       "\t<tr><td>6-11yrs</td><td>44     </td><td>5      </td><td>2      </td><td>1      </td><td>2      </td><td>44     </td><td>38     </td></tr>\n",
       "\t<tr><td>12+ yrs</td><td>38     </td><td>6      </td><td>2      </td><td>1      </td><td>2      </td><td>83     </td><td>63     </td></tr>\n",
       "</tbody>\n",
       "</table>\n"
      ],
      "text/latex": [
       "\\begin{tabular}{r|llllllll}\n",
       " education & age & parity & induced & case & spontaneous & stratum & pooled.stratum\\\\\n",
       "\\hline\n",
       "\t 0-5yrs  & 42      & 6       & 2       & 1       & 2       &  4      &  4     \\\\\n",
       "\t 6-11yrs & 44      & 5       & 2       & 1       & 2       & 44      & 38     \\\\\n",
       "\t 12+ yrs & 38      & 6       & 2       & 1       & 2       & 83      & 63     \\\\\n",
       "\\end{tabular}\n"
      ],
      "text/markdown": [
       "\n",
       "education | age | parity | induced | case | spontaneous | stratum | pooled.stratum | \n",
       "|---|---|---|\n",
       "| 0-5yrs  | 42      | 6       | 2       | 1       | 2       |  4      |  4      | \n",
       "| 6-11yrs | 44      | 5       | 2       | 1       | 2       | 44      | 38      | \n",
       "| 12+ yrs | 38      | 6       | 2       | 1       | 2       | 83      | 63      | \n",
       "\n",
       "\n"
      ],
      "text/plain": [
       "  education age parity induced case spontaneous stratum pooled.stratum\n",
       "1 0-5yrs    42  6      2       1    2            4       4            \n",
       "2 6-11yrs   44  5      2       1    2           44      38            \n",
       "3 12+ yrs   38  6      2       1    2           83      63            "
      ]
     },
     "metadata": {},
     "output_type": "display_data"
    }
   ],
   "source": [
    "#subset of the dataset with the max for each column arranged by education length\n",
    "DT[, lapply(.SD, max), by=education]\n",
    "#Note that for induced and spontaneous abortions, 2 has been defined as any number greater to or equal to 2/\n",
    "#So the max data isn't very interesting..."
   ]
  },
  {
   "cell_type": "code",
   "execution_count": 130,
   "metadata": {
    "collapsed": false,
    "deletable": true,
    "editable": true
   },
   "outputs": [
    {
     "data": {
      "text/plain": [
       "\n",
       "\tWelch Two Sample t-test\n",
       "\n",
       "data:  subset(infert$age, infert$case == 0) and +subset(infert$age, infert$case == 1)\n",
       "t = -0.055288, df = 163.77, p-value = 0.956\n",
       "alternative hypothesis: true difference in means is not equal to 0\n",
       "95 percent confidence interval:\n",
       " -1.439600  1.361177\n",
       "sample estimates:\n",
       "mean of x mean of y \n",
       " 31.49091  31.53012 \n"
      ]
     },
     "metadata": {},
     "output_type": "display_data"
    }
   ],
   "source": [
    "#Case = 0 means that it is a control case and Case=1 means that it is part of the case. \n",
    "#In the data set, are the ages of cases significantly different than the ages of the control group?\n",
    "\n",
    "t.test(subset(infert$age,infert$case == 0),\n",
    "+ subset(infert$age,infert$case == 1))"
   ]
  },
  {
   "cell_type": "code",
   "execution_count": null,
   "metadata": {
    "collapsed": true,
    "deletable": true,
    "editable": true
   },
   "outputs": [],
   "source": [
    "#The p-value is very high, showing that the age groups are not statistically different. \n",
    "#We also see that the means of the control group and the case group are very similar at about 31.5 years"
   ]
  },
  {
   "cell_type": "code",
   "execution_count": 122,
   "metadata": {
    "collapsed": false,
    "deletable": true,
    "editable": true
   },
   "outputs": [
    {
     "data": {
      "image/png": "[encoded data removed]",
      "text/plain": [
       "Plot with title \"Histogram of infert$age\""
      ]
     },
     "metadata": {},
     "output_type": "display_data"
    }
   ],
   "source": [
    "hist(infert$age, breaks=10)\n",
    "#I'm curious what a histogram of the case ages looks like"
   ]
  },
  {
   "cell_type": "code",
   "execution_count": null,
   "metadata": {
    "collapsed": true
   },
   "outputs": [],
   "source": []
  },
  {
   "cell_type": "code",
   "execution_count": null,
   "metadata": {
    "collapsed": true
   },
   "outputs": [],
   "source": []
  },
  {
   "cell_type": "code",
   "execution_count": 149,
   "metadata": {
    "collapsed": false,
    "deletable": true,
    "editable": true
   },
   "outputs": [],
   "source": [
    "infert3<-infert[induced+spontaneous>2] #show cases where they have definitely had 3 or more abortions"
   ]
  },
  {
   "cell_type": "code",
   "execution_count": 150,
   "metadata": {
    "collapsed": false,
    "deletable": true,
    "editable": true
   },
   "outputs": [
    {
     "data": {
      "text/plain": [
       "   education      age            parity         induced           case       \n",
       " 0-5yrs :1   Min.   :24.00   Min.   :3.000   Min.   :1.000   Min.   :0.0000  \n",
       " 6-11yrs:8   1st Qu.:26.50   1st Qu.:3.000   1st Qu.:1.000   1st Qu.:0.0000  \n",
       " 12+ yrs:6   Median :28.00   Median :4.000   Median :2.000   Median :1.0000  \n",
       "             Mean   :29.93   Mean   :4.067   Mean   :1.533   Mean   :0.6667  \n",
       "             3rd Qu.:35.00   3rd Qu.:5.000   3rd Qu.:2.000   3rd Qu.:1.0000  \n",
       "             Max.   :37.00   Max.   :6.000   Max.   :2.000   Max.   :1.0000  \n",
       "  spontaneous       stratum      pooled.stratum \n",
       " Min.   :1.000   Min.   : 1.00   Min.   : 3.00  \n",
       " 1st Qu.:1.000   1st Qu.:17.00   1st Qu.:34.00  \n",
       " Median :1.000   Median :29.00   Median :38.00  \n",
       " Mean   :1.467   Mean   :32.67   Mean   :42.27  \n",
       " 3rd Qu.:2.000   3rd Qu.:51.00   3rd Qu.:57.00  \n",
       " Max.   :2.000   Max.   :68.00   Max.   :62.00  "
      ]
     },
     "metadata": {},
     "output_type": "display_data"
    }
   ],
   "source": [
    "summary(infert3)"
   ]
  },
  {
   "cell_type": "code",
   "execution_count": 155,
   "metadata": {
    "collapsed": false,
    "deletable": true,
    "editable": true
   },
   "outputs": [
    {
     "data": {
      "text/plain": [
       "   education       age            parity         induced           case       \n",
       " 0-5yrs : 4   Min.   :21.00   Min.   :1.000   Min.   :0.000   Min.   :0.0000  \n",
       " 6-11yrs:80   1st Qu.:28.00   1st Qu.:1.000   1st Qu.:0.000   1st Qu.:0.0000  \n",
       " 12+ yrs:75   Median :31.00   Median :1.000   Median :0.000   Median :0.0000  \n",
       "              Mean   :31.62   Mean   :1.472   Mean   :0.283   Mean   :0.2579  \n",
       "              3rd Qu.:35.50   3rd Qu.:2.000   3rd Qu.:1.000   3rd Qu.:1.0000  \n",
       "              Max.   :44.00   Max.   :4.000   Max.   :1.000   Max.   :1.0000  \n",
       "  spontaneous        stratum      pooled.stratum \n",
       " Min.   :0.0000   Min.   : 2.00   Min.   : 1.00  \n",
       " 1st Qu.:0.0000   1st Qu.:22.50   1st Qu.:15.50  \n",
       " Median :0.0000   Median :43.00   Median :31.00  \n",
       " Mean   :0.2956   Mean   :43.71   Mean   :30.53  \n",
       " 3rd Qu.:1.0000   3rd Qu.:65.00   3rd Qu.:45.00  \n",
       " Max.   :1.0000   Max.   :83.00   Max.   :60.00  "
      ]
     },
     "metadata": {},
     "output_type": "display_data"
    }
   ],
   "source": [
    "infert1<-infert[induced+spontaneous<2]\n",
    "summary(infert1)"
   ]
  },
  {
   "cell_type": "code",
   "execution_count": 156,
   "metadata": {
    "collapsed": false,
    "deletable": true,
    "editable": true
   },
   "outputs": [
    {
     "data": {
      "text/plain": [
       "\n",
       "\tWelch Two Sample t-test\n",
       "\n",
       "data:  (infert1$parity) and +(infert3$parity)\n",
       "t = -10.216, df = 15.361, p-value = 3.009e-08\n",
       "alternative hypothesis: true difference in means is not equal to 0\n",
       "95 percent confidence interval:\n",
       " -3.135259 -2.054678\n",
       "sample estimates:\n",
       "mean of x mean of y \n",
       " 1.471698  4.066667 \n"
      ]
     },
     "metadata": {},
     "output_type": "display_data"
    }
   ],
   "source": [
    "t.test((infert1$parity),\n",
    "+ (infert3$parity))"
   ]
  },
  {
   "cell_type": "raw",
   "metadata": {
    "deletable": true,
    "editable": true
   },
   "source": [
    "The two groups are significantly differnt with a very low p-value.\n",
    "\n",
    "Women who have had 3 or more abortions have a statistically greater number off full parity births\n",
    "than women who have had only 1 abortion.\n",
    "Women with 3 or more abortions have had more full term pregnancies, possibly these women are more fertile, more sexually active, and/or use less protection.\n",
    "\n",
    "All in all it suggests that multiple abortions does not lead to infertility."
   ]
  },
  {
   "cell_type": "code",
   "execution_count": null,
   "metadata": {
    "collapsed": true,
    "deletable": true,
    "editable": true
   },
   "outputs": [],
   "source": []
  },
  {
   "cell_type": "code",
   "execution_count": 151,
   "metadata": {
    "collapsed": false
   },
   "outputs": [
    {
     "data": {
      "text/html": [
       "<table>\n",
       "<thead><tr><th scope=col>education</th><th scope=col>age</th><th scope=col>parity</th><th scope=col>induced</th><th scope=col>case</th><th scope=col>spontaneous</th><th scope=col>stratum</th><th scope=col>pooled.stratum</th></tr></thead>\n",
       "<tbody>\n",
       "\t<tr><td>12+ yrs</td><td>30     </td><td>1      </td><td>0      </td><td>1      </td><td>0      </td><td>45     </td><td>44     </td></tr>\n",
       "\t<tr><td>12+ yrs</td><td>37     </td><td>1      </td><td>1      </td><td>1      </td><td>0      </td><td>46     </td><td>48     </td></tr>\n",
       "\t<tr><td>12+ yrs</td><td>28     </td><td>2      </td><td>0      </td><td>1      </td><td>2      </td><td>47     </td><td>51     </td></tr>\n",
       "\t<tr><td>12+ yrs</td><td>27     </td><td>4      </td><td>2      </td><td>1      </td><td>0      </td><td>48     </td><td>61     </td></tr>\n",
       "\t<tr><td>12+ yrs</td><td>26     </td><td>2      </td><td>2      </td><td>1      </td><td>0      </td><td>49     </td><td>49     </td></tr>\n",
       "\t<tr><td>12+ yrs</td><td>38     </td><td>3      </td><td>0      </td><td>1      </td><td>2      </td><td>50     </td><td>60     </td></tr>\n",
       "</tbody>\n",
       "</table>\n"
      ],
      "text/latex": [
       "\\begin{tabular}{r|llllllll}\n",
       " education & age & parity & induced & case & spontaneous & stratum & pooled.stratum\\\\\n",
       "\\hline\n",
       "\t 12+ yrs & 30      & 1       & 0       & 1       & 0       & 45      & 44     \\\\\n",
       "\t 12+ yrs & 37      & 1       & 1       & 1       & 0       & 46      & 48     \\\\\n",
       "\t 12+ yrs & 28      & 2       & 0       & 1       & 2       & 47      & 51     \\\\\n",
       "\t 12+ yrs & 27      & 4       & 2       & 1       & 0       & 48      & 61     \\\\\n",
       "\t 12+ yrs & 26      & 2       & 2       & 1       & 0       & 49      & 49     \\\\\n",
       "\t 12+ yrs & 38      & 3       & 0       & 1       & 2       & 50      & 60     \\\\\n",
       "\\end{tabular}\n"
      ],
      "text/markdown": [
       "\n",
       "education | age | parity | induced | case | spontaneous | stratum | pooled.stratum | \n",
       "|---|---|---|---|---|---|\n",
       "| 12+ yrs | 30      | 1       | 0       | 1       | 0       | 45      | 44      | \n",
       "| 12+ yrs | 37      | 1       | 1       | 1       | 0       | 46      | 48      | \n",
       "| 12+ yrs | 28      | 2       | 0       | 1       | 2       | 47      | 51      | \n",
       "| 12+ yrs | 27      | 4       | 2       | 1       | 0       | 48      | 61      | \n",
       "| 12+ yrs | 26      | 2       | 2       | 1       | 0       | 49      | 49      | \n",
       "| 12+ yrs | 38      | 3       | 0       | 1       | 2       | 50      | 60      | \n",
       "\n",
       "\n"
      ],
      "text/plain": [
       "  education age parity induced case spontaneous stratum pooled.stratum\n",
       "1 12+ yrs   30  1      0       1    0           45      44            \n",
       "2 12+ yrs   37  1      1       1    0           46      48            \n",
       "3 12+ yrs   28  2      0       1    2           47      51            \n",
       "4 12+ yrs   27  4      2       1    0           48      61            \n",
       "5 12+ yrs   26  2      2       1    0           49      49            \n",
       "6 12+ yrs   38  3      0       1    2           50      60            "
      ]
     },
     "metadata": {},
     "output_type": "display_data"
    }
   ],
   "source": [
    "#A table with only women who have a highschool education or greater\n",
    "infert=as.data.table(infert)\n",
    "DT1<-infert[education==\"12+ yrs\"]\n",
    "head(DT1)"
   ]
  },
  {
   "cell_type": "code",
   "execution_count": 143,
   "metadata": {
    "collapsed": false
   },
   "outputs": [
    {
     "data": {
      "text/plain": [
       "   education        age            parity         induced      \n",
       " 0-5yrs :  0   Min.   :21.00   Min.   :1.000   Min.   :0.0000  \n",
       " 6-11yrs:  0   1st Qu.:26.00   1st Qu.:1.000   1st Qu.:0.0000  \n",
       " 12+ yrs:116   Median :29.00   Median :2.000   Median :0.0000  \n",
       "               Mean   :29.72   Mean   :1.862   Mean   :0.6121  \n",
       "               3rd Qu.:32.50   3rd Qu.:2.000   3rd Qu.:1.0000  \n",
       "               Max.   :38.00   Max.   :6.000   Max.   :2.0000  \n",
       "      case         spontaneous        stratum      pooled.stratum \n",
       " Min.   :0.0000   Min.   :0.0000   Min.   :45.00   Min.   :39.00  \n",
       " 1st Qu.:0.0000   1st Qu.:0.0000   1st Qu.:54.00   1st Qu.:44.00  \n",
       " Median :0.0000   Median :0.0000   Median :64.00   Median :49.00  \n",
       " Mean   :0.3362   Mean   :0.6293   Mean   :63.91   Mean   :49.37  \n",
       " 3rd Qu.:1.0000   3rd Qu.:1.0000   3rd Qu.:73.25   3rd Qu.:54.00  \n",
       " Max.   :1.0000   Max.   :2.0000   Max.   :83.00   Max.   :63.00  "
      ]
     },
     "metadata": {},
     "output_type": "display_data"
    }
   ],
   "source": [
    "summary(DT1)"
   ]
  },
  {
   "cell_type": "code",
   "execution_count": 105,
   "metadata": {
    "collapsed": false
   },
   "outputs": [
    {
     "data": {
      "text/html": [
       "<table>\n",
       "<thead><tr><th scope=col>education</th><th scope=col>age</th><th scope=col>parity</th><th scope=col>induced</th><th scope=col>case</th><th scope=col>spontaneous</th><th scope=col>stratum</th><th scope=col>pooled.stratum</th></tr></thead>\n",
       "<tbody>\n",
       "\t<tr><td>0-5yrs </td><td>26     </td><td>6      </td><td>1      </td><td>1      </td><td>2      </td><td>1      </td><td> 3     </td></tr>\n",
       "\t<tr><td>0-5yrs </td><td>42     </td><td>1      </td><td>1      </td><td>1      </td><td>0      </td><td>2      </td><td> 1     </td></tr>\n",
       "\t<tr><td>0-5yrs </td><td>39     </td><td>6      </td><td>2      </td><td>1      </td><td>0      </td><td>3      </td><td> 4     </td></tr>\n",
       "\t<tr><td>0-5yrs </td><td>34     </td><td>4      </td><td>2      </td><td>1      </td><td>0      </td><td>4      </td><td> 2     </td></tr>\n",
       "\t<tr><td>6-11yrs</td><td>35     </td><td>3      </td><td>1      </td><td>1      </td><td>1      </td><td>5      </td><td>32     </td></tr>\n",
       "\t<tr><td>6-11yrs</td><td>36     </td><td>4      </td><td>2      </td><td>1      </td><td>1      </td><td>6      </td><td>36     </td></tr>\n",
       "</tbody>\n",
       "</table>\n"
      ],
      "text/latex": [
       "\\begin{tabular}{r|llllllll}\n",
       " education & age & parity & induced & case & spontaneous & stratum & pooled.stratum\\\\\n",
       "\\hline\n",
       "\t 0-5yrs  & 26      & 6       & 1       & 1       & 2       & 1       &  3     \\\\\n",
       "\t 0-5yrs  & 42      & 1       & 1       & 1       & 0       & 2       &  1     \\\\\n",
       "\t 0-5yrs  & 39      & 6       & 2       & 1       & 0       & 3       &  4     \\\\\n",
       "\t 0-5yrs  & 34      & 4       & 2       & 1       & 0       & 4       &  2     \\\\\n",
       "\t 6-11yrs & 35      & 3       & 1       & 1       & 1       & 5       & 32     \\\\\n",
       "\t 6-11yrs & 36      & 4       & 2       & 1       & 1       & 6       & 36     \\\\\n",
       "\\end{tabular}\n"
      ],
      "text/markdown": [
       "\n",
       "education | age | parity | induced | case | spontaneous | stratum | pooled.stratum | \n",
       "|---|---|---|---|---|---|\n",
       "| 0-5yrs  | 26      | 6       | 1       | 1       | 2       | 1       |  3      | \n",
       "| 0-5yrs  | 42      | 1       | 1       | 1       | 0       | 2       |  1      | \n",
       "| 0-5yrs  | 39      | 6       | 2       | 1       | 0       | 3       |  4      | \n",
       "| 0-5yrs  | 34      | 4       | 2       | 1       | 0       | 4       |  2      | \n",
       "| 6-11yrs | 35      | 3       | 1       | 1       | 1       | 5       | 32      | \n",
       "| 6-11yrs | 36      | 4       | 2       | 1       | 1       | 6       | 36      | \n",
       "\n",
       "\n"
      ],
      "text/plain": [
       "  education age parity induced case spontaneous stratum pooled.stratum\n",
       "1 0-5yrs    26  6      1       1    2           1        3            \n",
       "2 0-5yrs    42  1      1       1    0           2        1            \n",
       "3 0-5yrs    39  6      2       1    0           3        4            \n",
       "4 0-5yrs    34  4      2       1    0           4        2            \n",
       "5 6-11yrs   35  3      1       1    1           5       32            \n",
       "6 6-11yrs   36  4      2       1    1           6       36            "
      ]
     },
     "metadata": {},
     "output_type": "display_data"
    }
   ],
   "source": [
    "#Make a table with everyone with less than 12 years of education\n",
    "DT2 <- infert[education %in% c(\"0-5yrs\",\"6-11yrs\")]\n",
    "head(DT2)"
   ]
  },
  {
   "cell_type": "code",
   "execution_count": 107,
   "metadata": {
    "collapsed": false
   },
   "outputs": [
    {
     "data": {
      "text/html": [
       "<table>\n",
       "<thead><tr><th scope=col>education</th><th scope=col>age</th><th scope=col>parity</th><th scope=col>induced</th><th scope=col>case</th><th scope=col>spontaneous</th><th scope=col>stratum</th><th scope=col>pooled.stratum</th></tr></thead>\n",
       "<tbody>\n",
       "\t<tr><td>6-11yrs</td><td>30     </td><td>3      </td><td>0      </td><td>0      </td><td>1      </td><td>39     </td><td>30     </td></tr>\n",
       "\t<tr><td>6-11yrs</td><td>28     </td><td>1      </td><td>0      </td><td>0      </td><td>0      </td><td>40     </td><td> 8     </td></tr>\n",
       "\t<tr><td>6-11yrs</td><td>39     </td><td>3      </td><td>0      </td><td>0      </td><td>0      </td><td>41     </td><td>33     </td></tr>\n",
       "\t<tr><td>6-11yrs</td><td>35     </td><td>1      </td><td>0      </td><td>0      </td><td>0      </td><td>42     </td><td>11     </td></tr>\n",
       "\t<tr><td>6-11yrs</td><td>41     </td><td>1      </td><td>0      </td><td>0      </td><td>0      </td><td>43     </td><td>15     </td></tr>\n",
       "\t<tr><td>6-11yrs</td><td>37     </td><td>2      </td><td>0      </td><td>0      </td><td>0      </td><td>44     </td><td>25     </td></tr>\n",
       "</tbody>\n",
       "</table>\n"
      ],
      "text/latex": [
       "\\begin{tabular}{r|llllllll}\n",
       " education & age & parity & induced & case & spontaneous & stratum & pooled.stratum\\\\\n",
       "\\hline\n",
       "\t 6-11yrs & 30      & 3       & 0       & 0       & 1       & 39      & 30     \\\\\n",
       "\t 6-11yrs & 28      & 1       & 0       & 0       & 0       & 40      &  8     \\\\\n",
       "\t 6-11yrs & 39      & 3       & 0       & 0       & 0       & 41      & 33     \\\\\n",
       "\t 6-11yrs & 35      & 1       & 0       & 0       & 0       & 42      & 11     \\\\\n",
       "\t 6-11yrs & 41      & 1       & 0       & 0       & 0       & 43      & 15     \\\\\n",
       "\t 6-11yrs & 37      & 2       & 0       & 0       & 0       & 44      & 25     \\\\\n",
       "\\end{tabular}\n"
      ],
      "text/markdown": [
       "\n",
       "education | age | parity | induced | case | spontaneous | stratum | pooled.stratum | \n",
       "|---|---|---|---|---|---|\n",
       "| 6-11yrs | 30      | 3       | 0       | 0       | 1       | 39      | 30      | \n",
       "| 6-11yrs | 28      | 1       | 0       | 0       | 0       | 40      |  8      | \n",
       "| 6-11yrs | 39      | 3       | 0       | 0       | 0       | 41      | 33      | \n",
       "| 6-11yrs | 35      | 1       | 0       | 0       | 0       | 42      | 11      | \n",
       "| 6-11yrs | 41      | 1       | 0       | 0       | 0       | 43      | 15      | \n",
       "| 6-11yrs | 37      | 2       | 0       | 0       | 0       | 44      | 25      | \n",
       "\n",
       "\n"
      ],
      "text/plain": [
       "  education age parity induced case spontaneous stratum pooled.stratum\n",
       "1 6-11yrs   30  3      0       0    1           39      30            \n",
       "2 6-11yrs   28  1      0       0    0           40       8            \n",
       "3 6-11yrs   39  3      0       0    0           41      33            \n",
       "4 6-11yrs   35  1      0       0    0           42      11            \n",
       "5 6-11yrs   41  1      0       0    0           43      15            \n",
       "6 6-11yrs   37  2      0       0    0           44      25            "
      ]
     },
     "metadata": {},
     "output_type": "display_data"
    }
   ],
   "source": [
    "tail(DT2)"
   ]
  },
  {
   "cell_type": "code",
   "execution_count": 145,
   "metadata": {
    "collapsed": false
   },
   "outputs": [
    {
     "data": {
      "text/plain": [
       "   education        age            parity         induced      \n",
       " 0-5yrs : 12   Min.   :21.00   Min.   :1.000   Min.   :0.0000  \n",
       " 6-11yrs:120   1st Qu.:28.75   1st Qu.:1.000   1st Qu.:0.0000  \n",
       " 12+ yrs:  0   Median :34.00   Median :2.000   Median :0.0000  \n",
       "               Mean   :33.07   Mean   :2.295   Mean   :0.5379  \n",
       "               3rd Qu.:37.00   3rd Qu.:3.000   3rd Qu.:1.0000  \n",
       "               Max.   :44.00   Max.   :6.000   Max.   :2.0000  \n",
       "      case         spontaneous        stratum      pooled.stratum \n",
       " Min.   :0.0000   Min.   :0.0000   Min.   : 1.00   Min.   : 1.00  \n",
       " 1st Qu.:0.0000   1st Qu.:0.0000   1st Qu.:11.75   1st Qu.:11.75  \n",
       " Median :0.0000   Median :0.0000   Median :22.50   Median :19.50  \n",
       " Mean   :0.3333   Mean   :0.5303   Mean   :22.50   Mean   :19.70  \n",
       " 3rd Qu.:1.0000   3rd Qu.:1.0000   3rd Qu.:33.25   3rd Qu.:28.25  \n",
       " Max.   :1.0000   Max.   :2.0000   Max.   :44.00   Max.   :38.00  "
      ]
     },
     "metadata": {},
     "output_type": "display_data"
    }
   ],
   "source": [
    "summary(DT2)"
   ]
  },
  {
   "cell_type": "code",
   "execution_count": 142,
   "metadata": {
    "collapsed": false
   },
   "outputs": [
    {
     "data": {
      "image/png": "[encoded data removed]",
      "text/plain": [
       "Plot with title \"Histogram of infert$parity\""
      ]
     },
     "metadata": {},
     "output_type": "display_data"
    }
   ],
   "source": [
    "hist(infert$parity, breaks=6)\n",
    "#Parity is the number of pregancies the women in the study carried out to term"
   ]
  },
  {
   "cell_type": "code",
   "execution_count": 140,
   "metadata": {
    "collapsed": false
   },
   "outputs": [
    {
     "data": {
      "image/png": "[encoded data removed]",
      "text/plain": [
       "Plot with title \"Histogram of DT2$parity\""
      ]
     },
     "metadata": {},
     "output_type": "display_data"
    }
   ],
   "source": [
    "#DT2 was our dataset of people with less than a high school education\n",
    "hist(DT2$parity, breaks=6)"
   ]
  },
  {
   "cell_type": "code",
   "execution_count": 141,
   "metadata": {
    "collapsed": false
   },
   "outputs": [
    {
     "data": {
      "image/png": "[encoded data removed]",
      "text/plain": [
       "Plot with title \"Histogram of DT1$parity\""
      ]
     },
     "metadata": {},
     "output_type": "display_data"
    }
   ],
   "source": [
    "#DT1 was education 12+ years, we see that there is a lower frequency of having more than 2 full \"parity\" births \n",
    "\n",
    "hist(DT1$parity, breaks=6)"
   ]
  },
  {
   "cell_type": "code",
   "execution_count": 148,
   "metadata": {
    "collapsed": false
   },
   "outputs": [
    {
     "data": {
      "text/plain": [
       "\n",
       "\tWelch Two Sample t-test\n",
       "\n",
       "data:  (DT1$parity) and +(DT2$parity)\n",
       "t = -2.7938, df = 244.57, p-value = 0.005621\n",
       "alternative hypothesis: true difference in means is not equal to 0\n",
       "95 percent confidence interval:\n",
       " -0.7389301 -0.1278410\n",
       "sample estimates:\n",
       "mean of x mean of y \n",
       " 1.862069  2.295455 \n"
      ]
     },
     "metadata": {},
     "output_type": "display_data"
    }
   ],
   "source": [
    "t.test((DT1$parity),\n",
    "+ (DT2$parity))"
   ]
  },
  {
   "cell_type": "code",
   "execution_count": null,
   "metadata": {
    "collapsed": true
   },
   "outputs": [],
   "source": [
    "#t.test proves this hypothesis that the number of parity births of highschool educated women to \n",
    "#women with less education are significantly different with a p value lower than .05"
   ]
  },
  {
   "cell_type": "code",
   "execution_count": null,
   "metadata": {
    "collapsed": true
   },
   "outputs": [],
   "source": []
  },
  {
   "cell_type": "code",
   "execution_count": 108,
   "metadata": {
    "collapsed": false
   },
   "outputs": [
    {
     "data": {
      "text/plain": [
       "\n",
       "Call:\n",
       "glm(formula = case ~ spontaneous + induced, family = binomial(), \n",
       "    data = infert)\n",
       "\n",
       "Deviance Residuals: \n",
       "    Min       1Q   Median       3Q      Max  \n",
       "-1.6678  -0.8360  -0.5772   0.9030   1.9362  \n",
       "\n",
       "Coefficients:\n",
       "            Estimate Std. Error z value Pr(>|z|)    \n",
       "(Intercept)  -1.7079     0.2677  -6.380 1.78e-10 ***\n",
       "spontaneous   1.1972     0.2116   5.657 1.54e-08 ***\n",
       "induced       0.4181     0.2056   2.033    0.042 *  \n",
       "---\n",
       "Signif. codes:  0 '***' 0.001 '**' 0.01 '*' 0.05 '.' 0.1 ' ' 1\n",
       "\n",
       "(Dispersion parameter for binomial family taken to be 1)\n",
       "\n",
       "    Null deviance: 316.17  on 247  degrees of freedom\n",
       "Residual deviance: 279.61  on 245  degrees of freedom\n",
       "AIC: 285.61\n",
       "\n",
       "Number of Fisher Scoring iterations: 4\n"
      ]
     },
     "metadata": {},
     "output_type": "display_data"
    },
    {
     "data": {
      "text/plain": [
       "\n",
       "Call:\n",
       "glm(formula = case ~ age + parity + education + spontaneous + \n",
       "    induced, family = binomial(), data = infert)\n",
       "\n",
       "Deviance Residuals: \n",
       "    Min       1Q   Median       3Q      Max  \n",
       "-1.7603  -0.8162  -0.4956   0.8349   2.6536  \n",
       "\n",
       "Coefficients:\n",
       "                 Estimate Std. Error z value Pr(>|z|)    \n",
       "(Intercept)      -1.14924    1.41220  -0.814   0.4158    \n",
       "age               0.03958    0.03120   1.269   0.2046    \n",
       "parity           -0.82828    0.19649  -4.215 2.49e-05 ***\n",
       "education6-11yrs -1.04424    0.79255  -1.318   0.1876    \n",
       "education12+ yrs -1.40321    0.83416  -1.682   0.0925 .  \n",
       "spontaneous       2.04591    0.31016   6.596 4.21e-11 ***\n",
       "induced           1.28876    0.30146   4.275 1.91e-05 ***\n",
       "---\n",
       "Signif. codes:  0 '***' 0.001 '**' 0.01 '*' 0.05 '.' 0.1 ' ' 1\n",
       "\n",
       "(Dispersion parameter for binomial family taken to be 1)\n",
       "\n",
       "    Null deviance: 316.17  on 247  degrees of freedom\n",
       "Residual deviance: 257.80  on 241  degrees of freedom\n",
       "AIC: 271.8\n",
       "\n",
       "Number of Fisher Scoring iterations: 4\n"
      ]
     },
     "metadata": {},
     "output_type": "display_data"
    },
    {
     "name": "stderr",
     "output_type": "stream",
     "text": [
      "Loading required package: survival\n"
     ]
    },
    {
     "name": "stdout",
     "output_type": "stream",
     "text": [
      "Call:\n",
      "coxph(formula = Surv(rep(1, 248L), case) ~ spontaneous + induced + \n",
      "    strata(stratum), data = infert, method = \"exact\")\n",
      "\n",
      "  n= 248, number of events= 83 \n",
      "\n",
      "              coef exp(coef) se(coef)     z Pr(>|z|)    \n",
      "spontaneous 1.9859    7.2854   0.3524 5.635 1.75e-08 ***\n",
      "induced     1.4090    4.0919   0.3607 3.906 9.38e-05 ***\n",
      "---\n",
      "Signif. codes:  0 '***' 0.001 '**' 0.01 '*' 0.05 '.' 0.1 ' ' 1\n",
      "\n",
      "            exp(coef) exp(-coef) lower .95 upper .95\n",
      "spontaneous     7.285     0.1373     3.651    14.536\n",
      "induced         4.092     0.2444     2.018     8.298\n",
      "\n",
      "Rsquare= 0.193   (max possible= 0.519 )\n",
      "Likelihood ratio test= 53.15  on 2 df,   p=2.869e-12\n",
      "Wald test            = 31.84  on 2 df,   p=1.221e-07\n",
      "Score (logrank) test = 48.44  on 2 df,   p=3.032e-11\n",
      "\n"
     ]
    }
   ],
   "source": [
    "require(stats)\n",
    "model1 <- glm(case ~ spontaneous+induced, data = infert, family = binomial())\n",
    "summary(model1)\n",
    "## adjusted for other potential confounders:\n",
    "summary(model2 <- glm(case ~ age+parity+education+spontaneous+induced,\n",
    "                     data = infert, family = binomial()))\n",
    "## Really should be analysed by conditional logistic regression\n",
    "## which is in the survival package\n",
    "if(require(survival)){\n",
    "  model3 <- clogit(case ~ spontaneous+induced+strata(stratum), data = infert)\n",
    "  print(summary(model3))\n",
    "  detach()  # survival (conflicts)\n",
    "}"
   ]
  },
  {
   "cell_type": "code",
   "execution_count": 111,
   "metadata": {
    "collapsed": false
   },
   "outputs": [
    {
     "ename": "ERROR",
     "evalue": "Error in parse(text = x, srcfile = src): <text>:3:32: unexpected symbol\n2: \n3: f = ans[ans['infert'] == 'age'].plot\n                                  ^\n",
     "output_type": "error",
     "traceback": [
      "Error in parse(text = x, srcfile = src): <text>:3:32: unexpected symbol\n2: \n3: f = ans[ans['infert'] == 'age'].plot\n                                  ^\nTraceback:\n"
     ]
    }
   ],
   "source": []
  },
  {
   "cell_type": "code",
   "execution_count": null,
   "metadata": {
    "collapsed": true
   },
   "outputs": [],
   "source": []
  }
 ],
 "metadata": {
  "kernelspec": {
   "display_name": "R",
   "language": "R",
   "name": "ir"
  },
  "language_info": {
   "codemirror_mode": "r",
   "file_extension": ".r",
   "mimetype": "text/x-r-source",
   "name": "R",
   "pygments_lexer": "r",
   "version": "3.3.2"
  }
 },
 "nbformat": 4,
 "nbformat_minor": 2
}
